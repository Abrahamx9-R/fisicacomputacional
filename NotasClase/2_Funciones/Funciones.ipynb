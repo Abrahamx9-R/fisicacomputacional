{
 "cells": [
  {
   "cell_type": "markdown",
   "metadata": {},
   "source": [
    "# Funciones\n",
    "\n",
    "Ya hemos visto algunas funciones pre-definidas, pero eso nos deja casi en el nivel de una calculadora. \n",
    "\n",
    "En este notebook veremos cómo definir funciones propias que podamos aplicar a nuestros objetos. Con esto tendremos todo lo necesario para \"hablar Julia\". Es decir, tendremos las oraciones completas, con sujeto (los objetos) y predicado (las funciones). \n",
    "\n",
    "## Forma directa de definir una función. \n",
    "\n",
    "Ya vimos también que una forma directa de definir una función, es usando el signo \"=\":"
   ]
  },
  {
   "cell_type": "code",
   "execution_count": 6,
   "metadata": {},
   "outputs": [
    {
     "data": {
      "text/plain": [
       "cuadrado (generic function with 1 method)"
      ]
     },
     "execution_count": 6,
     "metadata": {},
     "output_type": "execute_result"
    }
   ],
   "source": [
    "cuadrado(x) = x^2"
   ]
  },
  {
   "cell_type": "code",
   "execution_count": 7,
   "metadata": {},
   "outputs": [
    {
     "data": {
      "text/plain": [
       "25"
      ]
     },
     "execution_count": 7,
     "metadata": {},
     "output_type": "execute_result"
    }
   ],
   "source": [
    "cuadrado(5)"
   ]
  },
  {
   "cell_type": "code",
   "execution_count": 8,
   "metadata": {},
   "outputs": [
    {
     "data": {
      "text/plain": [
       "saludo (generic function with 1 method)"
      ]
     },
     "execution_count": 8,
     "metadata": {},
     "output_type": "execute_result"
    }
   ],
   "source": [
    "saludo(nombre::String) = \"Hola $nombre, ¿cómo te va?\""
   ]
  },
  {
   "cell_type": "code",
   "execution_count": 9,
   "metadata": {},
   "outputs": [
    {
     "data": {
      "text/plain": [
       "\"Hola Ata, ¿cómo te va?\""
      ]
     },
     "execution_count": 9,
     "metadata": {},
     "output_type": "execute_result"
    }
   ],
   "source": [
    "saludo(\"Ata\")"
   ]
  },
  {
   "cell_type": "markdown",
   "metadata": {},
   "source": [
    "Esta clase de funciones son útiles, pero si por ejemplo queremos hacer la siguiente función: \n",
    "\n",
    "\n",
    "\\begin{equation}\n",
    "f(x) = \\begin{cases} \n",
    "x/2 &\\mbox{if } x < 0 \\\\\n",
    "x^2 & \\mbox{if } x \\ge 0 \n",
    "\\end{cases}.\n",
    "\\end{equation}\n",
    "\n",
    "tendremos problemas para definirla. Para ello necesitamos primero que nada definir el condicional **if**"
   ]
  },
  {
   "cell_type": "markdown",
   "metadata": {},
   "source": [
    "## Bloques de código\n",
    "\n",
    "Llamaremos bloques de código, o simplemente bloques, a todos los comandos que para terminarlos se utiliza la palabra **end**. Es decir, típicamente tienen la forma \n",
    "\n",
    "    comando algo\n",
    "        código\n",
    "    end\n",
    "    \n",
    "No veremos todos los tipos de bloques, pero veremos los principales, comenzando por el condicional **if**.\n",
    "\n",
    "### Condicional if\n",
    "\n",
    "**Nota:** Este condicional tiene una forma compacta de escribirse, pero no es cómo para leerse, así que omitiré cómo hacerlo. En este curso (y recomendable en su vida), no utilicen la forma compacta de escribir el condicional if. "
   ]
  },
  {
   "cell_type": "markdown",
   "metadata": {},
   "source": [
    "Para iniciar el condicional if, se escribe tal cual la palabra **if** en minúsculas. Segudio se tiene que dar la condición, que debe un booleano que si es \"true\" se aplica la condición, si no, se omite. Después se escriben las instrucciones que se deben seguir y finalmente se termina con un **end**. Por ejemplo: "
   ]
  },
  {
   "cell_type": "code",
   "execution_count": 10,
   "metadata": {},
   "outputs": [
    {
     "name": "stdout",
     "output_type": "stream",
     "text": [
      "hola\n"
     ]
    }
   ],
   "source": [
    "if 1 <= 2\n",
    "    println(\"hola\")\n",
    "end"
   ]
  },
  {
   "cell_type": "markdown",
   "metadata": {},
   "source": [
    "Además de incluir una acción en caso de que se cumpla la condición, se puede agregar otra acción en caso de que no se cumpla la condición, esto se hace con \"else\": "
   ]
  },
  {
   "cell_type": "code",
   "execution_count": 11,
   "metadata": {},
   "outputs": [
    {
     "name": "stdout",
     "output_type": "stream",
     "text": [
      "hola\n"
     ]
    }
   ],
   "source": [
    "test = true\n",
    "if test\n",
    "    println(\"hola\")\n",
    "else\n",
    "    println(\"adiós\")\n",
    "end"
   ]
  },
  {
   "cell_type": "markdown",
   "metadata": {},
   "source": [
    "Finalmente, se puede incluir un condicional interno en caso de que no se cumpla el primero o los primeros. Para esto se usa \"elseif\" seguido de la siguiente condición: "
   ]
  },
  {
   "cell_type": "code",
   "execution_count": 12,
   "metadata": {},
   "outputs": [
    {
     "name": "stdout",
     "output_type": "stream",
     "text": [
      "Buenos días señorita fulanita\n"
     ]
    }
   ],
   "source": [
    "nombre = \"fulanita\"\n",
    "genero = \"mujer\"\n",
    "if genero == \"mujer\"\n",
    "    println(\"Buenos días señorita $nombre\")\n",
    "elseif genero == \"hombre\"\n",
    "    println(\"Buenos días señor $nombre\")\n",
    "elseif genero == \"gato\"\n",
    "    println(\"miua miau $nombre\")\n",
    "else\n",
    "    println(\"No saludo si no sé que eres\")\n",
    "end"
   ]
  },
  {
   "cell_type": "markdown",
   "metadata": {},
   "source": [
    "### Bloques de funciones\n",
    "\n",
    "Cuando una función es más compleja que una linea de código, conviene definir dónde comienza (con el comando **function**) y dónde termina (**end**). Por ejemplo: "
   ]
  },
  {
   "cell_type": "code",
   "execution_count": 13,
   "metadata": {},
   "outputs": [
    {
     "data": {
      "text/plain": [
       "saludo (generic function with 2 methods)"
      ]
     },
     "execution_count": 13,
     "metadata": {},
     "output_type": "execute_result"
    }
   ],
   "source": [
    "function saludo(nombre, genero)\n",
    "    if genero == \"mujer\"\n",
    "        println(\"Buenos días señorita $nombre\")\n",
    "        1\n",
    "    elseif genero == \"hombre\"\n",
    "        println(\"Buenos días señor $nombre\")\n",
    "        2\n",
    "        3\n",
    "    elseif genero == \"gato\"\n",
    "        println(\"miua miau $nombre\")\n",
    "        3\n",
    "    else\n",
    "        println(\"No saludo si no sé que eres\")\n",
    "    end\n",
    "    1\n",
    "end "
   ]
  },
  {
   "cell_type": "code",
   "execution_count": 14,
   "metadata": {},
   "outputs": [
    {
     "data": {
      "text/plain": [
       "\"Hola Ata, ¿cómo te va?\""
      ]
     },
     "execution_count": 14,
     "metadata": {},
     "output_type": "execute_result"
    }
   ],
   "source": [
    "saludo(\"Ata\")"
   ]
  },
  {
   "cell_type": "code",
   "execution_count": 15,
   "metadata": {},
   "outputs": [
    {
     "name": "stdout",
     "output_type": "stream",
     "text": [
      "Buenos días señor Ata\n"
     ]
    },
    {
     "data": {
      "text/plain": [
       "1"
      ]
     },
     "execution_count": 15,
     "metadata": {},
     "output_type": "execute_result"
    }
   ],
   "source": [
    "saludo(\"Ata\", \"hombre\")"
   ]
  },
  {
   "cell_type": "code",
   "execution_count": 16,
   "metadata": {},
   "outputs": [
    {
     "name": "stdout",
     "output_type": "stream",
     "text": [
      "Buenos días señorita Fulanita\n"
     ]
    },
    {
     "data": {
      "text/plain": [
       "1"
      ]
     },
     "execution_count": 16,
     "metadata": {},
     "output_type": "execute_result"
    }
   ],
   "source": [
    "saludo(\"Fulanita\", \"mujer\")"
   ]
  },
  {
   "cell_type": "code",
   "execution_count": 17,
   "metadata": {},
   "outputs": [
    {
     "name": "stdout",
     "output_type": "stream",
     "text": [
      "miua miau Nimbu\n"
     ]
    },
    {
     "data": {
      "text/plain": [
       "1"
      ]
     },
     "execution_count": 17,
     "metadata": {},
     "output_type": "execute_result"
    }
   ],
   "source": [
    "saludo(\"Nimbu\", \"gato\")"
   ]
  },
  {
   "cell_type": "code",
   "execution_count": 18,
   "metadata": {},
   "outputs": [
    {
     "name": "stdout",
     "output_type": "stream",
     "text": [
      "No saludo si no sé que eres\n"
     ]
    },
    {
     "data": {
      "text/plain": [
       "1"
      ]
     },
     "execution_count": 18,
     "metadata": {},
     "output_type": "execute_result"
    }
   ],
   "source": [
    "saludo(\"Beethoven\", \"perro\")"
   ]
  },
  {
   "cell_type": "markdown",
   "metadata": {},
   "source": [
    "Además, vale la pena definir el comando \"return\" que lo único que hace es regresar lo que se tenga delante y terminar la función (o bloque de código). "
   ]
  },
  {
   "cell_type": "code",
   "execution_count": 19,
   "metadata": {},
   "outputs": [
    {
     "data": {
      "text/plain": [
       "f (generic function with 1 method)"
      ]
     },
     "execution_count": 19,
     "metadata": {},
     "output_type": "execute_result"
    }
   ],
   "source": [
    "function f(x)\n",
    "    if x < 0\n",
    "        return x/2\n",
    "        33\n",
    "    else\n",
    "        return x^2\n",
    "    end\n",
    "end"
   ]
  },
  {
   "cell_type": "code",
   "execution_count": 20,
   "metadata": {},
   "outputs": [
    {
     "data": {
      "text/plain": [
       "(4, -0.5)"
      ]
     },
     "execution_count": 20,
     "metadata": {},
     "output_type": "execute_result"
    }
   ],
   "source": [
    "f(2), f(-1)"
   ]
  },
  {
   "cell_type": "code",
   "execution_count": 21,
   "metadata": {},
   "outputs": [
    {
     "data": {
      "text/plain": [
       "2"
      ]
     },
     "execution_count": 21,
     "metadata": {},
     "output_type": "execute_result"
    }
   ],
   "source": [
    "begin # este tipo de bloque no requiere nada más que un comando y dónde termina el bloque. \n",
    "    x = 2\n",
    "    return x\n",
    "    y = x + 3\n",
    "    return y\n",
    "end"
   ]
  },
  {
   "cell_type": "markdown",
   "metadata": {},
   "source": [
    "aquí por ejemplo, nunca calcula $y$, porque antes de definirlo se regresa el valor de $x$ y se termina el bloque de código. "
   ]
  },
  {
   "cell_type": "markdown",
   "metadata": {},
   "source": [
    "Con esto podemos hacer realmente mucho si somos creativos. Una de las estrategias para ser creativos es usar funciones iterativas implícitas, es decir, que en su misma definición se corren a si mismas. Por ejemplo: "
   ]
  },
  {
   "cell_type": "markdown",
   "metadata": {},
   "source": [
    "$x_n = 1/x_{n-1} +1$"
   ]
  },
  {
   "cell_type": "code",
   "execution_count": 22,
   "metadata": {},
   "outputs": [
    {
     "data": {
      "text/plain": [
       "golden"
      ]
     },
     "execution_count": 22,
     "metadata": {},
     "output_type": "execute_result"
    }
   ],
   "source": [
    "function golden(n, i, dorado)\n",
    "    if i >= n \n",
    "        return i, dorado\n",
    "    end\n",
    "    dorado = 1 / dorado + 1\n",
    "    i += 1\n",
    "    i, dorado = golden(n, i, dorado)\n",
    "    return i, dorado\n",
    "end\n",
    "\n",
    "\"\"\"\n",
    "Esta función calcula el número dorado con iteraciones y tiene como argumento n un natural, que es el número de iteraciones. \n",
    "\"\"\"\n",
    "function golden(n) # esta función calcula el número dorado con iteraciones\n",
    "    i, dorado = golden(n, 0, 1)\n",
    "    return dorado\n",
    "end\n",
    "    "
   ]
  },
  {
   "cell_type": "code",
   "execution_count": 23,
   "metadata": {},
   "outputs": [
    {
     "name": "stdout",
     "output_type": "stream",
     "text": [
      "search: \u001b[0m\u001b[1mg\u001b[22m\u001b[0m\u001b[1mo\u001b[22m\u001b[0m\u001b[1ml\u001b[22m\u001b[0m\u001b[1md\u001b[22m\u001b[0m\u001b[1me\u001b[22m\u001b[0m\u001b[1mn\u001b[22m\n",
      "\n"
     ]
    },
    {
     "data": {
      "text/latex": [
       "Esta función calcula el número dorado con iteraciones y tiene como argumento n un natural, que es el número de iteraciones. \n",
       "\n"
      ],
      "text/markdown": [
       "Esta función calcula el número dorado con iteraciones y tiene como argumento n un natural, que es el número de iteraciones. \n"
      ],
      "text/plain": [
       "  Esta función calcula el número dorado con iteraciones y tiene como argumento\n",
       "  n un natural, que es el número de iteraciones."
      ]
     },
     "execution_count": 23,
     "metadata": {},
     "output_type": "execute_result"
    }
   ],
   "source": [
    "? golden"
   ]
  },
  {
   "cell_type": "code",
   "execution_count": 24,
   "metadata": {},
   "outputs": [
    {
     "data": {
      "text/plain": [
       "suma (generic function with 2 methods)"
      ]
     },
     "execution_count": 24,
     "metadata": {},
     "output_type": "execute_result"
    }
   ],
   "source": [
    "\"\"\"\n",
    "suma(n, contador, s) usa iteraciones para sumar los primeros n números. contador y s tienen que ponerse igual a 0. Si s \n",
    "comienza en otra cantidad, se sumará esa cantidad al valor final. Si contador comienza en otra cantidad, se sumará hasta \n",
    "n - contador\n",
    "\"\"\"\n",
    "function suma(n, contador, s)\n",
    "    if contador >= n\n",
    "        return contador, s\n",
    "    end\n",
    "    contador = contador + 1\n",
    "    s = s + contador\n",
    "    contador, s = suma(n, contador, s)\n",
    "end\n",
    "function suma(n)\n",
    "    contador, s = suma(n, 0, 0)\n",
    "    return s\n",
    "end"
   ]
  },
  {
   "cell_type": "code",
   "execution_count": 25,
   "metadata": {},
   "outputs": [
    {
     "data": {
      "text/plain": [
       "(125250, 125250)"
      ]
     },
     "execution_count": 25,
     "metadata": {},
     "output_type": "execute_result"
    }
   ],
   "source": [
    "suma(500), sum(1:500)"
   ]
  },
  {
   "cell_type": "markdown",
   "metadata": {},
   "source": [
    "Aunque es bastante poderoso esto de las iteraciones implícitas, frecuentemente conviene escribir las iteraciones de una forma más explícita y para eso hay 2 ciclos que usaremos, for y while. "
   ]
  },
  {
   "cell_type": "markdown",
   "metadata": {},
   "source": [
    "### Ciclos for\n",
    "\n",
    "Los cilos for ya los hemos visto en la notación compacta de arreglos y matrices. Ahora los usaremos para indicar que algo se debe repetir para un conjunto de valores. En general se sigue la estructura\n",
    "\n",
    "for variable $\\in$ arreglo\n",
    "\n",
    "        proceso\n",
    "        \n",
    "end\n",
    "\n",
    "por ejemplo: "
   ]
  },
  {
   "cell_type": "code",
   "execution_count": 26,
   "metadata": {},
   "outputs": [
    {
     "name": "stdout",
     "output_type": "stream",
     "text": [
      "el cuadrado de x es 1\n",
      "el cuadrado de x es 9\n",
      "el cuadrado de x es 25\n",
      "el cuadrado de x es [7 10; 15 22]\n",
      "el cuadrado de x es hola hola \n"
     ]
    }
   ],
   "source": [
    "for x ∈ [1,3,5,[1 2;3 4],\"hola \"]\n",
    "    println(\"el cuadrado de x es $(x^2)\")\n",
    "end"
   ]
  },
  {
   "cell_type": "markdown",
   "metadata": {},
   "source": [
    "Es muy común usar en el arreglo un rango: "
   ]
  },
  {
   "cell_type": "code",
   "execution_count": 27,
   "metadata": {},
   "outputs": [
    {
     "name": "stdout",
     "output_type": "stream",
     "text": [
      "i cuadrada es 1\n",
      "i cuadrada es 16\n",
      "i cuadrada es 81\n",
      "i cuadrada es 256\n",
      "i cuadrada es 625\n",
      "i cuadrada es 1296\n",
      "i cuadrada es 2401\n",
      "i cuadrada es 4096\n",
      "i cuadrada es 6561\n",
      "i cuadrada es 10000\n"
     ]
    }
   ],
   "source": [
    "for i ∈ [i^2 for i ∈ 1:10]\n",
    "    println(\"i cuadrada es $(i^2)\")\n",
    "end"
   ]
  },
  {
   "cell_type": "code",
   "execution_count": 28,
   "metadata": {},
   "outputs": [
    {
     "name": "stdout",
     "output_type": "stream",
     "text": [
      "1\n",
      "9\n",
      "25\n",
      "[7 10; 15 22]\n",
      "hola hola \n"
     ]
    }
   ],
   "source": [
    "a = [1,3,5,[1 2;3 4],\"hola \"]\n",
    "for i ∈ 1:length(a)\n",
    "    println(a[i]^2)\n",
    "end"
   ]
  },
  {
   "cell_type": "markdown",
   "metadata": {},
   "source": [
    "Esto hará que tiendan a escribir siempre for i in rango. No se acostumbren demasiado. Con la notación compacta de arreglos pueden hacer mejores códigos si en vez de recorrer la variable sobre un rango, la recorren sobre los elementos de un arreglo.\n",
    "\n",
    "Por ejemplo, es mejor:"
   ]
  },
  {
   "cell_type": "code",
   "execution_count": 29,
   "metadata": {},
   "outputs": [
    {
     "name": "stdout",
     "output_type": "stream",
     "text": [
      "[1, 2]\n",
      "[2, 3]\n",
      "[3, 4]\n"
     ]
    }
   ],
   "source": [
    "a = [[1,2], [2,3], [3,4]]\n",
    "for x ∈ a\n",
    "    println(x)\n",
    "end"
   ]
  },
  {
   "cell_type": "markdown",
   "metadata": {},
   "source": [
    "que: "
   ]
  },
  {
   "cell_type": "code",
   "execution_count": 30,
   "metadata": {},
   "outputs": [
    {
     "name": "stdout",
     "output_type": "stream",
     "text": [
      "[1, 2]\n",
      "[2, 3]\n",
      "[3, 4]\n"
     ]
    }
   ],
   "source": [
    "a = [[1,2], [2,3], [3,4]]\n",
    "for i ∈ 1:3\n",
    "    println(a[i])\n",
    "end"
   ]
  },
  {
   "cell_type": "markdown",
   "metadata": {},
   "source": [
    "El resultado es lo mismo (ambos están bien), pero en el primer caso utilizamos directamente el arreglo, lo que hace más legible el código y un código más legible frecuentemente es más rápido y tiene menos errores. \n",
    "\n",
    "Con los ciclos conviene aprender 2 comandos útiles. **continue** y **break**. \n",
    "\n",
    "Típicamente estos se usan junto con el condicional if y sirven para **pasar directamente al siguiente paso del ciclo** y para **terminar anticipadamente el ciclo** respectivamente. "
   ]
  },
  {
   "cell_type": "code",
   "execution_count": 31,
   "metadata": {},
   "outputs": [
    {
     "name": "stdout",
     "output_type": "stream",
     "text": [
      "1\n",
      "2\n",
      "4\n",
      "1hola\n",
      "1\n",
      "2\n",
      "4\n",
      "2hola\n"
     ]
    }
   ],
   "source": [
    "for j in 1:2\n",
    "    for i ∈ 1:10000\n",
    "        if i == 3  || i> 10\n",
    "            continue\n",
    "        end\n",
    "        println(i)\n",
    "        if i == 4\n",
    "            break\n",
    "        end\n",
    "    end\n",
    "    println(j, \"hola\")\n",
    "end"
   ]
  },
  {
   "cell_type": "markdown",
   "metadata": {},
   "source": [
    "Estos dos comandos son súmamente útiles para eficientar los códigos, ayudan a evitar cálculos inútiles que quitan tiempo de cómputo. "
   ]
  },
  {
   "cell_type": "markdown",
   "metadata": {},
   "source": [
    "### Ciclo while. \n",
    "\n",
    "El ciclo while (mientras), sirve para pedir a la computadora que realice una (o varias) acción(es) mientras se cumpla una determinada condición, es decir, mientras una determinada función booleana arroje true. Es un tipo de ciclo \"peligroso\", porque puede durar eternamente. Por ejemplo\n",
    "\n",
    "while true\n",
    "\n",
    "end\n",
    "\n",
    "es un ciclo que nunca termina. Los ciclos que nunca terminan se pueden a veces detener con el símbolo de \"stop\" del notebook, pero a veces eso falla y se tiene que reiniciar el kernel (y se pierde todo lo que se haya hecho). Por eso vale la pena correr los ciclos while con un contador como \"salida de emergencia\": "
   ]
  },
  {
   "cell_type": "code",
   "execution_count": 32,
   "metadata": {},
   "outputs": [],
   "source": [
    "contador = 0\n",
    "while true && contador <1000\n",
    "    contador += 1\n",
    "end\n",
    "\n",
    "# o equivalentemente\n",
    "contador = 0\n",
    "while true \n",
    "    contador += 1\n",
    "    if contador>1000\n",
    "        break\n",
    "    end \n",
    "end"
   ]
  },
  {
   "cell_type": "markdown",
   "metadata": {},
   "source": [
    "Es decir, agreguen al, menos mientras prueban sus códigos, a todos los ciclos while una condición similar con su respectivo contador. \n",
    "\n",
    "Aclarado esto, demos un ejemplo de cómo usar el ciclo while. "
   ]
  },
  {
   "cell_type": "code",
   "execution_count": 33,
   "metadata": {},
   "outputs": [
    {
     "data": {
      "text/plain": [
       "(10001628, 4472)"
      ]
     },
     "execution_count": 33,
     "metadata": {},
     "output_type": "execute_result"
    }
   ],
   "source": [
    "contador = 0\n",
    "suma2 = 0\n",
    "while suma2<10_000_500 && contador <1e8\n",
    "    contador += 1\n",
    "    suma2 += contador\n",
    "end\n",
    "suma2, contador  #calcula la suma de los primeros n números de tal forma que se detiene cuando la suma sobrepasa 99. \n",
    "#contador nos dice hasta qué número se sumó"
   ]
  },
  {
   "cell_type": "markdown",
   "metadata": {},
   "source": [
    "Ahora sí, combinando los ciclos for y while y el condicional if dentro de una función uno puede hacer toda clase de funciones increíbles. Especialmente si uno agrega sus propios objetos. \n",
    "\n",
    "**Nota:** en general una función no debe superar las 50 lineas de código. Hay excepciones, pero lo mejor es tratar de tener funciones muy cortas. Si una función es compleja, conviene separarla en pequeñas funciones más simples (legibles). Entre más pequeñas son las funciones, mejor están escritas. \n",
    "\n",
    "**Ejemplo \"complicado\":**"
   ]
  },
  {
   "cell_type": "code",
   "execution_count": 34,
   "metadata": {},
   "outputs": [],
   "source": [
    "using LinearAlgebra"
   ]
  },
  {
   "cell_type": "code",
   "execution_count": 35,
   "metadata": {},
   "outputs": [],
   "source": [
    "mutable struct Persona            # Objeto persona, contiene\n",
    "    estado_de_salud::Symbol       # un estao de salud que puede ser: :suceptible, :infectado, :enfermo, :muerto o :recuperado. \n",
    "    edad::Int                     # la edad de la persona\n",
    "    tiempo_salud::Real            # el tiempo que lleva la persona en ese estado de salud en días. \n",
    "    posicion::Array{Float64,1}    # Un vector de posición de la persona. \n",
    "    velocidad::Array{Float64,1}   # un vector de la velocidad de la persona.\n",
    "end "
   ]
  },
  {
   "cell_type": "code",
   "execution_count": 36,
   "metadata": {},
   "outputs": [
    {
     "data": {
      "text/plain": [
       "evolucionar!"
      ]
     },
     "execution_count": 36,
     "metadata": {},
     "output_type": "execute_result"
    }
   ],
   "source": [
    "\"\"\"\n",
    "Hace una simulació  para saber con probabilidad p_contagiar, si una dos personas se contagian, considerando\n",
    "un radio de contagio rango_de_contagio. Actualiza la característica del estado_de_salud de los involucrados y también \n",
    "el tiempo_salud si alguno se contagia. \n",
    "\"\"\"\n",
    "function contagiar!(p1::Persona,p2::Persona; rango_de_contagio = 1, p_contagiar = 0.5) \n",
    "    if norm(p1.posicion-p2.posicion) < rango_de_contagio   # si las personas están en el rango de contagio\n",
    "        if (p1.estado_de_salud == :suceptible && p2.estado_de_salud ∈ [:infectado, :enfermo])  # si uno es suceptible y el otro enfermo o infectado\n",
    "            test = rand()\n",
    "            if test<p_contagiar  # el suceptible se enferma con probabilidad de contaciar p_contagiar\n",
    "                p1.estado_de_salud = :infectado\n",
    "                p1.tiempo_salud = 0   #el tiempo del estado de salud se actualiza a 0. \n",
    "                return true\n",
    "            end\n",
    "        elseif (p2.estado_de_salud == :suceptible && p1.estado_de_salud ∈ [:infectado, :enfermo]) #esto es lo mismo que arriba, pero intercambiando quién es suceptible con el infectado. \n",
    "            test = rand()\n",
    "            if test<p_contagiar\n",
    "                p2.estado_de_salud = :infectado\n",
    "                p2.tiempo_salud = 0\n",
    "                return true\n",
    "            end\n",
    "        end\n",
    "    end\n",
    "    return false  #si no hay contagio regresa false\n",
    "end    \n",
    "\n",
    "\"\"\"\n",
    "Actualiza la posición de un conjunto de personas un tiempo delta t\n",
    "\"\"\"\n",
    "function mover!(p::Persona...; δt = 0.01)\n",
    "    for ps in p  \n",
    "        ps.posicion .+= ps.velocidad*δt  # para cada persona de la tupla actualiza la posición. \n",
    "    end\n",
    "end\n",
    "\n",
    "\"\"\"\n",
    "Actualiza la velocidad de un conjunto de personas cambiando aleatoriamente la dirección de movimiento \n",
    "\"\"\"\n",
    "function cambiar_velocidad!(p::Persona...)\n",
    "    for ps ∈ p # para cada persona en la tupla\n",
    "        test = rand()\n",
    "        if test<0.2\n",
    "            θ = rand(0:0.001:2π) # se obtiene un valor aleatorio entre 0 y 2pi para el ángulo. \n",
    "            v₀ = [cos(θ), sin(θ)]*0.1 # se obtiene un vector de velocidad pequeño y aleatorio con distribución normal en el círculo\n",
    "            ps.velocidad .+= v₀  # se actualiza la velocidad de la persona cambiandola \"ligeramente\" de forma aleatoria.\n",
    "        end\n",
    "    end\n",
    "end\n",
    "\n",
    "\"\"\"\n",
    "Evoluciona un paso de tiempo delta t a un conjunto de personas. \n",
    "\"\"\"\n",
    "function evolucionar!(p::Persona...; p_enfermar = 0.1, p_muerte = 0.1, δt = 0.01)\n",
    "    for ps ∈ p  # para cada persona en la tupla\n",
    "        if ps.estado_de_salud == :infectado # si la persona está infectada\n",
    "            test = rand()\n",
    "            if test < p_enfermar #con probabilidad p_enfermar \n",
    "                ps.estado_de_salud = :enfermo # se enferma\n",
    "                ps.tiempo_salud = 0 # y se actualiza su tiempo de salud. \n",
    "                continue # si ya se actualizó la situación de esta persona, se pasa a la siguiente. \n",
    "            end\n",
    "        end\n",
    "        if ps.estado_de_salud ∈ [:infectado, :enfermo] # si es contagioso\n",
    "            test = rand() \n",
    "            if test < p_muerte # con probabilidad p_muerte\n",
    "                ps.estado_de_salud = :muerto #se muere\n",
    "                ps.tiempo_salud = 0 #y se actualiza el tiempo en ese estado. \n",
    "                continue # si ya se actualizó la situación de esta persona, se pasa a la siguiente. \n",
    "            else\n",
    "                if ps.tiempo_salud >= 15  #después de 15 días de estar infectado o enfermo (o exclusivo)\n",
    "                    ps.estado_de_salud = :recuperado # pasa a estar recuperado\n",
    "                    ps.tiempo_salud = 0 # y se actualiza el estado de salud.\n",
    "                    continue # si ya se actualizó la situación de esta persona, se pasa a la siguiente. \n",
    "                end\n",
    "            end\n",
    "        end\n",
    "        ps.tiempo_salud += δt # se actualiza el tiempo en un estado de salud si no cambió el estado de salud de la persona. \n",
    "    end\n",
    "    return p\n",
    "end         "
   ]
  },
  {
   "cell_type": "code",
   "execution_count": 37,
   "metadata": {},
   "outputs": [
    {
     "data": {
      "text/plain": [
       "contar_casos"
      ]
     },
     "execution_count": 37,
     "metadata": {},
     "output_type": "execute_result"
    }
   ],
   "source": [
    "\"\"\"\n",
    "regresa true si hay alguna persona que sea contagiosa. \n",
    "\"\"\"\n",
    "function estado_final(p::Persona...) \n",
    "    test = false # se inicializa en falso el booleano que se regresará\n",
    "    for persona ∈ p  \n",
    "        if persona.estado_de_salud ∉ [:suceptible, :recuperado, :muerto] # si  hay alguna persona que sea contagiosa\n",
    "            test = true  #se cambia el booleano a false y se termina el ciclo for. \n",
    "            break\n",
    "        end\n",
    "    end\n",
    "    return test \n",
    "end\n",
    "\n",
    "\"\"\"\n",
    "Cuenta cuantos casos hay de cada estado de salud en una tupla de personas. \n",
    "\"\"\"\n",
    "function contar_casos(p::Persona...)\n",
    "    Suceptibles, Infectados, Enfermos, Muertos, Recuperados = 0,0,0,0,0 #se inicializa el número de cada estado de salud en 0. \n",
    "    for ps ∈ p # para cada persona en la tupla\n",
    "        if ps.estado_de_salud == :suceptible  \n",
    "            Suceptibles += 1   # se cuenta el número de suceptibles\n",
    "        elseif ps.estado_de_salud == :infectado\n",
    "            Infectados += 1 # se cuenta el número de infectados\n",
    "        elseif ps.estado_de_salud == :enfermo\n",
    "            Enfermos += 1   # se cuenta el número de enfermos\n",
    "        elseif ps.estado_de_salud == :muerto\n",
    "            Muertos += 1   # se cuenta el número de muertos\n",
    "        elseif ps.estado_de_salud == :recuperado\n",
    "            Recuperados += 1   # se cuenta el número de recuperados\n",
    "        end\n",
    "    end\n",
    "    return Suceptibles, Infectados, Enfermos, Muertos, Recuperados\n",
    "end"
   ]
  },
  {
   "cell_type": "code",
   "execution_count": 38,
   "metadata": {},
   "outputs": [
    {
     "data": {
      "text/plain": [
       "simular_contagios"
      ]
     },
     "execution_count": 38,
     "metadata": {},
     "output_type": "execute_result"
    }
   ],
   "source": [
    "\"\"\"\n",
    "Actualiza las características de una tupla de personas hasta que no haya ninguna persona que sea contagiosa e imprime\n",
    "en cada paso de tiempo el número de Siceptibles, Infectados, Enfermos, Muertos y Recuperados. \n",
    "\"\"\"\n",
    "function simular_contagios(p::Persona...; p_enfermar = 0.1, p_muerte = 0.1, \n",
    "                           p_contagiar = 0.5, δt = 0.1, rango_de_contagio = .01)\n",
    "\n",
    "    n = length(p)  # Obtiene el número de personas\n",
    "    test = true    # cuando no quede ningún contagioso, test será false y la simulación se termina. \n",
    "    contador = 0    \n",
    "    while test\n",
    "        for i ∈ 1:n-1       # Para cada par de personas en la tupla \n",
    "            for j in i+1:n  # se simula un posible contagio.  \n",
    "                contagiar!(p[i], p[j], rango_de_contagio = rango_de_contagio, p_contagiar = p_contagiar)\n",
    "            end\n",
    "        end\n",
    "        mover!(p..., δt = δt) # se mueven las personas un tiempo δt. \n",
    "        cambiar_velocidad!(p...) # se cambia la velocidad de las personas. \n",
    "        evolucionar!(p..., p_enfermar = p_enfermar, p_muerte = p_muerte, δt = δt) # se evolucionan los estados y tiempos de salud. \n",
    "        Suceptibles, Infectados, Enfermos, Muertos, Recuperados = contar_casos(p...) # se cuenta el número de casos de cada estao de salud. \n",
    "        test = estado_final(p...)  # se revisa si quedan personas contagiosas. \n",
    "        contador += 1 # se actualiza un contador que detenga el programa en caso de emergencia. \n",
    "        println(\"Suceptibles = $Suceptibles, Infectados = $Infectados, Enfermos  = $Enfermos, \n",
    "            Muertos  = $Muertos, Recuperados  = $Recuperados\") #imprime el número de casos de cada tipo. \n",
    "        if contador > 100000 \n",
    "            break # en caso de emergencia se detiene el programa. \n",
    "        end\n",
    "    end  \n",
    "end"
   ]
  },
  {
   "cell_type": "code",
   "execution_count": 39,
   "metadata": {},
   "outputs": [
    {
     "data": {
      "text/plain": [
       "push (generic function with 1 method)"
      ]
     },
     "execution_count": 39,
     "metadata": {},
     "output_type": "execute_result"
    }
   ],
   "source": [
    "function push(elemento, tupla...)  # hago mi función push para tuplas. \n",
    "    if length(tupla)> 0\n",
    "        return tupla..., elemento  # cuando la tupla es una tupla verdaderoa\n",
    "    else\n",
    "        return (elemento,) #cuando la tupla es un elemento vacío, se genera una tupla con un solo elemento. \n",
    "    end\n",
    "end"
   ]
  },
  {
   "cell_type": "code",
   "execution_count": null,
   "metadata": {},
   "outputs": [],
   "source": []
  },
  {
   "cell_type": "code",
   "execution_count": 40,
   "metadata": {},
   "outputs": [
    {
     "name": "stdout",
     "output_type": "stream",
     "text": [
      "Suceptibles = 50, Infectados = 1, Enfermos  = 0, \n",
      "            Muertos  = 0, Recuperados  = 0\n",
      "Suceptibles = 50, Infectados = 1, Enfermos  = 0, \n",
      "            Muertos  = 0, Recuperados  = 0\n",
      "Suceptibles = 50, Infectados = 1, Enfermos  = 0, \n",
      "            Muertos  = 0, Recuperados  = 0\n",
      "Suceptibles = 50, Infectados = 1, Enfermos  = 0, \n",
      "            Muertos  = 0, Recuperados  = 0\n",
      "Suceptibles = 50, Infectados = 1, Enfermos  = 0, \n",
      "            Muertos  = 0, Recuperados  = 0\n",
      "Suceptibles = 50, Infectados = 1, Enfermos  = 0, \n",
      "            Muertos  = 0, Recuperados  = 0\n",
      "Suceptibles = 50, Infectados = 1, Enfermos  = 0, \n",
      "            Muertos  = 0, Recuperados  = 0\n",
      "Suceptibles = 50, Infectados = 0, Enfermos  = 1, \n",
      "            Muertos  = 0, Recuperados  = 0\n",
      "Suceptibles = 50, Infectados = 0, Enfermos  = 1, \n",
      "            Muertos  = 0, Recuperados  = 0\n",
      "Suceptibles = 50, Infectados = 0, Enfermos  = 1, \n",
      "            Muertos  = 0, Recuperados  = 0\n",
      "Suceptibles = 50, Infectados = 0, Enfermos  = 1, \n",
      "            Muertos  = 0, Recuperados  = 0\n",
      "Suceptibles = 50, Infectados = 0, Enfermos  = 1, \n",
      "            Muertos  = 0, Recuperados  = 0\n",
      "Suceptibles = 50, Infectados = 0, Enfermos  = 1, \n",
      "            Muertos  = 0, Recuperados  = 0\n",
      "Suceptibles = 50, Infectados = 0, Enfermos  = 1, \n",
      "            Muertos  = 0, Recuperados  = 0\n",
      "Suceptibles = 50, Infectados = 0, Enfermos  = 1, \n",
      "            Muertos  = 0, Recuperados  = 0\n",
      "Suceptibles = 50, Infectados = 0, Enfermos  = 1, \n",
      "            Muertos  = 0, Recuperados  = 0\n",
      "Suceptibles = 50, Infectados = 0, Enfermos  = 1, \n",
      "            Muertos  = 0, Recuperados  = 0\n",
      "Suceptibles = 50, Infectados = 0, Enfermos  = 1, \n",
      "            Muertos  = 0, Recuperados  = 0\n",
      "Suceptibles = 50, Infectados = 0, Enfermos  = 1, \n",
      "            Muertos  = 0, Recuperados  = 0\n",
      "Suceptibles = 50, Infectados = 0, Enfermos  = 1, \n",
      "            Muertos  = 0, Recuperados  = 0\n",
      "Suceptibles = 50, Infectados = 0, Enfermos  = 1, \n",
      "            Muertos  = 0, Recuperados  = 0\n",
      "Suceptibles = 50, Infectados = 0, Enfermos  = 1, \n",
      "            Muertos  = 0, Recuperados  = 0\n",
      "Suceptibles = 50, Infectados = 0, Enfermos  = 1, \n",
      "            Muertos  = 0, Recuperados  = 0\n",
      "Suceptibles = 50, Infectados = 0, Enfermos  = 1, \n",
      "            Muertos  = 0, Recuperados  = 0\n",
      "Suceptibles = 50, Infectados = 0, Enfermos  = 1, \n",
      "            Muertos  = 0, Recuperados  = 0\n",
      "Suceptibles = 50, Infectados = 0, Enfermos  = 1, \n",
      "            Muertos  = 0, Recuperados  = 0\n",
      "Suceptibles = 50, Infectados = 0, Enfermos  = 1, \n",
      "            Muertos  = 0, Recuperados  = 0\n",
      "Suceptibles = 50, Infectados = 0, Enfermos  = 1, \n",
      "            Muertos  = 0, Recuperados  = 0\n",
      "Suceptibles = 50, Infectados = 0, Enfermos  = 1, \n",
      "            Muertos  = 0, Recuperados  = 0\n",
      "Suceptibles = 50, Infectados = 0, Enfermos  = 1, \n",
      "            Muertos  = 0, Recuperados  = 0\n",
      "Suceptibles = 50, Infectados = 0, Enfermos  = 1, \n",
      "            Muertos  = 0, Recuperados  = 0\n",
      "Suceptibles = 50, Infectados = 0, Enfermos  = 1, \n",
      "            Muertos  = 0, Recuperados  = 0\n",
      "Suceptibles = 50, Infectados = 0, Enfermos  = 1, \n",
      "            Muertos  = 0, Recuperados  = 0\n",
      "Suceptibles = 50, Infectados = 0, Enfermos  = 1, \n",
      "            Muertos  = 0, Recuperados  = 0\n",
      "Suceptibles = 50, Infectados = 0, Enfermos  = 1, \n",
      "            Muertos  = 0, Recuperados  = 0\n",
      "Suceptibles = 50, Infectados = 0, Enfermos  = 1, \n",
      "            Muertos  = 0, Recuperados  = 0\n",
      "Suceptibles = 50, Infectados = 0, Enfermos  = 1, \n",
      "            Muertos  = 0, Recuperados  = 0\n",
      "Suceptibles = 50, Infectados = 0, Enfermos  = 1, \n",
      "            Muertos  = 0, Recuperados  = 0\n",
      "Suceptibles = 50, Infectados = 0, Enfermos  = 1, \n",
      "            Muertos  = 0, Recuperados  = 0\n",
      "Suceptibles = 50, Infectados = 0, Enfermos  = 1, \n",
      "            Muertos  = 0, Recuperados  = 0\n",
      "Suceptibles = 50, Infectados = 0, Enfermos  = 1, \n",
      "            Muertos  = 0, Recuperados  = 0\n",
      "Suceptibles = 50, Infectados = 0, Enfermos  = 1, \n",
      "            Muertos  = 0, Recuperados  = 0\n",
      "Suceptibles = 50, Infectados = 0, Enfermos  = 1, \n",
      "            Muertos  = 0, Recuperados  = 0\n",
      "Suceptibles = 50, Infectados = 0, Enfermos  = 1, \n",
      "            Muertos  = 0, Recuperados  = 0\n",
      "Suceptibles = 50, Infectados = 0, Enfermos  = 1, \n",
      "            Muertos  = 0, Recuperados  = 0\n",
      "Suceptibles = 50, Infectados = 0, Enfermos  = 1, \n",
      "            Muertos  = 0, Recuperados  = 0\n",
      "Suceptibles = 50, Infectados = 0, Enfermos  = 1, \n",
      "            Muertos  = 0, Recuperados  = 0\n",
      "Suceptibles = 50, Infectados = 0, Enfermos  = 1, \n",
      "            Muertos  = 0, Recuperados  = 0\n",
      "Suceptibles = 50, Infectados = 0, Enfermos  = 1, \n",
      "            Muertos  = 0, Recuperados  = 0\n",
      "Suceptibles = 50, Infectados = 0, Enfermos  = 1, \n",
      "            Muertos  = 0, Recuperados  = 0\n",
      "Suceptibles = 50, Infectados = 0, Enfermos  = 1, \n",
      "            Muertos  = 0, Recuperados  = 0\n",
      "Suceptibles = 50, Infectados = 0, Enfermos  = 1, \n",
      "            Muertos  = 0, Recuperados  = 0\n",
      "Suceptibles = 50, Infectados = 0, Enfermos  = 1, \n",
      "            Muertos  = 0, Recuperados  = 0\n",
      "Suceptibles = 50, Infectados = 0, Enfermos  = 1, \n",
      "            Muertos  = 0, Recuperados  = 0\n",
      "Suceptibles = 50, Infectados = 0, Enfermos  = 1, \n",
      "            Muertos  = 0, Recuperados  = 0\n",
      "Suceptibles = 50, Infectados = 0, Enfermos  = 1, \n",
      "            Muertos  = 0, Recuperados  = 0\n",
      "Suceptibles = 50, Infectados = 0, Enfermos  = 1, \n",
      "            Muertos  = 0, Recuperados  = 0\n",
      "Suceptibles = 50, Infectados = 0, Enfermos  = 1, \n",
      "            Muertos  = 0, Recuperados  = 0\n",
      "Suceptibles = 50, Infectados = 0, Enfermos  = 1, \n",
      "            Muertos  = 0, Recuperados  = 0\n",
      "Suceptibles = 50, Infectados = 0, Enfermos  = 1, \n",
      "            Muertos  = 0, Recuperados  = 0\n",
      "Suceptibles = 50, Infectados = 0, Enfermos  = 1, \n",
      "            Muertos  = 0, Recuperados  = 0\n",
      "Suceptibles = 50, Infectados = 0, Enfermos  = 1, \n",
      "            Muertos  = 0, Recuperados  = 0\n",
      "Suceptibles = 50, Infectados = 0, Enfermos  = 1, \n",
      "            Muertos  = 0, Recuperados  = 0\n",
      "Suceptibles = 50, Infectados = 0, Enfermos  = 1, \n",
      "            Muertos  = 0, Recuperados  = 0\n",
      "Suceptibles = 50, Infectados = 0, Enfermos  = 1, \n",
      "            Muertos  = 0, Recuperados  = 0\n",
      "Suceptibles = 50, Infectados = 0, Enfermos  = 1, \n",
      "            Muertos  = 0, Recuperados  = 0\n",
      "Suceptibles = 50, Infectados = 0, Enfermos  = 1, \n",
      "            Muertos  = 0, Recuperados  = 0\n",
      "Suceptibles = 50, Infectados = 0, Enfermos  = 1, \n",
      "            Muertos  = 0, Recuperados  = 0\n",
      "Suceptibles = 50, Infectados = 0, Enfermos  = 1, \n",
      "            Muertos  = 0, Recuperados  = 0\n",
      "Suceptibles = 50, Infectados = 0, Enfermos  = 1, \n",
      "            Muertos  = 0, Recuperados  = 0\n",
      "Suceptibles = 50, Infectados = 0, Enfermos  = 1, \n",
      "            Muertos  = 0, Recuperados  = 0\n",
      "Suceptibles = 50, Infectados = 0, Enfermos  = 1, \n",
      "            Muertos  = 0, Recuperados  = 0\n",
      "Suceptibles = 50, Infectados = 0, Enfermos  = 1, \n",
      "            Muertos  = 0, Recuperados  = 0\n",
      "Suceptibles = 50, Infectados = 0, Enfermos  = 1, \n",
      "            Muertos  = 0, Recuperados  = 0\n",
      "Suceptibles = 50, Infectados = 0, Enfermos  = 1, \n",
      "            Muertos  = 0, Recuperados  = 0\n",
      "Suceptibles = 50, Infectados = 0, Enfermos  = 1, \n",
      "            Muertos  = 0, Recuperados  = 0\n",
      "Suceptibles = 50, Infectados = 0, Enfermos  = 1, \n",
      "            Muertos  = 0, Recuperados  = 0\n",
      "Suceptibles = 50, Infectados = 0, Enfermos  = 1, \n",
      "            Muertos  = 0, Recuperados  = 0\n",
      "Suceptibles = 50, Infectados = 0, Enfermos  = 1, \n",
      "            Muertos  = 0, Recuperados  = 0\n",
      "Suceptibles = 50, Infectados = 0, Enfermos  = 1, \n",
      "            Muertos  = 0, Recuperados  = 0\n",
      "Suceptibles = 50, Infectados = 0, Enfermos  = 1, \n",
      "            Muertos  = 0, Recuperados  = 0\n",
      "Suceptibles = 50, Infectados = 0, Enfermos  = 1, \n",
      "            Muertos  = 0, Recuperados  = 0\n",
      "Suceptibles = 50, Infectados = 0, Enfermos  = 1, \n",
      "            Muertos  = 0, Recuperados  = 0\n",
      "Suceptibles = 50, Infectados = 0, Enfermos  = 1, \n",
      "            Muertos  = 0, Recuperados  = 0\n",
      "Suceptibles = 50, Infectados = 0, Enfermos  = 1, \n",
      "            Muertos  = 0, Recuperados  = 0\n",
      "Suceptibles = 50, Infectados = 0, Enfermos  = 1, \n",
      "            Muertos  = 0, Recuperados  = 0\n",
      "Suceptibles = 50, Infectados = 0, Enfermos  = 1, \n",
      "            Muertos  = 0, Recuperados  = 0\n",
      "Suceptibles = 50, Infectados = 0, Enfermos  = 1, \n",
      "            Muertos  = 0, Recuperados  = 0\n",
      "Suceptibles = 50, Infectados = 0, Enfermos  = 1, \n",
      "            Muertos  = 0, Recuperados  = 0\n",
      "Suceptibles = 50, Infectados = 0, Enfermos  = 1, \n",
      "            Muertos  = 0, Recuperados  = 0\n",
      "Suceptibles = 50, Infectados = 0, Enfermos  = 1, \n",
      "            Muertos  = 0, Recuperados  = 0\n",
      "Suceptibles = 50, Infectados = 0, Enfermos  = 1, \n",
      "            Muertos  = 0, Recuperados  = 0\n",
      "Suceptibles = 50, Infectados = 0, Enfermos  = 1, \n",
      "            Muertos  = 0, Recuperados  = 0\n",
      "Suceptibles = 50, Infectados = 0, Enfermos  = 1, \n",
      "            Muertos  = 0, Recuperados  = 0\n",
      "Suceptibles = 50, Infectados = 0, Enfermos  = 1, \n",
      "            Muertos  = 0, Recuperados  = 0\n",
      "Suceptibles = 50, Infectados = 0, Enfermos  = 1, \n",
      "            Muertos  = 0, Recuperados  = 0\n",
      "Suceptibles = 50, Infectados = 0, Enfermos  = 1, \n",
      "            Muertos  = 0, Recuperados  = 0\n",
      "Suceptibles = 50, Infectados = 0, Enfermos  = 1, \n",
      "            Muertos  = 0, Recuperados  = 0\n",
      "Suceptibles = 50, Infectados = 0, Enfermos  = 1, \n",
      "            Muertos  = 0, Recuperados  = 0\n",
      "Suceptibles = 50, Infectados = 0, Enfermos  = 1, \n",
      "            Muertos  = 0, Recuperados  = 0\n",
      "Suceptibles = 50, Infectados = 0, Enfermos  = 1, \n",
      "            Muertos  = 0, Recuperados  = 0\n",
      "Suceptibles = 50, Infectados = 0, Enfermos  = 1, \n",
      "            Muertos  = 0, Recuperados  = 0\n",
      "Suceptibles = 50, Infectados = 0, Enfermos  = 1, \n",
      "            Muertos  = 0, Recuperados  = 0\n",
      "Suceptibles = 50, Infectados = 0, Enfermos  = 1, \n",
      "            Muertos  = 0, Recuperados  = 0\n",
      "Suceptibles = 50, Infectados = 0, Enfermos  = 1, \n",
      "            Muertos  = 0, Recuperados  = 0\n",
      "Suceptibles = 50, Infectados = 0, Enfermos  = 1, \n",
      "            Muertos  = 0, Recuperados  = 0\n",
      "Suceptibles = 50, Infectados = 0, Enfermos  = 1, \n",
      "            Muertos  = 0, Recuperados  = 0\n",
      "Suceptibles = 50, Infectados = 0, Enfermos  = 1, \n",
      "            Muertos  = 0, Recuperados  = 0\n",
      "Suceptibles = 50, Infectados = 0, Enfermos  = 1, \n",
      "            Muertos  = 0, Recuperados  = 0\n",
      "Suceptibles = 50, Infectados = 0, Enfermos  = 1, \n",
      "            Muertos  = 0, Recuperados  = 0\n",
      "Suceptibles = 50, Infectados = 0, Enfermos  = 1, \n",
      "            Muertos  = 0, Recuperados  = 0\n",
      "Suceptibles = 50, Infectados = 0, Enfermos  = 1, \n"
     ]
    },
    {
     "name": "stdout",
     "output_type": "stream",
     "text": [
      "            Muertos  = 0, Recuperados  = 0\n",
      "Suceptibles = 50, Infectados = 0, Enfermos  = 1, \n",
      "            Muertos  = 0, Recuperados  = 0\n",
      "Suceptibles = 50, Infectados = 0, Enfermos  = 1, \n",
      "            Muertos  = 0, Recuperados  = 0\n",
      "Suceptibles = 50, Infectados = 0, Enfermos  = 1, \n",
      "            Muertos  = 0, Recuperados  = 0\n",
      "Suceptibles = 50, Infectados = 0, Enfermos  = 1, \n",
      "            Muertos  = 0, Recuperados  = 0\n",
      "Suceptibles = 50, Infectados = 0, Enfermos  = 1, \n",
      "            Muertos  = 0, Recuperados  = 0\n",
      "Suceptibles = 50, Infectados = 0, Enfermos  = 1, \n",
      "            Muertos  = 0, Recuperados  = 0\n",
      "Suceptibles = 50, Infectados = 0, Enfermos  = 1, \n",
      "            Muertos  = 0, Recuperados  = 0\n",
      "Suceptibles = 50, Infectados = 0, Enfermos  = 1, \n",
      "            Muertos  = 0, Recuperados  = 0\n",
      "Suceptibles = 50, Infectados = 0, Enfermos  = 1, \n",
      "            Muertos  = 0, Recuperados  = 0\n",
      "Suceptibles = 50, Infectados = 0, Enfermos  = 1, \n",
      "            Muertos  = 0, Recuperados  = 0\n",
      "Suceptibles = 50, Infectados = 0, Enfermos  = 1, \n",
      "            Muertos  = 0, Recuperados  = 0\n",
      "Suceptibles = 50, Infectados = 0, Enfermos  = 1, \n",
      "            Muertos  = 0, Recuperados  = 0\n",
      "Suceptibles = 50, Infectados = 0, Enfermos  = 1, \n",
      "            Muertos  = 0, Recuperados  = 0\n",
      "Suceptibles = 50, Infectados = 0, Enfermos  = 1, \n",
      "            Muertos  = 0, Recuperados  = 0\n",
      "Suceptibles = 50, Infectados = 0, Enfermos  = 1, \n",
      "            Muertos  = 0, Recuperados  = 0\n",
      "Suceptibles = 50, Infectados = 0, Enfermos  = 1, \n",
      "            Muertos  = 0, Recuperados  = 0\n",
      "Suceptibles = 50, Infectados = 0, Enfermos  = 1, \n",
      "            Muertos  = 0, Recuperados  = 0\n",
      "Suceptibles = 50, Infectados = 0, Enfermos  = 1, \n",
      "            Muertos  = 0, Recuperados  = 0\n",
      "Suceptibles = 50, Infectados = 0, Enfermos  = 1, \n",
      "            Muertos  = 0, Recuperados  = 0\n",
      "Suceptibles = 50, Infectados = 0, Enfermos  = 1, \n",
      "            Muertos  = 0, Recuperados  = 0\n",
      "Suceptibles = 50, Infectados = 0, Enfermos  = 1, \n",
      "            Muertos  = 0, Recuperados  = 0\n",
      "Suceptibles = 50, Infectados = 0, Enfermos  = 1, \n",
      "            Muertos  = 0, Recuperados  = 0\n",
      "Suceptibles = 50, Infectados = 0, Enfermos  = 1, \n",
      "            Muertos  = 0, Recuperados  = 0\n",
      "Suceptibles = 50, Infectados = 0, Enfermos  = 1, \n",
      "            Muertos  = 0, Recuperados  = 0\n",
      "Suceptibles = 50, Infectados = 0, Enfermos  = 1, \n",
      "            Muertos  = 0, Recuperados  = 0\n",
      "Suceptibles = 50, Infectados = 0, Enfermos  = 1, \n",
      "            Muertos  = 0, Recuperados  = 0\n",
      "Suceptibles = 50, Infectados = 0, Enfermos  = 1, \n",
      "            Muertos  = 0, Recuperados  = 0\n",
      "Suceptibles = 50, Infectados = 0, Enfermos  = 1, \n",
      "            Muertos  = 0, Recuperados  = 0\n",
      "Suceptibles = 50, Infectados = 0, Enfermos  = 1, \n",
      "            Muertos  = 0, Recuperados  = 0\n",
      "Suceptibles = 50, Infectados = 0, Enfermos  = 1, \n",
      "            Muertos  = 0, Recuperados  = 0\n",
      "Suceptibles = 50, Infectados = 0, Enfermos  = 1, \n",
      "            Muertos  = 0, Recuperados  = 0\n",
      "Suceptibles = 50, Infectados = 0, Enfermos  = 1, \n",
      "            Muertos  = 0, Recuperados  = 0\n",
      "Suceptibles = 50, Infectados = 0, Enfermos  = 1, \n",
      "            Muertos  = 0, Recuperados  = 0\n",
      "Suceptibles = 50, Infectados = 0, Enfermos  = 1, \n",
      "            Muertos  = 0, Recuperados  = 0\n",
      "Suceptibles = 50, Infectados = 0, Enfermos  = 1, \n",
      "            Muertos  = 0, Recuperados  = 0\n",
      "Suceptibles = 50, Infectados = 0, Enfermos  = 1, \n",
      "            Muertos  = 0, Recuperados  = 0\n",
      "Suceptibles = 50, Infectados = 0, Enfermos  = 1, \n",
      "            Muertos  = 0, Recuperados  = 0\n",
      "Suceptibles = 50, Infectados = 0, Enfermos  = 1, \n",
      "            Muertos  = 0, Recuperados  = 0\n",
      "Suceptibles = 50, Infectados = 0, Enfermos  = 1, \n",
      "            Muertos  = 0, Recuperados  = 0\n",
      "Suceptibles = 50, Infectados = 0, Enfermos  = 1, \n",
      "            Muertos  = 0, Recuperados  = 0\n",
      "Suceptibles = 50, Infectados = 0, Enfermos  = 1, \n",
      "            Muertos  = 0, Recuperados  = 0\n",
      "Suceptibles = 50, Infectados = 0, Enfermos  = 1, \n",
      "            Muertos  = 0, Recuperados  = 0\n",
      "Suceptibles = 50, Infectados = 0, Enfermos  = 1, \n",
      "            Muertos  = 0, Recuperados  = 0\n",
      "Suceptibles = 50, Infectados = 0, Enfermos  = 1, \n",
      "            Muertos  = 0, Recuperados  = 0\n",
      "Suceptibles = 50, Infectados = 0, Enfermos  = 1, \n",
      "            Muertos  = 0, Recuperados  = 0\n",
      "Suceptibles = 50, Infectados = 0, Enfermos  = 1, \n",
      "            Muertos  = 0, Recuperados  = 0\n",
      "Suceptibles = 50, Infectados = 0, Enfermos  = 1, \n",
      "            Muertos  = 0, Recuperados  = 0\n",
      "Suceptibles = 50, Infectados = 0, Enfermos  = 0, \n",
      "            Muertos  = 0, Recuperados  = 1\n"
     ]
    }
   ],
   "source": [
    "ps = Persona(:infectado, 20, 0, rand(2), rand(2).-0.5)\n",
    "p = (ps,)\n",
    "for i in 1:50\n",
    "    ps = Persona(:suceptible, 20, 0, rand(2), rand(2).-0.5)\n",
    "    p = push(ps, p...)\n",
    "end\n",
    "\n",
    "Suceptibles, Infectados, Enfermos, Muertos, Recuperados = contar_casos(p...)\n",
    "println(\"Suceptibles = $Suceptibles, Infectados = $Infectados, Enfermos  = $Enfermos, \n",
    "            Muertos  = $Muertos, Recuperados  = $Recuperados\")\n",
    "simular_contagios(p..., rango_de_contagio = .1,  p_muerte = 0.00001, p_contagiar = .01,)"
   ]
  },
  {
   "cell_type": "markdown",
   "metadata": {},
   "source": [
    "### Tipos de argumentos en las funciones\n",
    "\n",
    "Ya tenemos bastante sobre cómo construir una función, pero aún nos quedan algunos trucos por aprender sobre cómo definir funciones. Lo primero es el tipo de argumentos que hay. Digamos que queremos hacer una función para estimar la altura a la que llega un objeto que lanzamos en tiro parabólico. Para hacer el cálculo necesitamos $\\vec{x}_0$, $\\vec{v}_0$ y la constante $g$ de la gravitación. \n",
    "\n",
    "sabemos que la altura la podemos obtener vía: \n",
    "\n",
    "$E = \\frac{1}{2}mv^2 + mgh$, cuando $v = 0$ se llega a la máxima altura y $E = \\frac{1}{2} m v_{y0}^2 + mgy_0$, de tal forma que $h = \\frac{1}{2g} v_{y0}^2 + y_0$. \n",
    "\n",
    "La función será: \n",
    "\n",
    "h(vy0,y0, g) = (1/(2*g))*vy0+y0\n",
    "\n",
    "pero sabemos que muy frecuentemente g = 9.81 y y0 = 0. por lo tanto podemos poner esas dos cantidades predefinidas en la función, es decir: "
   ]
  },
  {
   "cell_type": "code",
   "execution_count": 41,
   "metadata": {},
   "outputs": [
    {
     "data": {
      "text/plain": [
       "h (generic function with 4 methods)"
      ]
     },
     "execution_count": 41,
     "metadata": {},
     "output_type": "execute_result"
    }
   ],
   "source": [
    "h(vy0,y0 = 0, g = 9.81, vi = 5) = (1 / (2g))*vy0^2 + y0"
   ]
  },
  {
   "cell_type": "code",
   "execution_count": 42,
   "metadata": {},
   "outputs": [
    {
     "data": {
      "text/plain": [
       "5.09683995922528"
      ]
     },
     "execution_count": 42,
     "metadata": {},
     "output_type": "execute_result"
    }
   ],
   "source": [
    "h(10)"
   ]
  },
  {
   "cell_type": "markdown",
   "metadata": {},
   "source": [
    "Noten que la función h ahora tiene 3 métodos, uno es con un solo argument (vy0), otro método es con 2 argumentos (incluyendo y0) y finalmente con 3 argumentos (incluyendo también g). "
   ]
  },
  {
   "cell_type": "markdown",
   "metadata": {},
   "source": [
    "Otra posibilidad más, es usar los key-arguments, es decir, argumentos que no dependen de el orden en el que los pongo, pero sí del símbolo que uso para definirlos. Por ejemplo, esta función se podría definir como: "
   ]
  },
  {
   "cell_type": "code",
   "execution_count": 43,
   "metadata": {},
   "outputs": [
    {
     "data": {
      "text/plain": [
       "h (generic function with 4 methods)"
      ]
     },
     "execution_count": 43,
     "metadata": {},
     "output_type": "execute_result"
    }
   ],
   "source": [
    "h(vy0; y0 = 0, g = 9.81) = (1/(2g))vy0^2+y0"
   ]
  },
  {
   "cell_type": "markdown",
   "metadata": {},
   "source": [
    "Ahora se ha puesto después del vy0 un \";\" en vez de \",\". La diferencia es que ahora para cambiar el argumento de y0 o de g, tengo que nombrarlos. "
   ]
  },
  {
   "cell_type": "code",
   "execution_count": 44,
   "metadata": {},
   "outputs": [
    {
     "data": {
      "text/plain": [
       "33.33333333333333"
      ]
     },
     "execution_count": 44,
     "metadata": {},
     "output_type": "execute_result"
    }
   ],
   "source": [
    "h(10, g = 1.5)"
   ]
  },
  {
   "cell_type": "markdown",
   "metadata": {},
   "source": [
    "#### Operador ...\n",
    "\n",
    "el operador ... sirve como en matemáticas, para denotar que los argumentos de una función continuan.\n",
    "\n",
    "Por ejemplo:"
   ]
  },
  {
   "cell_type": "code",
   "execution_count": 45,
   "metadata": {},
   "outputs": [
    {
     "data": {
      "text/plain": [
       "f (generic function with 2 methods)"
      ]
     },
     "execution_count": 45,
     "metadata": {},
     "output_type": "execute_result"
    }
   ],
   "source": [
    "function f(x...)\n",
    "    length(x)\n",
    "end"
   ]
  },
  {
   "cell_type": "code",
   "execution_count": 46,
   "metadata": {},
   "outputs": [
    {
     "data": {
      "text/plain": [
       "8"
      ]
     },
     "execution_count": 46,
     "metadata": {},
     "output_type": "execute_result"
    }
   ],
   "source": [
    "f(1,3,5,9,10, 11, \"a\", \"33\")"
   ]
  },
  {
   "cell_type": "code",
   "execution_count": 47,
   "metadata": {},
   "outputs": [
    {
     "data": {
      "text/plain": [
       "f (generic function with 2 methods)"
      ]
     },
     "execution_count": 47,
     "metadata": {},
     "output_type": "execute_result"
    }
   ],
   "source": [
    "function f(x...)\n",
    "    xs = zeros(2)\n",
    "    for x0 in x[1:2:end]\n",
    "        xs[1] += x0\n",
    "    end\n",
    "    for x0 in x[2:2:end]\n",
    "        xs[2] += x0\n",
    "    end\n",
    "    return xs\n",
    "end"
   ]
  },
  {
   "cell_type": "code",
   "execution_count": 48,
   "metadata": {},
   "outputs": [
    {
     "data": {
      "text/plain": [
       "2-element Vector{Float64}:\n",
       " 40.0\n",
       " 35.0"
      ]
     },
     "execution_count": 48,
     "metadata": {},
     "output_type": "execute_result"
    }
   ],
   "source": [
    "a = (1,2,3,4,5,6,4,6,7,8,2,3,5,2,7,4,6)\n",
    "f(a...)\n"
   ]
  },
  {
   "cell_type": "markdown",
   "metadata": {},
   "source": [
    "En algunos casos conviene convertir los argumentos en un arreglo. Para esto podemos usar la función collect"
   ]
  },
  {
   "cell_type": "code",
   "execution_count": 49,
   "metadata": {},
   "outputs": [
    {
     "data": {
      "text/plain": [
       "norma (generic function with 1 method)"
      ]
     },
     "execution_count": 49,
     "metadata": {},
     "output_type": "execute_result"
    }
   ],
   "source": [
    "function norma(x...)\n",
    "    xx = collect(x)\n",
    "    √(x⋅x)\n",
    "end"
   ]
  },
  {
   "cell_type": "code",
   "execution_count": 50,
   "metadata": {},
   "outputs": [
    {
     "data": {
      "text/plain": [
       "(5.477225575051661, 5.477225575051661)"
      ]
     },
     "execution_count": 50,
     "metadata": {},
     "output_type": "execute_result"
    }
   ],
   "source": [
    "norma(1,2,3,4), √([1,2,3,4]⋅[1,2,3,4])"
   ]
  },
  {
   "cell_type": "markdown",
   "metadata": {},
   "source": [
    "### Funciones de funciones y funciones anónimas\n",
    "\n",
    "Entre los argumentos que puede tener una función están las funciones. Relativamente pronto veremos por ejemplo que podemos definir la función derivada de una función y esta tendrá como argumento otra función. \n",
    "\n",
    "Además, en general podemos hacer composición de funciones usando el símbolo ∘ (\\circ +Tab). "
   ]
  },
  {
   "cell_type": "code",
   "execution_count": 51,
   "metadata": {},
   "outputs": [
    {
     "data": {
      "text/plain": [
       "15.588457268119896"
      ]
     },
     "execution_count": 51,
     "metadata": {},
     "output_type": "execute_result"
    }
   ],
   "source": [
    "f(x) = x^5\n",
    "(sqrt ∘ f)(3)"
   ]
  },
  {
   "cell_type": "code",
   "execution_count": 52,
   "metadata": {},
   "outputs": [
    {
     "data": {
      "text/plain": [
       "g_cuadrada (generic function with 1 method)"
      ]
     },
     "execution_count": 52,
     "metadata": {},
     "output_type": "execute_result"
    }
   ],
   "source": [
    "g_cuadrada(g) = g ∘ g"
   ]
  },
  {
   "cell_type": "code",
   "execution_count": 53,
   "metadata": {},
   "outputs": [
    {
     "data": {
      "text/plain": [
       "0.7890723435728884"
      ]
     },
     "execution_count": 53,
     "metadata": {},
     "output_type": "execute_result"
    }
   ],
   "source": [
    "g_cuadrada(x-> sin(x))(2)"
   ]
  },
  {
   "cell_type": "markdown",
   "metadata": {},
   "source": [
    "Otra forma práctica de aplicar una función es mediante el símbolo |>. Por ejemplo"
   ]
  },
  {
   "cell_type": "code",
   "execution_count": 54,
   "metadata": {},
   "outputs": [
    {
     "data": {
      "text/plain": [
       "(15.588457268119896, 15.588457268119896)"
      ]
     },
     "execution_count": 54,
     "metadata": {},
     "output_type": "execute_result"
    }
   ],
   "source": [
    "3 |> f |> sqrt, sqrt(f(3))"
   ]
  },
  {
   "cell_type": "markdown",
   "metadata": {},
   "source": [
    "Esto es práctico cuando se hacen funciones largas que arrgojan algo que se quiere aplicar a otra función. Pronto con la lectura de bases de datos veremos ejemplos. También cuando se quieren aplicar distintas funciones a distintos valores de un arreglo: "
   ]
  },
  {
   "cell_type": "code",
   "execution_count": 55,
   "metadata": {},
   "outputs": [
    {
     "data": {
      "text/plain": [
       "4-element Vector{Real}:\n",
       "  1\n",
       "  0.9092974268256817\n",
       " -0.9899924966004454\n",
       "  2.0"
      ]
     },
     "execution_count": 55,
     "metadata": {},
     "output_type": "execute_result"
    }
   ],
   "source": [
    "[1,2,3,4] .|> [f, sin, cos, sqrt]"
   ]
  },
  {
   "cell_type": "markdown",
   "metadata": {},
   "source": [
    "Hay veces donde uno no quiere nombrar una función nueva pero requiere ponerla en el argumento de otra función. Entonces se pueden usar funciones anónimas. Estas se definen con ->. Por ejemplo: "
   ]
  },
  {
   "cell_type": "code",
   "execution_count": 56,
   "metadata": {},
   "outputs": [
    {
     "data": {
      "text/plain": [
       "#10 (generic function with 1 method)"
      ]
     },
     "execution_count": 56,
     "metadata": {},
     "output_type": "execute_result"
    }
   ],
   "source": [
    "x -> sin(x)"
   ]
  },
  {
   "cell_type": "code",
   "execution_count": 57,
   "metadata": {},
   "outputs": [
    {
     "data": {
      "text/plain": [
       "var\"#12#13\"() ∘ var\"#12#13\"()"
      ]
     },
     "execution_count": 57,
     "metadata": {},
     "output_type": "execute_result"
    }
   ],
   "source": [
    "g = g_cuadrada(x -> sin(x))"
   ]
  },
  {
   "cell_type": "code",
   "execution_count": 58,
   "metadata": {},
   "outputs": [
    {
     "data": {
      "text/plain": [
       "(0.7456241416655579, 0.7456241416655579)"
      ]
     },
     "execution_count": 58,
     "metadata": {},
     "output_type": "execute_result"
    }
   ],
   "source": [
    "g(1), sin(sin(1))"
   ]
  },
  {
   "cell_type": "markdown",
   "metadata": {},
   "source": [
    "### Funciones sort, sort! y findall\n",
    "Ya vimos antes la función sort, pero no le hemos sacado todo el jugo posible al key-argument \"by\". Analicemos lo que habíamos visto: "
   ]
  },
  {
   "cell_type": "code",
   "execution_count": 59,
   "metadata": {},
   "outputs": [],
   "source": [
    "y = [rand(3) for i ∈ 1:100]\n",
    "sort(y, by = x-> x[2]);"
   ]
  },
  {
   "cell_type": "markdown",
   "metadata": {},
   "source": [
    "en este caso, dijimos que sort ordenaba utilizando el segundo elemento de cada arreglo. Ahora vemos que sort utiliza un key argument que es de hecho una función anónima que lo que hace es leer el segundo elemento. Es decir, eso es igual que: "
   ]
  },
  {
   "cell_type": "code",
   "execution_count": 60,
   "metadata": {},
   "outputs": [],
   "source": [
    "f(x) = x[2]\n",
    "sort(y, by = f);"
   ]
  },
  {
   "cell_type": "markdown",
   "metadata": {},
   "source": [
    "sólo que antes estaba escrito en una sola linea, con la función \"f\" definida en la función anónima. Podemos entonces ordenar los números siguiento reglas tan extrañas como querramos: "
   ]
  },
  {
   "cell_type": "code",
   "execution_count": 61,
   "metadata": {},
   "outputs": [
    {
     "data": {
      "text/plain": [
       "100-element Vector{Vector{Float64}}:\n",
       " [0.8551113618710033, 0.1425987018294892, 0.9725327930265049]\n",
       " [0.9893409335572334, 0.2023675126714839, 0.7979179614295917]\n",
       " [0.849442073593353, 0.296450971280769, 0.8665229536651233]\n",
       " [0.8584455445552459, 0.05166565185607119, 0.5643668734209093]\n",
       " [0.911331337423577, 0.3354213014038012, 0.7757776768706628]\n",
       " [0.7852272883032099, 0.05906672399410384, 0.5917572383638612]\n",
       " [0.611158516122358, 0.12242489395662437, 0.8527535348138695]\n",
       " [0.8799308373066701, 0.387311786940854, 0.8392161689415638]\n",
       " [0.9866452105745338, 0.48572885803167076, 0.7542851596080451]\n",
       " [0.9458388462244911, 0.5333443446032764, 0.911879369601651]\n",
       " [0.5612293972564517, 0.07084217184206776, 0.753159535155522]\n",
       " [0.899002837161464, 0.430967651136537, 0.7694979170321674]\n",
       " [0.7757866728680227, 0.15205707810288072, 0.5738085989653794]\n",
       " ⋮\n",
       " [0.2423699165816564, 0.8794792692527942, 0.4225068352134467]\n",
       " [0.49279494506806154, 0.9387121786788788, 0.7407893364032898]\n",
       " [0.07038388704021248, 0.5541155998031557, 0.7538265261476509]\n",
       " [0.11178674616701367, 0.9048458194493905, 0.470743723052651]\n",
       " [0.004288287832214799, 0.6772187040065514, 0.575427712855088]\n",
       " [0.364450126146705, 0.9132255906638347, 0.7123105296313417]\n",
       " [0.08495046800693462, 0.6021271415461074, 0.7844185372231538]\n",
       " [0.3324165367413108, 0.9024909184880736, 0.7518795792117212]\n",
       " [0.12268719069030021, 0.6983141622789644, 0.7662262591947566]\n",
       " [0.30753956778346403, 0.773196536292289, 0.998890426453515]\n",
       " [0.0356695589629783, 0.8422430795775022, 0.8651731831345832]\n",
       " [0.03410384471478345, 0.9295551439613867, 0.9807975752298361]"
      ]
     },
     "execution_count": 61,
     "metadata": {},
     "output_type": "execute_result"
    }
   ],
   "source": [
    "sort!(y, by = x-> -(x[1]-x[2])*abs(x[3]))"
   ]
  },
  {
   "cell_type": "code",
   "execution_count": 62,
   "metadata": {},
   "outputs": [
    {
     "data": {
      "text/plain": [
       "100-element Vector{Vector{Float64}}:\n",
       " [0.8551113618710033, 0.1425987018294892, 0.9725327930265049]\n",
       " [0.9893409335572334, 0.2023675126714839, 0.7979179614295917]\n",
       " [0.849442073593353, 0.296450971280769, 0.8665229536651233]\n",
       " [0.8584455445552459, 0.05166565185607119, 0.5643668734209093]\n",
       " [0.911331337423577, 0.3354213014038012, 0.7757776768706628]\n",
       " [0.7852272883032099, 0.05906672399410384, 0.5917572383638612]\n",
       " [0.611158516122358, 0.12242489395662437, 0.8527535348138695]\n",
       " [0.8799308373066701, 0.387311786940854, 0.8392161689415638]\n",
       " [0.9866452105745338, 0.48572885803167076, 0.7542851596080451]\n",
       " [0.9458388462244911, 0.5333443446032764, 0.911879369601651]\n",
       " [0.5612293972564517, 0.07084217184206776, 0.753159535155522]\n",
       " [0.899002837161464, 0.430967651136537, 0.7694979170321674]\n",
       " [0.7757866728680227, 0.15205707810288072, 0.5738085989653794]\n",
       " ⋮\n",
       " [0.2423699165816564, 0.8794792692527942, 0.4225068352134467]\n",
       " [0.49279494506806154, 0.9387121786788788, 0.7407893364032898]\n",
       " [0.07038388704021248, 0.5541155998031557, 0.7538265261476509]\n",
       " [0.11178674616701367, 0.9048458194493905, 0.470743723052651]\n",
       " [0.004288287832214799, 0.6772187040065514, 0.575427712855088]\n",
       " [0.364450126146705, 0.9132255906638347, 0.7123105296313417]\n",
       " [0.08495046800693462, 0.6021271415461074, 0.7844185372231538]\n",
       " [0.3324165367413108, 0.9024909184880736, 0.7518795792117212]\n",
       " [0.12268719069030021, 0.6983141622789644, 0.7662262591947566]\n",
       " [0.30753956778346403, 0.773196536292289, 0.998890426453515]\n",
       " [0.0356695589629783, 0.8422430795775022, 0.8651731831345832]\n",
       " [0.03410384471478345, 0.9295551439613867, 0.9807975752298361]"
      ]
     },
     "execution_count": 62,
     "metadata": {},
     "output_type": "execute_result"
    }
   ],
   "source": [
    "y"
   ]
  },
  {
   "cell_type": "markdown",
   "metadata": {},
   "source": [
    "Otra función muy útil es findall, que encuentra usando una función booleana, todos los valores de un arreglo con los que la función arroja true. Por ejemplo, en este caso se obtienen todos los valores donde la segunda entrada del arreglo es menor que 0.2."
   ]
  },
  {
   "cell_type": "code",
   "execution_count": 63,
   "metadata": {},
   "outputs": [
    {
     "data": {
      "text/plain": [
       "23-element Vector{Int64}:\n",
       "  1\n",
       "  4\n",
       "  6\n",
       "  7\n",
       " 11\n",
       " 13\n",
       " 15\n",
       " 17\n",
       " 18\n",
       " 24\n",
       " 26\n",
       " 28\n",
       " 29\n",
       " 31\n",
       " 33\n",
       " 34\n",
       " 35\n",
       " 39\n",
       " 43\n",
       " 46\n",
       " 53\n",
       " 56\n",
       " 60"
      ]
     },
     "execution_count": 63,
     "metadata": {},
     "output_type": "execute_result"
    }
   ],
   "source": [
    "findall(x ->x[2] <= 0.2 , y)"
   ]
  },
  {
   "cell_type": "code",
   "execution_count": 64,
   "metadata": {},
   "outputs": [
    {
     "data": {
      "text/plain": [
       "7-element Vector{Int64}:\n",
       "  74\n",
       "  78\n",
       "  90\n",
       "  92\n",
       "  94\n",
       "  96\n",
       " 100"
      ]
     },
     "execution_count": 64,
     "metadata": {},
     "output_type": "execute_result"
    }
   ],
   "source": [
    "findall(x-> x[1]< 0.5 && x[2]> 0.9, y)"
   ]
  },
  {
   "cell_type": "code",
   "execution_count": 65,
   "metadata": {},
   "outputs": [
    {
     "data": {
      "text/plain": [
       "3-element Vector{Float64}:\n",
       " 0.41283392850139977\n",
       " 0.685623493071027\n",
       " 0.6922225604340131"
      ]
     },
     "execution_count": 65,
     "metadata": {},
     "output_type": "execute_result"
    }
   ],
   "source": [
    "y[85]"
   ]
  },
  {
   "cell_type": "markdown",
   "metadata": {},
   "source": [
    "### Variables globales y locales\n",
    "\n",
    "Antes de hablar de las variables globales y locales, quisiera hacer notar una curiosidad: "
   ]
  },
  {
   "cell_type": "code",
   "execution_count": 66,
   "metadata": {},
   "outputs": [
    {
     "data": {
      "text/plain": [
       "f1 (generic function with 1 method)"
      ]
     },
     "execution_count": 66,
     "metadata": {},
     "output_type": "execute_result"
    }
   ],
   "source": [
    "function f1(x1::Number)\n",
    "    a1 = 1\n",
    "    x1 += a1\n",
    "    return x1\n",
    "end"
   ]
  },
  {
   "cell_type": "code",
   "execution_count": 67,
   "metadata": {},
   "outputs": [
    {
     "data": {
      "text/plain": [
       "1"
      ]
     },
     "execution_count": 67,
     "metadata": {},
     "output_type": "execute_result"
    }
   ],
   "source": [
    "x = 1"
   ]
  },
  {
   "cell_type": "code",
   "execution_count": 68,
   "metadata": {},
   "outputs": [
    {
     "data": {
      "text/plain": [
       "2"
      ]
     },
     "execution_count": 68,
     "metadata": {},
     "output_type": "execute_result"
    }
   ],
   "source": [
    "f1(x)"
   ]
  },
  {
   "cell_type": "code",
   "execution_count": 69,
   "metadata": {},
   "outputs": [
    {
     "data": {
      "text/plain": [
       "1"
      ]
     },
     "execution_count": 69,
     "metadata": {},
     "output_type": "execute_result"
    }
   ],
   "source": [
    "x"
   ]
  },
  {
   "cell_type": "code",
   "execution_count": 70,
   "metadata": {},
   "outputs": [
    {
     "ename": "LoadError",
     "evalue": "UndefVarError: a1 not defined",
     "output_type": "error",
     "traceback": [
      "UndefVarError: a1 not defined",
      "",
      "Stacktrace:",
      " [1] top-level scope",
      "   @ :0",
      " [2] eval",
      "   @ .\\boot.jl:360 [inlined]",
      " [3] include_string(mapexpr::typeof(REPL.softscope), mod::Module, code::String, filename::String)",
      "   @ Base .\\loading.jl:1094"
     ]
    }
   ],
   "source": [
    "a1"
   ]
  },
  {
   "cell_type": "code",
   "execution_count": 71,
   "metadata": {},
   "outputs": [
    {
     "data": {
      "text/plain": [
       "f2 (generic function with 1 method)"
      ]
     },
     "execution_count": 71,
     "metadata": {},
     "output_type": "execute_result"
    }
   ],
   "source": [
    "function f2(x2::Number)\n",
    "    x2 += a2\n",
    "    return x2\n",
    "end"
   ]
  },
  {
   "cell_type": "code",
   "execution_count": 72,
   "metadata": {},
   "outputs": [
    {
     "data": {
      "text/plain": [
       "9"
      ]
     },
     "execution_count": 72,
     "metadata": {},
     "output_type": "execute_result"
    }
   ],
   "source": [
    "a2 = 8\n",
    "x = 1\n",
    "f2(x)"
   ]
  },
  {
   "cell_type": "code",
   "execution_count": 73,
   "metadata": {},
   "outputs": [
    {
     "data": {
      "text/plain": [
       "1"
      ]
     },
     "execution_count": 73,
     "metadata": {},
     "output_type": "execute_result"
    }
   ],
   "source": [
    "x"
   ]
  },
  {
   "cell_type": "code",
   "execution_count": 74,
   "metadata": {},
   "outputs": [
    {
     "data": {
      "text/plain": [
       "f3 (generic function with 1 method)"
      ]
     },
     "execution_count": 74,
     "metadata": {},
     "output_type": "execute_result"
    }
   ],
   "source": [
    "a3 = 10\n",
    "function f3(x3::Number)\n",
    "    a3 += 1\n",
    "    x3 += a3\n",
    "    return x3\n",
    "end"
   ]
  },
  {
   "cell_type": "code",
   "execution_count": 75,
   "metadata": {},
   "outputs": [
    {
     "ename": "LoadError",
     "evalue": "UndefVarError: a3 not defined",
     "output_type": "error",
     "traceback": [
      "UndefVarError: a3 not defined",
      "",
      "Stacktrace:",
      " [1] f3(x3::Int64)",
      "   @ Main .\\In[74]:3",
      " [2] top-level scope",
      "   @ In[75]:2",
      " [3] eval",
      "   @ .\\boot.jl:360 [inlined]",
      " [4] include_string(mapexpr::typeof(REPL.softscope), mod::Module, code::String, filename::String)",
      "   @ Base .\\loading.jl:1094"
     ]
    }
   ],
   "source": [
    "x = 1\n",
    "f3(x)"
   ]
  },
  {
   "cell_type": "code",
   "execution_count": 76,
   "metadata": {},
   "outputs": [
    {
     "data": {
      "text/plain": [
       "f4 (generic function with 1 method)"
      ]
     },
     "execution_count": 76,
     "metadata": {},
     "output_type": "execute_result"
    }
   ],
   "source": [
    "function f4(x4::Array)\n",
    "    a4 = 1\n",
    "    x4 .+= a4\n",
    "    return x4\n",
    "end"
   ]
  },
  {
   "cell_type": "code",
   "execution_count": 77,
   "metadata": {},
   "outputs": [
    {
     "data": {
      "text/plain": [
       "2-element Vector{Int64}:\n",
       " 1\n",
       " 2"
      ]
     },
     "execution_count": 77,
     "metadata": {},
     "output_type": "execute_result"
    }
   ],
   "source": [
    "y = [1,2]"
   ]
  },
  {
   "cell_type": "code",
   "execution_count": 78,
   "metadata": {},
   "outputs": [
    {
     "data": {
      "text/plain": [
       "2-element Vector{Int64}:\n",
       " 2\n",
       " 3"
      ]
     },
     "execution_count": 78,
     "metadata": {},
     "output_type": "execute_result"
    }
   ],
   "source": [
    "f4(y)"
   ]
  },
  {
   "cell_type": "code",
   "execution_count": 79,
   "metadata": {},
   "outputs": [
    {
     "data": {
      "text/plain": [
       "2-element Vector{Int64}:\n",
       " 2\n",
       " 3"
      ]
     },
     "execution_count": 79,
     "metadata": {},
     "output_type": "execute_result"
    }
   ],
   "source": [
    "y"
   ]
  },
  {
   "cell_type": "code",
   "execution_count": 80,
   "metadata": {},
   "outputs": [
    {
     "ename": "LoadError",
     "evalue": "UndefVarError: a4 not defined",
     "output_type": "error",
     "traceback": [
      "UndefVarError: a4 not defined",
      "",
      "Stacktrace:",
      " [1] top-level scope",
      "   @ :0",
      " [2] eval",
      "   @ .\\boot.jl:360 [inlined]",
      " [3] include_string(mapexpr::typeof(REPL.softscope), mod::Module, code::String, filename::String)",
      "   @ Base .\\loading.jl:1094"
     ]
    }
   ],
   "source": [
    "a4"
   ]
  },
  {
   "cell_type": "code",
   "execution_count": 81,
   "metadata": {},
   "outputs": [
    {
     "data": {
      "text/plain": [
       "f5 (generic function with 1 method)"
      ]
     },
     "execution_count": 81,
     "metadata": {},
     "output_type": "execute_result"
    }
   ],
   "source": [
    "function f5(x5::Array)\n",
    "    a5 = 1\n",
    "    x5 = x5 .+ a5\n",
    "    return x5\n",
    "end"
   ]
  },
  {
   "cell_type": "code",
   "execution_count": 82,
   "metadata": {},
   "outputs": [
    {
     "data": {
      "text/plain": [
       "2-element Vector{Int64}:\n",
       " 2\n",
       " 3"
      ]
     },
     "execution_count": 82,
     "metadata": {},
     "output_type": "execute_result"
    }
   ],
   "source": [
    "y = [1,2]\n",
    "f5(y)"
   ]
  },
  {
   "cell_type": "code",
   "execution_count": 83,
   "metadata": {},
   "outputs": [
    {
     "data": {
      "text/plain": [
       "2-element Vector{Int64}:\n",
       " 1\n",
       " 2"
      ]
     },
     "execution_count": 83,
     "metadata": {},
     "output_type": "execute_result"
    }
   ],
   "source": [
    "y"
   ]
  },
  {
   "cell_type": "code",
   "execution_count": 84,
   "metadata": {},
   "outputs": [
    {
     "data": {
      "text/plain": [
       "(true, false, false, true)"
      ]
     },
     "execution_count": 84,
     "metadata": {},
     "output_type": "execute_result"
    }
   ],
   "source": [
    "ismutable([1,2]), ismutable(1), ismutable('c'), ismutable(\"hola\")"
   ]
  },
  {
   "cell_type": "markdown",
   "metadata": {},
   "source": [
    "Esto es importante porque, si están trabajando con números pueden despreocuparse, las variables no se van a modificar dentro de su función. Sin embargo, si están trabajando con arreglos (y quizá otros tipos de variables, como las cadenas), pueden terminar modificando su variable innintencionalmente de forma global y que el proceso final no resulte bien. Para evitarlo uno puede hacer una copia de su variable. "
   ]
  },
  {
   "cell_type": "code",
   "execution_count": 85,
   "metadata": {},
   "outputs": [
    {
     "data": {
      "text/plain": [
       "2-element Vector{Int64}:\n",
       " 1\n",
       " 2"
      ]
     },
     "execution_count": 85,
     "metadata": {},
     "output_type": "execute_result"
    }
   ],
   "source": [
    "x = [1,2]\n",
    "x_copy = copy(x)"
   ]
  },
  {
   "cell_type": "code",
   "execution_count": 86,
   "metadata": {},
   "outputs": [
    {
     "data": {
      "text/plain": [
       "2-element Vector{Int64}:\n",
       " 2\n",
       " 3"
      ]
     },
     "execution_count": 86,
     "metadata": {},
     "output_type": "execute_result"
    }
   ],
   "source": [
    "x_copy .+= 1"
   ]
  },
  {
   "cell_type": "code",
   "execution_count": 87,
   "metadata": {},
   "outputs": [
    {
     "data": {
      "text/plain": [
       "2-element Vector{Int64}:\n",
       " 1\n",
       " 2"
      ]
     },
     "execution_count": 87,
     "metadata": {},
     "output_type": "execute_result"
    }
   ],
   "source": [
    "x"
   ]
  },
  {
   "cell_type": "markdown",
   "metadata": {},
   "source": [
    "Aquí hay que tener cuidado un cuidado extra. Es un poco complicado cómo son los arreglos en la memoria. Estos consisten de un dato que dice el tamaño del arreglo y un conjunto de apuntadores de memoria sobre qué objetos se tienen. Digamos que se ve algo así: \n",
    "\n",
    "a = [#12342, #23212, #133342] -> #1555553\n",
    "\n",
    "Cada uno de esos números son un apuntador hacia la memoria donde está alojada la información del elemento. Entonces, cuando se hace copy(a), lo que se genera es un arreglo más o menos así: \n",
    "\n",
    "copy(a) = [#1555554, #1555555, #1555556] -> #1555557\n",
    "\n",
    "donde los valores dentro del arreglo son una copia idéntica de los valores en #12342, #23212 y #133342. \n",
    "\n",
    "Pero puede suceder que por ejemplo #12342, fuera de hecho un arreglo. Por ejemplo\n",
    "\n",
    "#12342 = [#112, #113, #114]\n",
    "\n",
    "entonces, en la copia de a, el valor #1555554, estará en otra posición de la memoria, pero apuntará a los mismos #112, #113 y #114, de forma que al modificar esos elementos, se modifique también el valor de copy(a). "
   ]
  },
  {
   "cell_type": "code",
   "execution_count": 88,
   "metadata": {},
   "outputs": [
    {
     "data": {
      "text/plain": [
       "2-element Vector{Any}:\n",
       "  [1, 2]\n",
       " 1"
      ]
     },
     "execution_count": 88,
     "metadata": {},
     "output_type": "execute_result"
    }
   ],
   "source": [
    "x = [[1,2], 1]\n",
    "y = copy(x)\n"
   ]
  },
  {
   "cell_type": "code",
   "execution_count": 89,
   "metadata": {},
   "outputs": [
    {
     "data": {
      "text/plain": [
       "2"
      ]
     },
     "execution_count": 89,
     "metadata": {},
     "output_type": "execute_result"
    }
   ],
   "source": [
    "x[1][1] = 2"
   ]
  },
  {
   "cell_type": "code",
   "execution_count": 90,
   "metadata": {},
   "outputs": [
    {
     "data": {
      "text/plain": [
       "2-element Vector{Any}:\n",
       "  [2, 2]\n",
       " 1"
      ]
     },
     "execution_count": 90,
     "metadata": {},
     "output_type": "execute_result"
    }
   ],
   "source": [
    "x"
   ]
  },
  {
   "cell_type": "code",
   "execution_count": 91,
   "metadata": {},
   "outputs": [
    {
     "data": {
      "text/plain": [
       "2-element Vector{Any}:\n",
       "  [2, 2]\n",
       " 1"
      ]
     },
     "execution_count": 91,
     "metadata": {},
     "output_type": "execute_result"
    }
   ],
   "source": [
    "y"
   ]
  },
  {
   "cell_type": "code",
   "execution_count": null,
   "metadata": {},
   "outputs": [],
   "source": []
  },
  {
   "cell_type": "markdown",
   "metadata": {},
   "source": [
    "Entonces, en general está bien usar copy para resolver el problema de que una función actualice el valor de una variable, pero cuando nuestras variables son arreglos de arreglos (o cosas más complicadas), debemos usar deepcopy, que lo que hace es modificar todos los apuntadores. "
   ]
  },
  {
   "cell_type": "code",
   "execution_count": 92,
   "metadata": {},
   "outputs": [
    {
     "data": {
      "text/plain": [
       "2-element Vector{Any}:\n",
       "  [1, 2]\n",
       " 1"
      ]
     },
     "execution_count": 92,
     "metadata": {},
     "output_type": "execute_result"
    }
   ],
   "source": [
    "x = [[1,2], 1]\n",
    "y = deepcopy(x)"
   ]
  },
  {
   "cell_type": "code",
   "execution_count": 93,
   "metadata": {},
   "outputs": [
    {
     "data": {
      "text/plain": [
       "2-element Vector{Any}:\n",
       "  [1, 2]\n",
       " 1"
      ]
     },
     "execution_count": 93,
     "metadata": {},
     "output_type": "execute_result"
    }
   ],
   "source": [
    "y"
   ]
  },
  {
   "cell_type": "code",
   "execution_count": 94,
   "metadata": {},
   "outputs": [
    {
     "data": {
      "text/plain": [
       "2"
      ]
     },
     "execution_count": 94,
     "metadata": {},
     "output_type": "execute_result"
    }
   ],
   "source": [
    "x[1][1] = 2"
   ]
  },
  {
   "cell_type": "code",
   "execution_count": 95,
   "metadata": {},
   "outputs": [
    {
     "data": {
      "text/plain": [
       "2-element Vector{Any}:\n",
       "  [2, 2]\n",
       " 1"
      ]
     },
     "execution_count": 95,
     "metadata": {},
     "output_type": "execute_result"
    }
   ],
   "source": [
    "x"
   ]
  },
  {
   "cell_type": "code",
   "execution_count": 96,
   "metadata": {},
   "outputs": [
    {
     "data": {
      "text/plain": [
       "2-element Vector{Any}:\n",
       "  [1, 2]\n",
       " 1"
      ]
     },
     "execution_count": 96,
     "metadata": {},
     "output_type": "execute_result"
    }
   ],
   "source": [
    "y"
   ]
  },
  {
   "cell_type": "markdown",
   "metadata": {},
   "source": [
    "Se tiene que tomar en cuenta que hacer deepcopy es un proceso más lento (y puede ser mucho más lento) que hacer sólo copy, así que vale la pena verificiar si es necesario usar deepcopy. "
   ]
  },
  {
   "cell_type": "markdown",
   "metadata": {},
   "source": [
    "También puede pasar que de hecho con la función se quiera modificar el valor de la variable en cuestión. Esto por supuesto sólo se puede hacer si la variable es mutable. En ese caso \"despreocúpense de usar copy\", pero si lo hacen, por convención, utilicen el símbolo ! al final del nombre de su variable. \n",
    "\n",
    "Es parte de las buenas prácticas de programación. Por ejemplo: "
   ]
  },
  {
   "cell_type": "code",
   "execution_count": 97,
   "metadata": {},
   "outputs": [
    {
     "data": {
      "text/plain": [
       "f6 (generic function with 1 method)"
      ]
     },
     "execution_count": 97,
     "metadata": {},
     "output_type": "execute_result"
    }
   ],
   "source": [
    "function f6(x6::Array)\n",
    "    x6 .+= 1\n",
    "end"
   ]
  },
  {
   "cell_type": "code",
   "execution_count": 98,
   "metadata": {},
   "outputs": [
    {
     "data": {
      "text/plain": [
       "2-element Vector{Int64}:\n",
       " 2\n",
       " 3"
      ]
     },
     "execution_count": 98,
     "metadata": {},
     "output_type": "execute_result"
    }
   ],
   "source": [
    "y = [1,2]\n",
    "f6(y)"
   ]
  },
  {
   "cell_type": "code",
   "execution_count": 99,
   "metadata": {},
   "outputs": [
    {
     "data": {
      "text/plain": [
       "2-element Vector{Int64}:\n",
       " 2\n",
       " 3"
      ]
     },
     "execution_count": 99,
     "metadata": {},
     "output_type": "execute_result"
    }
   ],
   "source": [
    "y"
   ]
  },
  {
   "cell_type": "markdown",
   "metadata": {},
   "source": [
    "es una función que modifica el valor de la x, por lo tanto debería de llamarse en realidad f!(x) y no f(x). "
   ]
  },
  {
   "cell_type": "code",
   "execution_count": 100,
   "metadata": {},
   "outputs": [
    {
     "data": {
      "text/plain": [
       "f6! (generic function with 1 method)"
      ]
     },
     "execution_count": 100,
     "metadata": {},
     "output_type": "execute_result"
    }
   ],
   "source": [
    "function f6!(x6::Array)\n",
    "    x6 .+= 1\n",
    "end"
   ]
  },
  {
   "cell_type": "markdown",
   "metadata": {},
   "source": [
    "Aún no hemos explicado por qué"
   ]
  },
  {
   "cell_type": "raw",
   "metadata": {},
   "source": [
    "function f(x)\n",
    "    a = 1\n",
    "    x += a\n",
    "    return x\n",
    "end"
   ]
  },
  {
   "cell_type": "markdown",
   "metadata": {},
   "source": [
    "no genera una variable a = 1. La razón es que para evitar conflictos, siempre que una variable no esté definida extrictamente global en Julia (como las constantes), todas las variables que no están entre los argumentos de la función y que se utilizan para definir la función, son variables locales. "
   ]
  },
  {
   "cell_type": "markdown",
   "metadata": {},
   "source": [
    "Las variables en un bloque pueden venir (o no) de un input y pueden modificar (o no) variables fuera del bloque. Cuando una variable se generó dentro de un bloque y no modifica una variable fuera del bloque, decimos que es local. \n",
    "\n",
    "Una variable que está dentro de todos los bloques y puede ser modificada en todos los bloques es una variable global. \n",
    "\n",
    "Para el resto de los casos se habla del scope, que es el alcance de las variables dentro de un bloque. En lo que explicaré enseguida llamaré notebook a todo lo que no son bloques (de cualquier cosa que se comience con un comando y se termine con \"end\"). \n",
    "\n",
    "- Comenzano por los bloques más sencillos, que son los condicionales y begin. En ambos bloques, las variables tienen el mismo alcanze que en el notebook, es decir, lo que se defina ahí afecta al notebook y lo que se defina en el notebook afecta los bloques formados por if y por begin. \n",
    "\n",
    "- Las variables definidas por primera vez dentro de los ciclos for y while son locales, pero las variables que fueron definidas en el notebook, sí son reconocidas en los ciclos y pueden ser modificadas. \n",
    "\n",
    "- En las funciones, todas las variables (excepto por los argumentos y las variables globales) son locales. Los argumentos son variables locales si son inmutables y tienen el mismo alcance que en el notebook si son mutables. "
   ]
  },
  {
   "cell_type": "code",
   "execution_count": 101,
   "metadata": {},
   "outputs": [
    {
     "data": {
      "text/plain": [
       "1"
      ]
     },
     "execution_count": 101,
     "metadata": {},
     "output_type": "execute_result"
    }
   ],
   "source": [
    "##############\n",
    "#  notebook  #\n",
    "##############\n",
    "\n",
    "a7 = 1\n",
    "if true\n",
    "    a7 += 1\n",
    "    c7 = 1\n",
    "end"
   ]
  },
  {
   "cell_type": "code",
   "execution_count": 102,
   "metadata": {},
   "outputs": [
    {
     "data": {
      "text/plain": [
       "(2, 1)"
      ]
     },
     "execution_count": 102,
     "metadata": {},
     "output_type": "execute_result"
    }
   ],
   "source": [
    "a7, c7"
   ]
  },
  {
   "cell_type": "code",
   "execution_count": 103,
   "metadata": {},
   "outputs": [],
   "source": [
    "##############\n",
    "#  notebook  #\n",
    "##############\n",
    "\n",
    "a8 = 1\n",
    "for i in 1:2\n",
    "    a8 += 1\n",
    "    c8 = 2\n",
    "end"
   ]
  },
  {
   "cell_type": "code",
   "execution_count": 104,
   "metadata": {},
   "outputs": [
    {
     "data": {
      "text/plain": [
       "3"
      ]
     },
     "execution_count": 104,
     "metadata": {},
     "output_type": "execute_result"
    }
   ],
   "source": [
    "a8"
   ]
  },
  {
   "cell_type": "code",
   "execution_count": 105,
   "metadata": {},
   "outputs": [
    {
     "ename": "LoadError",
     "evalue": "UndefVarError: c8 not defined",
     "output_type": "error",
     "traceback": [
      "UndefVarError: c8 not defined",
      "",
      "Stacktrace:",
      " [1] top-level scope",
      "   @ :0",
      " [2] eval",
      "   @ .\\boot.jl:360 [inlined]",
      " [3] include_string(mapexpr::typeof(REPL.softscope), mod::Module, code::String, filename::String)",
      "   @ Base .\\loading.jl:1094"
     ]
    }
   ],
   "source": [
    "c8"
   ]
  },
  {
   "cell_type": "code",
   "execution_count": 106,
   "metadata": {},
   "outputs": [
    {
     "data": {
      "text/plain": [
       "f9 (generic function with 1 method)"
      ]
     },
     "execution_count": 106,
     "metadata": {},
     "output_type": "execute_result"
    }
   ],
   "source": [
    "##############\n",
    "#  notebook  #\n",
    "##############\n",
    "\n",
    "a9 = 1\n",
    "function f9(x9)   \n",
    "    a9 = a9 + 1\n",
    "    x9 = x9 + a9\n",
    "    a10 = 1\n",
    "end"
   ]
  },
  {
   "cell_type": "code",
   "execution_count": 107,
   "metadata": {},
   "outputs": [
    {
     "ename": "LoadError",
     "evalue": "UndefVarError: a9 not defined",
     "output_type": "error",
     "traceback": [
      "UndefVarError: a9 not defined",
      "",
      "Stacktrace:",
      " [1] f9(x9::Int64)",
      "   @ Main .\\In[106]:7",
      " [2] top-level scope",
      "   @ In[107]:2",
      " [3] eval",
      "   @ .\\boot.jl:360 [inlined]",
      " [4] include_string(mapexpr::typeof(REPL.softscope), mod::Module, code::String, filename::String)",
      "   @ Base .\\loading.jl:1094"
     ]
    }
   ],
   "source": [
    "x9 = 1\n",
    "f9(x9)"
   ]
  },
  {
   "cell_type": "code",
   "execution_count": 108,
   "metadata": {},
   "outputs": [
    {
     "data": {
      "text/plain": [
       "f10 (generic function with 1 method)"
      ]
     },
     "execution_count": 108,
     "metadata": {},
     "output_type": "execute_result"
    }
   ],
   "source": [
    "##############\n",
    "#  notebook  #\n",
    "##############\n",
    "\n",
    "a10 = 1\n",
    "function f10(x10)   \n",
    "    a10 = 4\n",
    "    x10 += 1\n",
    "end"
   ]
  },
  {
   "cell_type": "code",
   "execution_count": 109,
   "metadata": {},
   "outputs": [
    {
     "data": {
      "text/plain": [
       "2"
      ]
     },
     "execution_count": 109,
     "metadata": {},
     "output_type": "execute_result"
    }
   ],
   "source": [
    "x10 = 1\n",
    "f10(x10)"
   ]
  },
  {
   "cell_type": "code",
   "execution_count": 110,
   "metadata": {},
   "outputs": [
    {
     "data": {
      "text/plain": [
       "(1, 1)"
      ]
     },
     "execution_count": 110,
     "metadata": {},
     "output_type": "execute_result"
    }
   ],
   "source": [
    "x10, a10"
   ]
  },
  {
   "cell_type": "markdown",
   "metadata": {},
   "source": [
    "Hasta este punto vimos que las variables en general tienen un scope determinando por el tipo de bloque donde se generaron y se operan. Pero se puede forzar a tener variables que sean locales (que sólo sirvan dentro del bloque) y variables que sean globales (que una vez definidas sean reconocidas en todos lados y sean alteradas en todos lados). Para esto usamos local y global respectivamente: "
   ]
  },
  {
   "cell_type": "code",
   "execution_count": 111,
   "metadata": {},
   "outputs": [
    {
     "data": {
      "text/plain": [
       "genera_variable_global_absurda (generic function with 1 method)"
      ]
     },
     "execution_count": 111,
     "metadata": {},
     "output_type": "execute_result"
    }
   ],
   "source": [
    "function genera_variable_global_absurda()\n",
    "    global variable_global_absurda = 1\n",
    "end"
   ]
  },
  {
   "cell_type": "code",
   "execution_count": 112,
   "metadata": {},
   "outputs": [
    {
     "ename": "LoadError",
     "evalue": "UndefVarError: variable_global_absurda not defined",
     "output_type": "error",
     "traceback": [
      "UndefVarError: variable_global_absurda not defined",
      "",
      "Stacktrace:",
      " [1] top-level scope",
      "   @ :0",
      " [2] eval",
      "   @ .\\boot.jl:360 [inlined]",
      " [3] include_string(mapexpr::typeof(REPL.softscope), mod::Module, code::String, filename::String)",
      "   @ Base .\\loading.jl:1094"
     ]
    }
   ],
   "source": [
    "variable_global_absurda"
   ]
  },
  {
   "cell_type": "code",
   "execution_count": 113,
   "metadata": {},
   "outputs": [
    {
     "data": {
      "text/plain": [
       "1"
      ]
     },
     "execution_count": 113,
     "metadata": {},
     "output_type": "execute_result"
    }
   ],
   "source": [
    "genera_variable_global_absurda()"
   ]
  },
  {
   "cell_type": "code",
   "execution_count": 114,
   "metadata": {},
   "outputs": [
    {
     "data": {
      "text/plain": [
       "1"
      ]
     },
     "execution_count": 114,
     "metadata": {},
     "output_type": "execute_result"
    }
   ],
   "source": [
    "variable_global_absurda "
   ]
  },
  {
   "cell_type": "code",
   "execution_count": 115,
   "metadata": {},
   "outputs": [
    {
     "data": {
      "text/plain": [
       "1"
      ]
     },
     "execution_count": 115,
     "metadata": {},
     "output_type": "execute_result"
    }
   ],
   "source": [
    "if true \n",
    "    local variable_local_absurda = 1\n",
    "end"
   ]
  },
  {
   "cell_type": "code",
   "execution_count": 116,
   "metadata": {},
   "outputs": [
    {
     "ename": "LoadError",
     "evalue": "UndefVarError: variable_local_absurda not defined",
     "output_type": "error",
     "traceback": [
      "UndefVarError: variable_local_absurda not defined",
      "",
      "Stacktrace:",
      " [1] top-level scope",
      "   @ :0",
      " [2] eval",
      "   @ .\\boot.jl:360 [inlined]",
      " [3] include_string(mapexpr::typeof(REPL.softscope), mod::Module, code::String, filename::String)",
      "   @ Base .\\loading.jl:1094"
     ]
    }
   ],
   "source": [
    "variable_local_absurda"
   ]
  },
  {
   "cell_type": "code",
   "execution_count": 117,
   "metadata": {},
   "outputs": [
    {
     "data": {
      "text/plain": [
       "utiliza_pi_como_2 (generic function with 1 method)"
      ]
     },
     "execution_count": 117,
     "metadata": {},
     "output_type": "execute_result"
    }
   ],
   "source": [
    "function utiliza_pi_como_2()\n",
    "    local π = 2\n",
    "    π^2\n",
    "end"
   ]
  },
  {
   "cell_type": "code",
   "execution_count": 118,
   "metadata": {},
   "outputs": [
    {
     "data": {
      "text/plain": [
       "4"
      ]
     },
     "execution_count": 118,
     "metadata": {},
     "output_type": "execute_result"
    }
   ],
   "source": [
    "utiliza_pi_como_2()"
   ]
  },
  {
   "cell_type": "code",
   "execution_count": 119,
   "metadata": {},
   "outputs": [
    {
     "data": {
      "text/plain": [
       "π = 3.1415926535897..."
      ]
     },
     "execution_count": 119,
     "metadata": {},
     "output_type": "execute_result"
    }
   ],
   "source": [
    "π"
   ]
  },
  {
   "cell_type": "code",
   "execution_count": 120,
   "metadata": {},
   "outputs": [
    {
     "ename": "LoadError",
     "evalue": "cannot assign a value to variable MathConstants.π from module Main",
     "output_type": "error",
     "traceback": [
      "cannot assign a value to variable MathConstants.π from module Main",
      "",
      "Stacktrace:",
      " [1] top-level scope",
      "   @ In[120]:1",
      " [2] eval",
      "   @ .\\boot.jl:360 [inlined]",
      " [3] include_string(mapexpr::typeof(REPL.softscope), mod::Module, code::String, filename::String)",
      "   @ Base .\\loading.jl:1094"
     ]
    }
   ],
   "source": [
    "π = 2"
   ]
  },
  {
   "cell_type": "markdown",
   "metadata": {},
   "source": [
    "Casi siempre las variables globales son constantes. Por ejemplo, pueden definir la constante de Plank y que esta sea una variable global (que sea tratada ya como un número). Para eso se usa const"
   ]
  },
  {
   "cell_type": "code",
   "execution_count": 121,
   "metadata": {},
   "outputs": [
    {
     "data": {
      "text/plain": [
       "6.62607015e-34"
      ]
     },
     "execution_count": 121,
     "metadata": {},
     "output_type": "execute_result"
    }
   ],
   "source": [
    "const hplank = 6.62607015e-34"
   ]
  },
  {
   "cell_type": "code",
   "execution_count": 122,
   "metadata": {},
   "outputs": [
    {
     "data": {
      "text/plain": [
       "6.62607015e-34"
      ]
     },
     "execution_count": 122,
     "metadata": {},
     "output_type": "execute_result"
    }
   ],
   "source": [
    "hplank"
   ]
  },
  {
   "cell_type": "code",
   "execution_count": 123,
   "metadata": {},
   "outputs": [
    {
     "data": {
      "text/plain": [
       "Energía_de_un_fotón (generic function with 1 method)"
      ]
     },
     "execution_count": 123,
     "metadata": {},
     "output_type": "execute_result"
    }
   ],
   "source": [
    "function Energía_de_un_fotón(ν)\n",
    "    hplank*ν\n",
    "end"
   ]
  },
  {
   "cell_type": "code",
   "execution_count": 124,
   "metadata": {},
   "outputs": [
    {
     "data": {
      "text/plain": [
       "7.95128418e-34"
      ]
     },
     "execution_count": 124,
     "metadata": {},
     "output_type": "execute_result"
    }
   ],
   "source": [
    "Energía_de_un_fotón(1.2)"
   ]
  },
  {
   "cell_type": "code",
   "execution_count": 125,
   "metadata": {},
   "outputs": [
    {
     "ename": "LoadError",
     "evalue": "invalid redefinition of constant hplank",
     "output_type": "error",
     "traceback": [
      "invalid redefinition of constant hplank",
      "",
      "Stacktrace:",
      " [1] top-level scope",
      "   @ In[125]:1",
      " [2] eval",
      "   @ .\\boot.jl:360 [inlined]",
      " [3] include_string(mapexpr::typeof(REPL.softscope), mod::Module, code::String, filename::String)",
      "   @ Base .\\loading.jl:1094"
     ]
    }
   ],
   "source": [
    "hplank = 2"
   ]
  },
  {
   "cell_type": "markdown",
   "metadata": {},
   "source": [
    "La ventaja de usar constantes son 2: \n",
    "1. No es posible re-definir la constante por error en el código. \n",
    "2. Es más rápida la operación con constantes que por variables! "
   ]
  },
  {
   "cell_type": "markdown",
   "metadata": {},
   "source": [
    "### Modificar funciones pre-definidas (para agregar métodos). \n",
    "\n",
    "Lo último que veremos en este video-notebook, es como modificar una función predefinida. "
   ]
  },
  {
   "cell_type": "code",
   "execution_count": 126,
   "metadata": {},
   "outputs": [],
   "source": [
    "import Base.+, Base.*"
   ]
  },
  {
   "cell_type": "code",
   "execution_count": 136,
   "metadata": {},
   "outputs": [
    {
     "data": {
      "text/plain": [
       "* (generic function with 329 methods)"
      ]
     },
     "execution_count": 136,
     "metadata": {},
     "output_type": "execute_result"
    }
   ],
   "source": [
    "function +(personas::Persona...)\n",
    "    Diccionario = Dict([(:suceptible,1),(:infectado,2),(:enfermo,3),(:muerto,4),(:recuperado,5)])\n",
    "    Diccionario_de_regreso = [:suceptible,:infectado,:enfermo,:muerto,:recuperado]\n",
    "    estado_de_salud = 0#Diccionario(personas[1].estado_de_salud)\n",
    "    edad = 0#personas[1].edad\n",
    "    tiempo_salud = 0#personas[1].tiempo_salud\n",
    "    posicion = zeros(length(personas[1].posicion))#personas[1].posicion\n",
    "    velocidad = zeros(length(personas[1].posicion))#personas[1].velocidad\n",
    "    for p ∈ personas\n",
    "         estado_de_salud += Diccionario[p.estado_de_salud]\n",
    "         edad += p.edad\n",
    "         tiempo_salud += p.tiempo_salud\n",
    "         posicion .+= p.posicion\n",
    "         velocidad .+= p.velocidad\n",
    "    end\n",
    "    estado_de_salud = min(5, ceil(Int, estado_de_salud/length(personas)))\n",
    "    p = Persona(Diccionario_de_regreso[estado_de_salud], round(Int, edad/length(personas)), \n",
    "        tiempo_salud/length(personas), posicion./length(personas), velocidad./length(personas))\n",
    "end \n",
    "\n",
    "function *(persona::Persona, a::Number)\n",
    "    estado_de_salud = persona.estado_de_salud\n",
    "    edad = persona.edad*a\n",
    "    tiempo_salud = persona.tiempo_salud*a\n",
    "    posicion = persona.posicion.*a\n",
    "    velocidad = persona.velocidad.*a\n",
    "    p = Persona(estado_de_salud, edad, tiempo_salud, posicion, velocidad)\n",
    "end "
   ]
  },
  {
   "cell_type": "code",
   "execution_count": 137,
   "metadata": {},
   "outputs": [],
   "source": [
    "ps = Persona(:infectado, 20, 0, rand(2), rand(2).-0.5)\n",
    "p = (ps,)\n",
    "for i in 1:50\n",
    "    ps = Persona(rand([:infectado, :suceptible]), rand(1:100), 0, rand(2), rand(2).-0.5)\n",
    "    p = push(ps, p...)\n",
    "end"
   ]
  },
  {
   "cell_type": "code",
   "execution_count": 138,
   "metadata": {},
   "outputs": [
    {
     "data": {
      "text/plain": [
       "Persona(:infectado, 45, 0.0, [0.356164599834292, 0.5882780922240146], [-0.002588798798029831, 0.016918643062994176])"
      ]
     },
     "execution_count": 138,
     "metadata": {},
     "output_type": "execute_result"
    }
   ],
   "source": [
    "p[1] + p[2] + p[3]"
   ]
  },
  {
   "cell_type": "code",
   "execution_count": 139,
   "metadata": {},
   "outputs": [
    {
     "data": {
      "text/plain": [
       "Persona(:infectado, 54, 0.0, [0.5930421819807661, 0.558422573588657], [-0.022383870189282482, -0.006747273172231282])"
      ]
     },
     "execution_count": 139,
     "metadata": {},
     "output_type": "execute_result"
    }
   ],
   "source": [
    "+(p...)"
   ]
  },
  {
   "cell_type": "code",
   "execution_count": 140,
   "metadata": {},
   "outputs": [
    {
     "data": {
      "text/plain": [
       "Persona(:infectado, 60, 0.0, [0.12249820748173423, 0.5278501709887294], [0.22958197881032205, 0.08244126794082862])"
      ]
     },
     "execution_count": 140,
     "metadata": {},
     "output_type": "execute_result"
    }
   ],
   "source": [
    "p[1] + p[2]"
   ]
  },
  {
   "cell_type": "code",
   "execution_count": null,
   "metadata": {},
   "outputs": [],
   "source": []
  }
 ],
 "metadata": {
  "@webio": {
   "lastCommId": null,
   "lastKernelId": null
  },
  "kernelspec": {
   "display_name": "Julia 1.6.1",
   "language": "julia",
   "name": "julia-1.6"
  },
  "language_info": {
   "file_extension": ".jl",
   "mimetype": "application/julia",
   "name": "julia",
   "version": "1.6.1"
  }
 },
 "nbformat": 4,
 "nbformat_minor": 4
}
