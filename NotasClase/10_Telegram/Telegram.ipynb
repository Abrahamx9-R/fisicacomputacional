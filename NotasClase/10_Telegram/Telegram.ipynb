{
 "cells": [
  {
   "cell_type": "markdown",
   "metadata": {},
   "source": [
    "# Telegram\n",
    "\n",
    "En este video-notebook vamos a aprender lo básico para poder hacer un bot de telegram usando Julia.\n",
    "\n",
    "Un bot es un programa asociado a una cuenta, que permite interacción entre usuarios de telegram y el código. Funciona de 2 formas. El usuario puede enviar mensajes que el programa interpreta y el programa puede enviar mensajes al usuario. \n",
    "\n",
    "\n",
    "## Generar un bot en Telegram. \n",
    "\n",
    "El primer paso es generar un bot en Telegram. Por favor, mientras sean bots de prueba utilicen nombres largos y que nadie más quiera usar, como incluyendo en el nombre del bot la fecha y la versión. Después de hacer las pruebas, eliminen el bot, para no ocupar nombres y espacio de Telegram inútilmente. **Es un servicio gratuito y abierto, así que no hay que abusar de él**. \n",
    "\n",
    "Para generar el bot tienen que entrar a Telegram y buscar el bot, @BotFather. Lo inician (como la mayoría) con /start. \n",
    "\n",
    "Después agregan el comando \\newbot. Les pedirá dar un nombre. Debe terminar con \"bot\" el nombre del bot. **Listo!!** ya crearon su bot. \n",
    "\n",
    "## Obteniendo el token\n",
    "\n",
    "El token es una referencia encriptada para que telegram reconozca la interacción con el programa como legal. Su token es su llave para acceder a su bot, por lo tanto, manténgalo privado. \n",
    "\n",
    "Para obtener el token, dentro del mismo @BotFather, escriben, una vez creado su bot, el comando \"/token\". Les pedirá que seleccionen uno de sus bots. Escriban \"@nombre_de_su_bot\". **Listo!** @BotFather les enviará como mensaje el token. Copienlo, lo necesitarán dentro de su código. \n",
    "\n",
    "## Paquetería necesaria\n",
    "\n",
    "Para interactuar entre Julia y su bot, necesitarán la paquetería Telegram. Instálenla y cargenla!\n",
    "\n",
    "Además, carguen la paquetería Telegram.API, que les servirá para enviar mensajes de su bot al chat que seleccionen. "
   ]
  },
  {
   "cell_type": "code",
   "execution_count": 1,
   "metadata": {},
   "outputs": [],
   "source": [
    "using Telegram, Telegram.API"
   ]
  },
  {
   "cell_type": "markdown",
   "metadata": {},
   "source": [
    "### id de un chat \n",
    "\n",
    "En muchos casos querrán que su bot sirva sólo para ustedes. Por ejemplo, que les envíe resultados parciales de una simulación mientras esta está corriendo y que sólo ustedes puedan \"re-enviar\" a correr alguna cosa. Para esto necesitan conocer el id del chat que tengan entre ustedes y el bot. \n",
    "\n",
    "Para esto necesitarán hacer su primer programa para interactuar con el bot. Utilizarán la función run_bot() incluida en la paquetería Telegram y que será la función principal para correr nuestros bots: "
   ]
  },
  {
   "cell_type": "code",
   "execution_count": null,
   "metadata": {},
   "outputs": [],
   "source": [
    "token = \"\"\n",
    "tg = TelegramClient(token)\n",
    "run_bot() do msg\n",
    "    #chat_id = msg.message.chat.id\n",
    "    @show msg\n",
    "end\n"
   ]
  },
  {
   "cell_type": "markdown",
   "metadata": {},
   "source": [
    "Las primeras 2 lineas del código son para conectar nuestro código de Julia con el bot correcto (usando el token). \n",
    "\n",
    "run_bot es una función que tiene como argumento una función. Lo que hace es tomar esa función y aplicársela a los mensajes que vayan generándose en el chat. \n",
    "\n",
    "Ahora bien, los mensajes del chat contienen mucha información además del mensaje en sí. Entre otras cosas, cada mensaje contiene  de qué chat proviene, es decir, el id del chat. \n",
    "\n",
    "el operador do, lo que hace es crear una función anónima que pone como primer argumento de la función que esté justo antes de do. Por ejemplo: \n"
   ]
  },
  {
   "cell_type": "code",
   "execution_count": null,
   "metadata": {},
   "outputs": [],
   "source": [
    "f(g,x) = g(x) \n",
    "\n",
    "f(6) do x\n",
    "\n",
    "end\n"
   ]
  },
  {
   "cell_type": "markdown",
   "metadata": {},
   "source": [
    "Aquí f es una función que tiene como argumentos g, una función cualquiera y x, un valor que se puede aplicar a g. Entonces, do en este caso es equivalente a f(x->x^2, 5). \n",
    "\n",
    "En general, se utiliza do, cuando la función anónima es más o menos complicada y cuesta entonces trabajo escribirla como x-> algo(x). Es similar a la diferencia entre definir una función como f(x) = algo o \n",
    "\n",
    "    function f(x)\n",
    "        algo\n",
    "     end\n",
    "     \n",
    "En el caso aplicado a run_bot, lo que se está haciendo en la función anónima es obtener el id del chat y luego mostrar este en pantalla. \n",
    "\n",
    "También pueden pedirle que imprima todo el mensaje \"msg\" y así ven qué es lo que está dentro de cada mensaje. Por supuesto, varía dependiendo del tipo de objeto que mandemos. Será diferente si enviamos una foto, un video, un documento, o texto. Incluso varía si la foto es incrustada (comprimida) o no. "
   ]
  },
  {
   "cell_type": "markdown",
   "metadata": {},
   "source": [
    "Con la función run_bot, aprendimos ya a recibir mensajes. Notarán que el texto es lo más sencillo de trabajar. msg.message.text es la cadena de caracteres con la que podemos trabajar. "
   ]
  },
  {
   "cell_type": "code",
   "execution_count": null,
   "metadata": {},
   "outputs": [],
   "source": [
    "run_bot() do msg\n",
    "    try\n",
    "        @show chat_id = msg.message.chat.id\n",
    "        println(msg.message.text)\n",
    "    catch\n",
    "        println(msg)\n",
    "    end\n",
    "end"
   ]
  },
  {
   "cell_type": "markdown",
   "metadata": {},
   "source": [
    "Ya sabemos cómo transformar las cadenas de caracteres en números y cómo trabajar con cadenas en sí, así que ya podemos hacer bastante. Pero ¿qué tal que ustedes quieren enviar algunas lineas de código?, en particular es común que lo que se quiera es enviar el nombre de una función junto con la variable sus argumentos. \n",
    "\n",
    "Una alternativa es definir un if, si la cadena de caracteres es una determinada, entonces se piden los argumentos de la función correspondiente y en orden y se corre dicha función. Esa es una forma \"segura\" de su bot, pero tediosa. Una alternativa es utilizar meta-programación. "
   ]
  },
  {
   "cell_type": "markdown",
   "metadata": {},
   "source": [
    "### Meta programación. \n",
    "\n",
    "La meta programación es de alguna forma hacer programas que hagan programas. Para esto necesitamos transformar texto en código. La función que hace esto se llama Meta.parse. Por ejemplo: "
   ]
  },
  {
   "cell_type": "code",
   "execution_count": null,
   "metadata": {},
   "outputs": [],
   "source": [
    "metaprograma = Meta.parse(\"f(x) = x^2\")"
   ]
  },
  {
   "cell_type": "code",
   "execution_count": null,
   "metadata": {},
   "outputs": [],
   "source": [
    "typeof(metaprograma)"
   ]
  },
  {
   "cell_type": "markdown",
   "metadata": {},
   "source": [
    "Aquí se generó una expresión que contiene todo lo del texto. Esa expresión es una pieza de código. El siguiente paso es evaluar la expresión. Para eso utilizamos la función eval: "
   ]
  },
  {
   "cell_type": "code",
   "execution_count": null,
   "metadata": {},
   "outputs": [],
   "source": [
    "eval(metaprograma)"
   ]
  },
  {
   "cell_type": "code",
   "execution_count": null,
   "metadata": {},
   "outputs": [],
   "source": [
    "f(2.3)"
   ]
  },
  {
   "cell_type": "markdown",
   "metadata": {},
   "source": [
    "con esto tenemos el programa completo. Esto es útil por ejemplo debe aplicar un determinado número de ciclos for, o un conjunto de if's similares, etc. Sin embargo, hay que tener en cuenta que la meta-programación es bastante más lenta, por lo que en general es mejor evitarlo. \n",
    "\n",
    "Hay unas pocas excepciones. Los macros (lo que inicia con @) y cuando se usa telegram son los ejemplos principales. Así, se puede por ejemplo usar\n",
    "\n",
    "eval(Meta.parse(msg.messag.text)) \n",
    "\n",
    "cuando el mensaje de texto comienza con el nombre de alguna función que hayan definido en su código, permitiendo a los usuarios aplicar algunas funciones con sus respectivos argumentos. \n",
    "\n",
    "El caso más simple es aplicar este truco a cualquier mensaje (en cuyo caso se vuelve simplemente un compilador de Julia, como el bot usado para aclarar dudas en el curso. Para evitar errores, uno puede utilizar try and catch. "
   ]
  },
  {
   "cell_type": "code",
   "execution_count": null,
   "metadata": {},
   "outputs": [],
   "source": [
    "run_bot() do msg\n",
    "    try\n",
    "        x = eval(Meta.parse(msg.message.text))\n",
    "        println(msg.message.text)\n",
    "        println(x)\n",
    "    catch\n",
    "\n",
    "    end\n",
    "end"
   ]
  },
  {
   "cell_type": "code",
   "execution_count": null,
   "metadata": {},
   "outputs": [],
   "source": [
    "f(32)"
   ]
  },
  {
   "cell_type": "markdown",
   "metadata": {},
   "source": [
    "Ahora el problema es ¿cómo hacemos que el bot envíen mensajes? \n",
    "\n",
    "### Funciones sendMessage, sendAudio,  sendDocument, sendPhoto, sendAnimation, sendVideo\n",
    "\n",
    "Con este propósito usaremos estas funciones. Todas requieren 2 argumentos, el chat_id y lo que se enviará. Por ejemplo sendMessage pide el karg text que es literalmente el texto que queremos enviar de regreso. \n",
    "\n",
    "Sobre el chat_id, pueden usar el id de su chat, o si quieren que funcione con cualquier chat, pueden poner:\n",
    "\n",
    "chat_id = msg.message.chat.id\n",
    "\n",
    "Hagamos un ejemplo sencillo. Por ejemplo, hagamos que nuestro bot regrese $x^2$ cuando lo que reciba como mensaje sea un número: "
   ]
  },
  {
   "cell_type": "code",
   "execution_count": null,
   "metadata": {},
   "outputs": [],
   "source": [
    "token = \" \"\n",
    "tg = TelegramClient(token)\n",
    "\n",
    "run_bot() do msg\n",
    "    try\n",
    "        mensaje = msg.message.text\n",
    "        numeros = findall(x-> x in ['0','1','2','3','4','5','6','7','8','9'], mensaje)\n",
    "        punto = findall(x-> x == '.', mensaje)\n",
    "        if length(numeros)+length(punto) == length(mensaje) && length(punto) <= 1 \n",
    "            x = parse(Float64, mensaje)^2\n",
    "            sendMessage(tg, text = \"$x\", chat_id = msg.message.chat.id)\n",
    "        end\n",
    "    catch\n",
    "        \n",
    "    end\n",
    "end"
   ]
  },
  {
   "cell_type": "markdown",
   "metadata": {},
   "source": [
    "Para enviar fotos, videos, audios, etc, es básicamente lo mismo, pero tienen que en vez de poner text = \"texto\", se pone photo = foto, document = documento, video = video, etc... \n",
    "\n",
    "Por supuesto, no es obvio cómo generan cada uno de esos materiales. Por ahora ya saben generar gif animados, imágenes y csv's, que después pueden cargar usando open(\"nombre del archivo\", \"r\"), es decir, foto = open(\"nombre del archivo\", \"r\"), document = open(\"nombre del archivo\", \"r\"), etc... Sobre el resto de tipo de archivos que podrían generar y cargar, necesitan otras paqueterías que no veremos en el curso (aunque existen, tanto para generar videos, como audios). Igual ya tienen bastante con esto. "
   ]
  },
  {
   "cell_type": "markdown",
   "metadata": {},
   "source": [
    "Ahora, podría pasar que no sólo quieran interactuar vía texto, sino vía imágenes, videos, etc. Para esto necesitan descargar el correspondiente archivo de internet. Telegram guarda los archivos por una hora en una página que les genera y que tiene la forma \"https://api.telegram.org/file/bottoken/path\". aquí bottoken significa bot+el token. Recuerden, el token es la llave para todo, en particular para encontrar los archivos de una conversación con un bot (entre particulares es más complejo porque no existe el token y los archivos están encriptados de punta a punta). \n",
    "\n",
    "Sólo les falta obtener el path. Para obtener el path se utiliza la función Telegram.API.getFille, que requiere del cliente (TelegramClient(token)), y el id del archivo. El id del archivo depende de qué tipo de archivo sea, pero en general es algo del estilo message.document.file_id o similar. \n",
    "\n",
    "Pueden hacer ejemplos para encontrar dónde está el id del archivo imprimiendo el mensaje completo y enviando distintos tipos de archivo. "
   ]
  },
  {
   "cell_type": "code",
   "execution_count": null,
   "metadata": {},
   "outputs": [],
   "source": []
  },
  {
   "cell_type": "code",
   "execution_count": null,
   "metadata": {},
   "outputs": [],
   "source": [
    "token = \"\"\n",
    "tg = TelegramClient(token)\n",
    "run_bot() do msg\n",
    "    @show msg\n",
    "end"
   ]
  },
  {
   "cell_type": "code",
   "execution_count": null,
   "metadata": {},
   "outputs": [],
   "source": [
    "using Images\n",
    "token = \"\"\n",
    "tg = TelegramClient(token)\n",
    "path = Any[]\n",
    "run_bot() do msg\n",
    "    try \n",
    "        id_fille = msg.message.document.thumb.file_id\n",
    "        path = [Telegram.API.getFile(tg, file_id =  id_fille)]\n",
    "        @show path\n",
    "    catch\n",
    "        \n",
    "    end\n",
    "end"
   ]
  },
  {
   "cell_type": "code",
   "execution_count": null,
   "metadata": {},
   "outputs": [],
   "source": [
    "using Images\n",
    "token = \"\"\n",
    "tg = TelegramClient(token)\n",
    "path = Any[]\n",
    "run_bot() do msg\n",
    "    try \n",
    "        id_fille = msg.message.document.thumb.file_id\n",
    "        path = Telegram.API.getFile(tg, file_id =  id_fille).file_path\n",
    "        @show path\n",
    "    catch\n",
    "        \n",
    "    end\n",
    "end"
   ]
  },
  {
   "cell_type": "code",
   "execution_count": null,
   "metadata": {},
   "outputs": [],
   "source": [
    "path = \"\"\n",
    "run_bot() do msg\n",
    "    try \n",
    "        id_fille = msg.message.document.file_id\n",
    "        path = Telegram.API.getFile(tg, file_id =  id_fille).file_path\n",
    "        imagen_pagina = \"https://api.telegram.org/file/bot\"*token*\"/\"*path\n",
    "        @show imagen_pagina\n",
    "    catch\n",
    "        \n",
    "    end\n",
    "end"
   ]
  },
  {
   "cell_type": "code",
   "execution_count": null,
   "metadata": {},
   "outputs": [],
   "source": [
    "imagen_pagina = \"\"\n",
    "A = load(download(imagen_pagina))"
   ]
  },
  {
   "cell_type": "code",
   "execution_count": null,
   "metadata": {},
   "outputs": [],
   "source": [
    "run_bot() do msg\n",
    "    try \n",
    "        id_fille = msg.message.document.file_id\n",
    "        path = Telegram.API.getFile(tg, file_id =  id_fille).file_path\n",
    "        imagen_pagina = \"https://api.telegram.org/file/bot\"*token*\"/\"*path\n",
    "        save(\"prueba1.png\", load(download(imagen_pagina)))\n",
    "        sendPhoto(photo = open(\"prueba1.png\", \"r\"), chat_id = msg.message.chat.id)\n",
    "    catch\n",
    "        \n",
    "    end\n",
    "end"
   ]
  },
  {
   "cell_type": "markdown",
   "metadata": {},
   "source": [
    "Y con esto ya tienen muchísimas posibilidades de bots que pueden crear. \n",
    "\n",
    "Por supuesto, siempre, para que puedan estar funcionando, necesitan tener un servidor donde esté corriendo sus programas, por ejemplo su computadora. Si apagan su computadora, el bot deja de funcionar. Pero eso es algo general de los bots, están corriendo en algún lugar y ese algún lugar es típicamente la compu del creador (o la compañía en la que trabaja). \n",
    "\n",
    "Y como en la mayoría de las paqueterías que veremos en este curso, esto es sólo una parte. Hay varias cosas más que se pueden hacer con esta paquetería, como tener botones de compra (pago de servicios o mercancías), aunque en realidad sí revisamos bastante de lo que se puede hacer. "
   ]
  }
 ],
 "metadata": {
  "@webio": {
   "lastCommId": null,
   "lastKernelId": null
  },
  "kernelspec": {
   "display_name": "Julia 1.6.1",
   "language": "julia",
   "name": "julia-1.6"
  },
  "language_info": {
   "file_extension": ".jl",
   "mimetype": "application/julia",
   "name": "julia",
   "version": "1.6.1"
  }
 },
 "nbformat": 4,
 "nbformat_minor": 4
}
