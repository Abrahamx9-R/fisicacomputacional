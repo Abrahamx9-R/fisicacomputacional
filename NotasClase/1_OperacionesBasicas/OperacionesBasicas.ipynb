{
 "cells": [
  {
   "cell_type": "markdown",
   "metadata": {},
   "source": [
    "# Operaciones básicas\n",
    "\n",
    "### Operaciones con números\n",
    "\n",
    "En Julia existen predefinidas un **titipuchal** de operaciones básicas que se pueden usar (como si se tratara de una calculadora). \n",
    "\n",
    "Ya notaron que por ejemplo están las operaciones como la suma o la multiplicación, que se expresan con \" + \" y con \" * \" respectivamente. \n",
    "\n",
    "También están por supuesto definidas la resta \" - \", la divición \" / \" y la potencia \" ^ \". \n",
    "\n",
    "**Intenta hacer algunas operaciones entre números utilizando estos símbolos.** "
   ]
  },
  {
   "cell_type": "code",
   "execution_count": null,
   "metadata": {},
   "outputs": [],
   "source": []
  },
  {
   "cell_type": "code",
   "execution_count": null,
   "metadata": {},
   "outputs": [],
   "source": []
  },
  {
   "cell_type": "code",
   "execution_count": null,
   "metadata": {},
   "outputs": [],
   "source": []
  },
  {
   "cell_type": "markdown",
   "metadata": {},
   "source": [
    "Estas operaciones les voy a llamar operadores. Los operadores en Julia son funciones en realidad. Por ejemplo, la suma entre dos números, se puede escribir como +(a,b), lo que significa a + b. "
   ]
  },
  {
   "cell_type": "code",
   "execution_count": 1,
   "metadata": {},
   "outputs": [
    {
     "data": {
      "text/plain": [
       "2"
      ]
     },
     "execution_count": 1,
     "metadata": {},
     "output_type": "execute_result"
    }
   ],
   "source": [
    "+(1,1)"
   ]
  },
  {
   "cell_type": "code",
   "execution_count": 2,
   "metadata": {},
   "outputs": [
    {
     "data": {
      "text/plain": [
       "6"
      ]
     },
     "execution_count": 2,
     "metadata": {},
     "output_type": "execute_result"
    }
   ],
   "source": [
    "+(1,2,3)"
   ]
  },
  {
   "cell_type": "code",
   "execution_count": 3,
   "metadata": {},
   "outputs": [
    {
     "data": {
      "text/plain": [
       "0.5"
      ]
     },
     "execution_count": 3,
     "metadata": {},
     "output_type": "execute_result"
    }
   ],
   "source": [
    "/(1,2)"
   ]
  },
  {
   "cell_type": "code",
   "execution_count": 4,
   "metadata": {},
   "outputs": [
    {
     "data": {
      "text/plain": [
       "256"
      ]
     },
     "execution_count": 4,
     "metadata": {},
     "output_type": "execute_result"
    }
   ],
   "source": [
    "^(2,8)"
   ]
  },
  {
   "cell_type": "markdown",
   "metadata": {},
   "source": [
    "Esto es algo importante de Julia, todo son en realidad funciones. Exceptuando estos operadores (y unos pocos más), en general en Julia se escriben las funciones como \" Nombre_de_la_funcion(argumentos) \". \n",
    "\n",
    "Por ejemplo, la función seno de x se escribe como sin(x), donde x es un valor numérico. \n",
    "\n",
    "Como ya dije, hay un titipuchal de funciones pre-cargadas. Esto incluye todas las trigonométricas, la exponencial, logaritmo, etc. En general los nombres de las funciones están en inglés y son relativamente intuitivos. Por ejemplo, de tangente es tan(x), de tangente hiperbólica es tanh(x), etc. Uno puede intentar simplemente adivinar el nombre de la función y si no está seguro de cómo se escribe, presiona tab con las primeras letras y aparecerán las opciones. Otra opción es buscar dentro de la documentación de Julia aquí: https://docs.julialang.org/en/v1/\n",
    "\n",
    "**Intenta** por ejemplo encontrar la función que calcula el mínimo común múltiplo (least common multiple) entre dos números:"
   ]
  },
  {
   "cell_type": "code",
   "execution_count": null,
   "metadata": {},
   "outputs": [],
   "source": []
  },
  {
   "cell_type": "markdown",
   "metadata": {},
   "source": [
    "**Intenta** buscar la función piso (el mayor entero menor que x) en Julia y aplícala a 15.3 y a -15.3. "
   ]
  },
  {
   "cell_type": "code",
   "execution_count": null,
   "metadata": {},
   "outputs": [],
   "source": []
  },
  {
   "cell_type": "markdown",
   "metadata": {},
   "source": [
    "**Intenta** buscar la función módulo n de un número. Explora qué es lo que hace esta función, nos va a ser útil para aplicar condiciones periódicas a la frontera (por ejemplo para simular cristales). "
   ]
  },
  {
   "cell_type": "code",
   "execution_count": null,
   "metadata": {},
   "outputs": [],
   "source": []
  },
  {
   "cell_type": "markdown",
   "metadata": {},
   "source": [
    "Por supuesto, no podemos ver todas las funciones pre-definidas aquí, porque son realmente muchas. A veces, adivinarán el nombre de la función completando con Tab, pero no lograrán usarla. Para preguntar en el notebook cómo se usa sin tener que buscar en la documentación, pueden utilizar el símbolo \" ? \" antes del nombre de la función. Por ejemplo:"
   ]
  },
  {
   "cell_type": "code",
   "execution_count": null,
   "metadata": {},
   "outputs": [],
   "source": []
  },
  {
   "cell_type": "markdown",
   "metadata": {},
   "source": [
    "**Si tienes interés en alguna función en particular** trata de adivinar cómo se llama en Julia (no están todas, pero sí muchas) y pregunta qué hace. "
   ]
  },
  {
   "cell_type": "code",
   "execution_count": null,
   "metadata": {},
   "outputs": [],
   "source": []
  },
  {
   "cell_type": "markdown",
   "metadata": {},
   "source": [
    "**Una función que usaremos mucho es tan(x,y)** pregunta al notebook la información sobre *tan*, dentro busca qué hace cuando se agregan dos argumentos. "
   ]
  },
  {
   "cell_type": "code",
   "execution_count": null,
   "metadata": {},
   "outputs": [],
   "source": []
  },
  {
   "cell_type": "markdown",
   "metadata": {},
   "source": [
    "### Operaciones con cadenas\n",
    "\n",
    "Además de las operaciones entre números (que hay de varios tipos, como veremos en el siguiente video), hay operaciones con cadenas de caracteres. \n",
    "\n",
    "Estas operaciones pueden ser muy útiles para generar nombres de archivos correctamente. "
   ]
  },
  {
   "cell_type": "code",
   "execution_count": 5,
   "metadata": {},
   "outputs": [
    {
     "data": {
      "text/plain": [
       "\"Hola Ata\""
      ]
     },
     "execution_count": 5,
     "metadata": {},
     "output_type": "execute_result"
    }
   ],
   "source": [
    "a = \"Hola \"\n",
    "b = \"Ata\"\n",
    "c = 'c'\n",
    "a*b"
   ]
  },
  {
   "cell_type": "markdown",
   "metadata": {},
   "source": [
    "Una función muy importante con las cadenas es obtener un número a partir de una cadena que representa un número. Por ejemplo la cadena \"12.5\" representa el número $12.5$. Para transformar una cadena en un número se utiliza la función parse. "
   ]
  },
  {
   "cell_type": "code",
   "execution_count": 6,
   "metadata": {},
   "outputs": [
    {
     "data": {
      "text/plain": [
       "45.0"
      ]
     },
     "execution_count": 6,
     "metadata": {},
     "output_type": "execute_result"
    }
   ],
   "source": [
    "parse(Float64, \"45\")"
   ]
  },
  {
   "cell_type": "markdown",
   "metadata": {},
   "source": [
    "**Transforma** la cadena \"1.5434\" en su correspondiente número.  "
   ]
  },
  {
   "cell_type": "code",
   "execution_count": null,
   "metadata": {},
   "outputs": [],
   "source": []
  },
  {
   "cell_type": "markdown",
   "metadata": {},
   "source": [
    "También puede ser que quieras agregar algún dato a una cadena. Por ejemplo, obtienes el valor de una función y quieres escribir ese valor. Eso se llama interpolación y se hace utilizando el signo $ de la siguiente manera: "
   ]
  },
  {
   "cell_type": "code",
   "execution_count": 7,
   "metadata": {},
   "outputs": [
    {
     "data": {
      "text/plain": [
       "\"sin(π/3)+2 = 2.8660254037844384\""
      ]
     },
     "execution_count": 7,
     "metadata": {},
     "output_type": "execute_result"
    }
   ],
   "source": [
    "sin_de_pi_sobre_3 = \"sin(\\u03C0/3)+2 = $(sin(π/3)+2)\""
   ]
  },
  {
   "cell_type": "code",
   "execution_count": 8,
   "metadata": {},
   "outputs": [
    {
     "name": "stdout",
     "output_type": "stream",
     "text": [
      "sin(π/3)+2 = 2.8660254037844384\n",
      "está way!\n"
     ]
    }
   ],
   "source": [
    "println(sin_de_pi_sobre_3)\n",
    "println(\"está way!\")"
   ]
  },
  {
   "cell_type": "markdown",
   "metadata": {},
   "source": [
    "Aquí además agregué como un caracter $\\pi$, que no es fácil de escribir con un teclado típico, para esto utilicé Unicode. Para agregar un caracter utilizando Unicode, se pone \\u y el número de Unicode. Para obtener el Unicode de un caracter pueden utilizar la función Char de la siguiente forma:  "
   ]
  },
  {
   "cell_type": "code",
   "execution_count": 9,
   "metadata": {},
   "outputs": [
    {
     "data": {
      "text/plain": [
       "'π': Unicode U+03C0 (category Ll: Letter, lowercase)"
      ]
     },
     "execution_count": 9,
     "metadata": {},
     "output_type": "execute_result"
    }
   ],
   "source": [
    "Char('π')"
   ]
  },
  {
   "cell_type": "markdown",
   "metadata": {},
   "source": [
    "La parte importante es lo que viene después del U+. \n",
    "\n",
    "**Obtén el Unicode** de $\\forall$ y de $\\exists$, para escribir la cadena: \"$\\forall \\quad x \\quad \\exists \\quad  y > x$\""
   ]
  },
  {
   "cell_type": "code",
   "execution_count": null,
   "metadata": {},
   "outputs": [],
   "source": []
  },
  {
   "cell_type": "code",
   "execution_count": null,
   "metadata": {},
   "outputs": [],
   "source": []
  },
  {
   "cell_type": "code",
   "execution_count": null,
   "metadata": {},
   "outputs": [],
   "source": []
  },
  {
   "cell_type": "markdown",
   "metadata": {},
   "source": [
    "Una última función útil con las cadenas, es la función lenght, que arroja el tamaño de la cadena: "
   ]
  },
  {
   "cell_type": "code",
   "execution_count": 10,
   "metadata": {},
   "outputs": [
    {
     "data": {
      "text/plain": [
       "18"
      ]
     },
     "execution_count": 10,
     "metadata": {},
     "output_type": "execute_result"
    }
   ],
   "source": [
    "length(\"Hola, ¿cómo estás?\")"
   ]
  },
  {
   "cell_type": "markdown",
   "metadata": {},
   "source": [
    "Hay varias operaciones más que se pueden aplicar sobre cadenas (y caracteres), pero para aplicar algunas de ellas necesitamos explicar un poco sobre funciones antes, así que volveremos más adelante. \n",
    "\n",
    "Pero antes de terminar esta sección, quisiera decir que para acceder a un caracter de una cadena, se pueden usar corchetes: "
   ]
  },
  {
   "cell_type": "code",
   "execution_count": 11,
   "metadata": {},
   "outputs": [
    {
     "data": {
      "text/plain": [
       "\"Hola Fulanita\""
      ]
     },
     "execution_count": 11,
     "metadata": {},
     "output_type": "execute_result"
    }
   ],
   "source": [
    "nombre = \"Fulanita\"\n",
    "saludo = \"Hola $nombre\""
   ]
  },
  {
   "cell_type": "code",
   "execution_count": 12,
   "metadata": {},
   "outputs": [
    {
     "data": {
      "text/plain": [
       "'l': ASCII/Unicode U+006C (category Ll: Letter, lowercase)"
      ]
     },
     "execution_count": 12,
     "metadata": {},
     "output_type": "execute_result"
    }
   ],
   "source": [
    "saludo[3]"
   ]
  },
  {
   "cell_type": "markdown",
   "metadata": {},
   "source": [
    "Y de hecho, se puede acceden a un conjunto de los caracteres (formando una cadena), poniendo un *arreglo* o un *rango* dentro de los corchetes:"
   ]
  },
  {
   "cell_type": "code",
   "execution_count": 13,
   "metadata": {},
   "outputs": [
    {
     "data": {
      "text/plain": [
       "\"Hola Ful\""
      ]
     },
     "execution_count": 13,
     "metadata": {},
     "output_type": "execute_result"
    }
   ],
   "source": [
    "saludo[1:8]"
   ]
  },
  {
   "cell_type": "code",
   "execution_count": 14,
   "metadata": {},
   "outputs": [
    {
     "data": {
      "text/plain": [
       "\"Hl ua\""
      ]
     },
     "execution_count": 14,
     "metadata": {},
     "output_type": "execute_result"
    }
   ],
   "source": [
    "saludo[[1,3,5,7,9]]"
   ]
  },
  {
   "cell_type": "markdown",
   "metadata": {},
   "source": [
    "### Operaciones booleanas\n",
    "\n",
    "y también existen operaciones booleanas, es decir, que lo que arrojan es true o false. Aquí por ejemplo está el operador ==, que no es lo mismo que =.  \n",
    "\n",
    "= sirve para definir algo, como asignar el valor \"Hola \" a la variable a. == es un operador que compara dos variables, por lo tanto se puede escribir como ==(a,b) o como a == b "
   ]
  },
  {
   "cell_type": "code",
   "execution_count": 15,
   "metadata": {},
   "outputs": [
    {
     "data": {
      "text/plain": [
       "\"Ata\""
      ]
     },
     "execution_count": 15,
     "metadata": {},
     "output_type": "execute_result"
    }
   ],
   "source": [
    "b"
   ]
  },
  {
   "cell_type": "code",
   "execution_count": 16,
   "metadata": {},
   "outputs": [
    {
     "data": {
      "text/plain": [
       "true"
      ]
     },
     "execution_count": 16,
     "metadata": {},
     "output_type": "execute_result"
    }
   ],
   "source": [
    "\"Ata\" == b"
   ]
  },
  {
   "cell_type": "code",
   "execution_count": 17,
   "metadata": {},
   "outputs": [
    {
     "data": {
      "text/plain": [
       "true"
      ]
     },
     "execution_count": 17,
     "metadata": {},
     "output_type": "execute_result"
    }
   ],
   "source": [
    "==(\"Ata\",b)"
   ]
  },
  {
   "cell_type": "code",
   "execution_count": 18,
   "metadata": {},
   "outputs": [
    {
     "data": {
      "text/plain": [
       "false"
      ]
     },
     "execution_count": 18,
     "metadata": {},
     "output_type": "execute_result"
    }
   ],
   "source": [
    "1 == 2"
   ]
  },
  {
   "cell_type": "markdown",
   "metadata": {},
   "source": [
    "otros operadores importantes son !=, !, <, <=, >, >= \n",
    "\n",
    "**Has diferentes pruebas** con esos operadores, descubre cómo funcionan y cuándo arrojan resultados inesperados. Nósolo compares números, compara también cadenas, por ejemplo. ¿Qué significa < con cadenas?"
   ]
  },
  {
   "cell_type": "code",
   "execution_count": null,
   "metadata": {},
   "outputs": [],
   "source": []
  },
  {
   "cell_type": "code",
   "execution_count": null,
   "metadata": {},
   "outputs": [],
   "source": []
  },
  {
   "cell_type": "code",
   "execution_count": null,
   "metadata": {},
   "outputs": [],
   "source": []
  },
  {
   "cell_type": "code",
   "execution_count": null,
   "metadata": {},
   "outputs": [],
   "source": []
  },
  {
   "cell_type": "markdown",
   "metadata": {},
   "source": [
    "Hay un operador un poco extraño, ===. Éste busca comparar si dos valores son idénticos en un sentido computacional, es decir, si la forma en la que se almacenan en la memoria es la misma."
   ]
  },
  {
   "cell_type": "code",
   "execution_count": 19,
   "metadata": {},
   "outputs": [
    {
     "data": {
      "text/plain": [
       "false"
      ]
     },
     "execution_count": 19,
     "metadata": {},
     "output_type": "execute_result"
    }
   ],
   "source": [
    "1 === 1."
   ]
  },
  {
   "cell_type": "code",
   "execution_count": 20,
   "metadata": {},
   "outputs": [
    {
     "data": {
      "text/plain": [
       "true"
      ]
     },
     "execution_count": 20,
     "metadata": {},
     "output_type": "execute_result"
    }
   ],
   "source": [
    "1 == 1."
   ]
  },
  {
   "cell_type": "markdown",
   "metadata": {},
   "source": [
    "En ese caso 1 y 1. son iguales en valor, pero no sin idénticos, porque en un caso se trata de un entero, en el otro de un flotante. \n",
    "\n",
    "También está el operador ≈ que revisa si dos números son aproximadamente iguales. "
   ]
  },
  {
   "cell_type": "code",
   "execution_count": 21,
   "metadata": {},
   "outputs": [
    {
     "data": {
      "text/plain": [
       "true"
      ]
     },
     "execution_count": 21,
     "metadata": {},
     "output_type": "execute_result"
    }
   ],
   "source": [
    "0.1 ≈ 0.1 + 1e-9"
   ]
  },
  {
   "cell_type": "code",
   "execution_count": 22,
   "metadata": {},
   "outputs": [
    {
     "data": {
      "text/plain": [
       "false"
      ]
     },
     "execution_count": 22,
     "metadata": {},
     "output_type": "execute_result"
    }
   ],
   "source": [
    "0.1 ≈ 0.11"
   ]
  },
  {
   "cell_type": "code",
   "execution_count": 23,
   "metadata": {},
   "outputs": [
    {
     "data": {
      "text/plain": [
       "true"
      ]
     },
     "execution_count": 23,
     "metadata": {},
     "output_type": "execute_result"
    }
   ],
   "source": [
    "BigFloat(\"0.1\") ≈ BigFloat(\"0.1\") + 1e-40"
   ]
  },
  {
   "cell_type": "markdown",
   "metadata": {},
   "source": [
    "Finalmente, están los operadores &&, || y ⊻, que son el equivalente a \"y\", \"o\" y \"o\" exclusivo. "
   ]
  },
  {
   "cell_type": "code",
   "execution_count": 24,
   "metadata": {},
   "outputs": [
    {
     "data": {
      "text/plain": [
       "false"
      ]
     },
     "execution_count": 24,
     "metadata": {},
     "output_type": "execute_result"
    }
   ],
   "source": [
    "(1 == 1) && (1 == 2)"
   ]
  },
  {
   "cell_type": "code",
   "execution_count": 25,
   "metadata": {},
   "outputs": [
    {
     "data": {
      "text/plain": [
       "true"
      ]
     },
     "execution_count": 25,
     "metadata": {},
     "output_type": "execute_result"
    }
   ],
   "source": [
    "(1 == 1) || (1 == 2)"
   ]
  },
  {
   "cell_type": "code",
   "execution_count": 26,
   "metadata": {},
   "outputs": [
    {
     "data": {
      "text/plain": [
       "false"
      ]
     },
     "execution_count": 26,
     "metadata": {},
     "output_type": "execute_result"
    }
   ],
   "source": [
    "(1 == 1) ⊻ (1 == 1)"
   ]
  },
  {
   "cell_type": "code",
   "execution_count": 27,
   "metadata": {},
   "outputs": [
    {
     "data": {
      "text/plain": [
       "true"
      ]
     },
     "execution_count": 27,
     "metadata": {},
     "output_type": "execute_result"
    }
   ],
   "source": [
    "(1 == 1) ⊻ (1 == 2)"
   ]
  },
  {
   "cell_type": "markdown",
   "metadata": {},
   "source": [
    "También hay funciones que están definidas sobre los booleanos, por ejemplo la suma entre booleanos y el producto entre booleanos y entre números y booleanos. Esto significa que por ejemplo todas las funciones que se definen con un desarrollo de Taylor están definidas, aunque no tengan un significado interesante: "
   ]
  },
  {
   "cell_type": "code",
   "execution_count": 28,
   "metadata": {},
   "outputs": [
    {
     "data": {
      "text/plain": [
       "2.718281828459045"
      ]
     },
     "execution_count": 28,
     "metadata": {},
     "output_type": "execute_result"
    }
   ],
   "source": [
    "exp(true) "
   ]
  },
  {
   "cell_type": "code",
   "execution_count": 29,
   "metadata": {},
   "outputs": [
    {
     "data": {
      "text/plain": [
       "0.0"
      ]
     },
     "execution_count": 29,
     "metadata": {},
     "output_type": "execute_result"
    }
   ],
   "source": [
    "sin(false)"
   ]
  },
  {
   "cell_type": "markdown",
   "metadata": {},
   "source": [
    "### Operaciones con arreglos\n",
    "\n",
    "Además de los números, las cadenas y los booleanos, utilizaremos con mucha frecuencia los arreglos. \n",
    "\n",
    "Un arreglo es una lista de \"objetos\", esos objetos pueden ser números, cadenas, otros arreglos u otros objetos extraños. Para iniciar un arreglo se utiliza el símbolo [ y para terminar dicho arreglo se utiliza el símbolo ]. Dentro los elementos se separan utilizando comas: "
   ]
  },
  {
   "cell_type": "code",
   "execution_count": 30,
   "metadata": {},
   "outputs": [
    {
     "data": {
      "text/plain": [
       "3-element Vector{Int64}:\n",
       " 1\n",
       " 2\n",
       " 3"
      ]
     },
     "execution_count": 30,
     "metadata": {},
     "output_type": "execute_result"
    }
   ],
   "source": [
    "v = [1,2,3]"
   ]
  },
  {
   "cell_type": "code",
   "execution_count": 31,
   "metadata": {},
   "outputs": [
    {
     "data": {
      "text/plain": [
       "3-element Vector{Int64}:\n",
       " 2\n",
       " 4\n",
       " 6"
      ]
     },
     "execution_count": 31,
     "metadata": {},
     "output_type": "execute_result"
    }
   ],
   "source": [
    "a = 2*v"
   ]
  },
  {
   "cell_type": "code",
   "execution_count": 32,
   "metadata": {},
   "outputs": [
    {
     "data": {
      "text/plain": [
       "3-element Vector{Any}:\n",
       "  \"hola\"\n",
       " 1\n",
       "  Any[1, [1.2, 2.0]]"
      ]
     },
     "execution_count": 32,
     "metadata": {},
     "output_type": "execute_result"
    }
   ],
   "source": [
    "b = [\"hola\", 1, [1,[1.2,2]]]"
   ]
  },
  {
   "cell_type": "markdown",
   "metadata": {},
   "source": [
    "Para acceder a los elementos de un arreglo, se escribe el nombre del arreglo, seguido por [n], donde n corresponde al número de elemento: "
   ]
  },
  {
   "cell_type": "code",
   "execution_count": 33,
   "metadata": {},
   "outputs": [
    {
     "data": {
      "text/plain": [
       "4"
      ]
     },
     "execution_count": 33,
     "metadata": {},
     "output_type": "execute_result"
    }
   ],
   "source": [
    "a[2]"
   ]
  },
  {
   "cell_type": "code",
   "execution_count": 34,
   "metadata": {},
   "outputs": [
    {
     "data": {
      "text/plain": [
       "2-element Vector{Any}:\n",
       " \"hola\"\n",
       " Any[1, [1.2, 2.0]]"
      ]
     },
     "execution_count": 34,
     "metadata": {},
     "output_type": "execute_result"
    }
   ],
   "source": [
    "b[[1,3]]"
   ]
  },
  {
   "cell_type": "code",
   "execution_count": 35,
   "metadata": {},
   "outputs": [
    {
     "data": {
      "text/plain": [
       "1.2"
      ]
     },
     "execution_count": 35,
     "metadata": {},
     "output_type": "execute_result"
    }
   ],
   "source": [
    "b[3][2][1]"
   ]
  },
  {
   "cell_type": "markdown",
   "metadata": {},
   "source": [
    "En este último ejemplo el tercer elemento de b es también un arreglo, así que puedo acceder a sus elementos nuevamente utilizando corchetes. "
   ]
  },
  {
   "cell_type": "code",
   "execution_count": 36,
   "metadata": {},
   "outputs": [
    {
     "data": {
      "text/plain": [
       "1"
      ]
     },
     "execution_count": 36,
     "metadata": {},
     "output_type": "execute_result"
    }
   ],
   "source": [
    "b[3][1]"
   ]
  },
  {
   "cell_type": "markdown",
   "metadata": {},
   "source": [
    "Las cadenas de caracteres también son en realidad arreglos, así que puedo acceder a cada caracter con corchetes. "
   ]
  },
  {
   "cell_type": "code",
   "execution_count": 37,
   "metadata": {},
   "outputs": [
    {
     "data": {
      "text/plain": [
       "'l': ASCII/Unicode U+006C (category Ll: Letter, lowercase)"
      ]
     },
     "execution_count": 37,
     "metadata": {},
     "output_type": "execute_result"
    }
   ],
   "source": [
    "b[1][3]"
   ]
  },
  {
   "cell_type": "code",
   "execution_count": 38,
   "metadata": {},
   "outputs": [
    {
     "data": {
      "text/plain": [
       "'f': ASCII/Unicode U+0066 (category Ll: Letter, lowercase)"
      ]
     },
     "execution_count": 38,
     "metadata": {},
     "output_type": "execute_result"
    }
   ],
   "source": [
    "\"hola fulanito\"[6]"
   ]
  },
  {
   "cell_type": "markdown",
   "metadata": {},
   "source": [
    "**¿Cuál es el elemento a[1][2][3] si a = [[1, [2, [3]], 2], [\"hola\", \"adios\"]]?**"
   ]
  },
  {
   "cell_type": "code",
   "execution_count": null,
   "metadata": {},
   "outputs": [],
   "source": []
  },
  {
   "cell_type": "markdown",
   "metadata": {},
   "source": [
    "Para aplicar una función que no está definida para arreglos (matrices) a todos los elementos de un arreglo (matriz), se tiene que agregar un \".\" antes del paréntesis de la función, por ejemplo: "
   ]
  },
  {
   "cell_type": "code",
   "execution_count": 39,
   "metadata": {},
   "outputs": [
    {
     "data": {
      "text/plain": [
       "3-element Vector{Float64}:\n",
       " -0.4161468365471424\n",
       " -0.6536436208636119\n",
       "  0.960170286650366"
      ]
     },
     "execution_count": 39,
     "metadata": {},
     "output_type": "execute_result"
    }
   ],
   "source": [
    "cos.(a)"
   ]
  },
  {
   "cell_type": "markdown",
   "metadata": {},
   "source": [
    "**Aplica la función exponencial a la lista de valores [1,2,3,4]**"
   ]
  },
  {
   "cell_type": "code",
   "execution_count": null,
   "metadata": {},
   "outputs": [],
   "source": []
  },
  {
   "cell_type": "markdown",
   "metadata": {},
   "source": [
    "En el caso de los operadores, también se puede usar el truco del \".\", pero en este caso el punto va antes del operador. Por ejemplo:"
   ]
  },
  {
   "cell_type": "code",
   "execution_count": 40,
   "metadata": {},
   "outputs": [
    {
     "data": {
      "text/plain": [
       "([4, 8, 12], [4, 16, 36])"
      ]
     },
     "execution_count": 40,
     "metadata": {},
     "output_type": "execute_result"
    }
   ],
   "source": [
    "a .+ a, a .^2"
   ]
  },
  {
   "cell_type": "code",
   "execution_count": 41,
   "metadata": {},
   "outputs": [
    {
     "data": {
      "text/plain": [
       "3-element Vector{Int64}:\n",
       " 3\n",
       " 5\n",
       " 7"
      ]
     },
     "execution_count": 41,
     "metadata": {},
     "output_type": "execute_result"
    }
   ],
   "source": [
    "a .+ 1"
   ]
  },
  {
   "cell_type": "markdown",
   "metadata": {},
   "source": [
    "Otra operación importante en los arreglos es conocer el tamaño que tienen, para esto se usa length. "
   ]
  },
  {
   "cell_type": "code",
   "execution_count": 42,
   "metadata": {},
   "outputs": [
    {
     "data": {
      "text/plain": [
       "4"
      ]
     },
     "execution_count": 42,
     "metadata": {},
     "output_type": "execute_result"
    }
   ],
   "source": [
    "length([1,2,3,4.66])"
   ]
  },
  {
   "cell_type": "markdown",
   "metadata": {},
   "source": [
    "También suele ser importante el poder ordenar un arreglo. Para esto usamos sort: "
   ]
  },
  {
   "cell_type": "code",
   "execution_count": 43,
   "metadata": {},
   "outputs": [
    {
     "data": {
      "text/plain": [
       "100-element Vector{Float64}:\n",
       " 0.46226609226399407\n",
       " 0.7625009471209063\n",
       " 0.32620572897723443\n",
       " 0.46367429539388594\n",
       " 0.5841702588045559\n",
       " 0.7478689005092856\n",
       " 0.16075068672731363\n",
       " 0.38460011582609455\n",
       " 0.9425126498620937\n",
       " 0.62911806733594\n",
       " 0.8410183307087515\n",
       " 0.37943554630752807\n",
       " 0.23946390410607532\n",
       " ⋮\n",
       " 0.8630894420236292\n",
       " 0.5031701677212113\n",
       " 0.9073244917231953\n",
       " 0.1033471941637012\n",
       " 0.4221893801224874\n",
       " 0.12119200657494855\n",
       " 0.2536509587564313\n",
       " 0.2022790536619068\n",
       " 0.36648303316473174\n",
       " 0.7727655969251617\n",
       " 0.9202544961602244\n",
       " 0.8126624907523372"
      ]
     },
     "execution_count": 43,
     "metadata": {},
     "output_type": "execute_result"
    }
   ],
   "source": [
    "x = rand(100)"
   ]
  },
  {
   "cell_type": "code",
   "execution_count": 44,
   "metadata": {},
   "outputs": [
    {
     "data": {
      "text/plain": [
       "100-element Vector{Float64}:\n",
       " 0.0009262077623004572\n",
       " 0.0034182062585992323\n",
       " 0.021535711939730584\n",
       " 0.025330985384756977\n",
       " 0.02928830731661014\n",
       " 0.0430065063044105\n",
       " 0.053020044105581254\n",
       " 0.08463983925572904\n",
       " 0.1033471941637012\n",
       " 0.10535936655521083\n",
       " 0.10717168833686097\n",
       " 0.1083792747100969\n",
       " 0.11520618339837396\n",
       " ⋮\n",
       " 0.9158621080120861\n",
       " 0.9202544961602244\n",
       " 0.9317125757424976\n",
       " 0.9373191269082286\n",
       " 0.9397399875077408\n",
       " 0.9425126498620937\n",
       " 0.9644054933475137\n",
       " 0.9648434139304665\n",
       " 0.9667031035405282\n",
       " 0.9678678367437814\n",
       " 0.9796663571816528\n",
       " 0.9877082998294502"
      ]
     },
     "execution_count": 44,
     "metadata": {},
     "output_type": "execute_result"
    }
   ],
   "source": [
    "sort(x)"
   ]
  },
  {
   "cell_type": "markdown",
   "metadata": {},
   "source": [
    "Si queremos ordenar de forma inversa podemos usar: "
   ]
  },
  {
   "cell_type": "code",
   "execution_count": 45,
   "metadata": {},
   "outputs": [
    {
     "data": {
      "text/plain": [
       "100-element Vector{Float64}:\n",
       " 0.9877082998294502\n",
       " 0.9796663571816528\n",
       " 0.9678678367437814\n",
       " 0.9667031035405282\n",
       " 0.9648434139304665\n",
       " 0.9644054933475137\n",
       " 0.9425126498620937\n",
       " 0.9397399875077408\n",
       " 0.9373191269082286\n",
       " 0.9317125757424976\n",
       " 0.9202544961602244\n",
       " 0.9158621080120861\n",
       " 0.9073244917231953\n",
       " ⋮\n",
       " 0.1083792747100969\n",
       " 0.10717168833686097\n",
       " 0.10535936655521083\n",
       " 0.1033471941637012\n",
       " 0.08463983925572904\n",
       " 0.053020044105581254\n",
       " 0.0430065063044105\n",
       " 0.02928830731661014\n",
       " 0.025330985384756977\n",
       " 0.021535711939730584\n",
       " 0.0034182062585992323\n",
       " 0.0009262077623004572"
      ]
     },
     "execution_count": 45,
     "metadata": {},
     "output_type": "execute_result"
    }
   ],
   "source": [
    "sort(x, rev = true)"
   ]
  },
  {
   "cell_type": "markdown",
   "metadata": {},
   "source": [
    "también puede ser que tengamos una lista de listas y querramos ordenar utilizando el segundo elemento de la lista, para esto usamos: "
   ]
  },
  {
   "cell_type": "code",
   "execution_count": 46,
   "metadata": {},
   "outputs": [
    {
     "data": {
      "text/plain": [
       "5-element Vector{Vector{Float64}}:\n",
       " [0.9248972836206093, 0.835740359035396, 0.9338267499897202]\n",
       " [0.0655483069360312, 0.14458148432720797, 0.7137178309820973]\n",
       " [0.4665185472305884, 0.5642038963886369, 0.7462951385485226]\n",
       " [0.7085082318677627, 0.8577282609757346, 0.3195312548152509]\n",
       " [0.14661394170318465, 0.422845763842149, 0.19004216143077923]"
      ]
     },
     "execution_count": 46,
     "metadata": {},
     "output_type": "execute_result"
    }
   ],
   "source": [
    "y = [rand(3), rand(3), rand(3), rand(3), rand(3)]"
   ]
  },
  {
   "cell_type": "code",
   "execution_count": 47,
   "metadata": {},
   "outputs": [
    {
     "data": {
      "text/plain": [
       "5-element Vector{Vector{Float64}}:\n",
       " [0.0655483069360312, 0.14458148432720797, 0.7137178309820973]\n",
       " [0.14661394170318465, 0.422845763842149, 0.19004216143077923]\n",
       " [0.4665185472305884, 0.5642038963886369, 0.7462951385485226]\n",
       " [0.9248972836206093, 0.835740359035396, 0.9338267499897202]\n",
       " [0.7085082318677627, 0.8577282609757346, 0.3195312548152509]"
      ]
     },
     "execution_count": 47,
     "metadata": {},
     "output_type": "execute_result"
    }
   ],
   "source": [
    "sort(y, by = x-> x[2])"
   ]
  },
  {
   "cell_type": "markdown",
   "metadata": {},
   "source": [
    "cómo funciona el argumento by, lo veremos más adelante, pero se puede modificar para utilizar cualquier clase de ordenamiento. No lo explico ahora, porque necesitamos entender cómo hacer una función antes y los tipos de funciones. "
   ]
  },
  {
   "cell_type": "markdown",
   "metadata": {},
   "source": [
    "Otras funciones muy importantes sobre los arreglos son: push!, insert!, pop! y deleteat!, append!, ∪ y ∩"
   ]
  },
  {
   "cell_type": "code",
   "execution_count": 48,
   "metadata": {},
   "outputs": [
    {
     "data": {
      "text/plain": [
       "6-element Vector{Float64}:\n",
       " 1.0\n",
       " 2.0\n",
       " 3.0\n",
       " 4.0\n",
       " 5.0\n",
       " 6.0"
      ]
     },
     "execution_count": 48,
     "metadata": {},
     "output_type": "execute_result"
    }
   ],
   "source": [
    "x = [1.,2,3,4,5,6]"
   ]
  },
  {
   "cell_type": "code",
   "execution_count": 49,
   "metadata": {},
   "outputs": [
    {
     "data": {
      "text/plain": [
       "7-element Vector{Float64}:\n",
       " 1.0\n",
       " 2.0\n",
       " 3.0\n",
       " 4.0\n",
       " 5.0\n",
       " 6.0\n",
       " 6.0"
      ]
     },
     "execution_count": 49,
     "metadata": {},
     "output_type": "execute_result"
    }
   ],
   "source": [
    "push!(x, 6)"
   ]
  },
  {
   "cell_type": "code",
   "execution_count": 50,
   "metadata": {},
   "outputs": [
    {
     "data": {
      "text/plain": [
       "7-element Vector{Float64}:\n",
       " 1.0\n",
       " 2.0\n",
       " 3.0\n",
       " 4.0\n",
       " 5.0\n",
       " 6.0\n",
       " 6.0"
      ]
     },
     "execution_count": 50,
     "metadata": {},
     "output_type": "execute_result"
    }
   ],
   "source": [
    "x"
   ]
  },
  {
   "cell_type": "code",
   "execution_count": 51,
   "metadata": {},
   "outputs": [
    {
     "data": {
      "text/plain": [
       "6-element Vector{Float64}:\n",
       " 1.0\n",
       " 2.0\n",
       " 3.0\n",
       " 4.0\n",
       " 5.0\n",
       " 6.0"
      ]
     },
     "execution_count": 51,
     "metadata": {},
     "output_type": "execute_result"
    }
   ],
   "source": [
    "pop!(x)\n",
    "x"
   ]
  },
  {
   "cell_type": "code",
   "execution_count": 52,
   "metadata": {},
   "outputs": [
    {
     "data": {
      "text/plain": [
       "7-element Vector{Float64}:\n",
       " 1.0\n",
       " 2.0\n",
       " 3.0\n",
       " 3.2\n",
       " 4.0\n",
       " 5.0\n",
       " 6.0"
      ]
     },
     "execution_count": 52,
     "metadata": {},
     "output_type": "execute_result"
    }
   ],
   "source": [
    "insert!(x, 4, 3.2)"
   ]
  },
  {
   "cell_type": "code",
   "execution_count": 53,
   "metadata": {},
   "outputs": [
    {
     "data": {
      "text/plain": [
       "6-element Vector{Float64}:\n",
       " 1.0\n",
       " 2.0\n",
       " 3.0\n",
       " 4.0\n",
       " 5.0\n",
       " 6.0"
      ]
     },
     "execution_count": 53,
     "metadata": {},
     "output_type": "execute_result"
    }
   ],
   "source": [
    "deleteat!(x, 4)"
   ]
  },
  {
   "cell_type": "code",
   "execution_count": 54,
   "metadata": {},
   "outputs": [
    {
     "data": {
      "text/plain": [
       "13-element Vector{Float64}:\n",
       " 1.0\n",
       " 2.0\n",
       " 3.0\n",
       " 4.0\n",
       " 5.0\n",
       " 6.0\n",
       " 7.0\n",
       " 6.0\n",
       " 5.0\n",
       " 4.0\n",
       " 3.0\n",
       " 2.0\n",
       " 1.0"
      ]
     },
     "execution_count": 54,
     "metadata": {},
     "output_type": "execute_result"
    }
   ],
   "source": [
    "append!(x, [7,6,5,4,3,2,1])"
   ]
  },
  {
   "cell_type": "code",
   "execution_count": 55,
   "metadata": {},
   "outputs": [
    {
     "data": {
      "text/plain": [
       "7-element Vector{Float64}:\n",
       " 1.0\n",
       " 2.0\n",
       " 3.0\n",
       " 4.0\n",
       " 5.0\n",
       " 6.0\n",
       " 7.0"
      ]
     },
     "execution_count": 55,
     "metadata": {},
     "output_type": "execute_result"
    }
   ],
   "source": [
    "unique!(x)\n",
    "x"
   ]
  },
  {
   "cell_type": "code",
   "execution_count": 56,
   "metadata": {},
   "outputs": [
    {
     "data": {
      "text/plain": [
       "8-element Vector{Float64}:\n",
       "   1.0\n",
       "   2.0\n",
       "   3.0\n",
       "   4.0\n",
       "   5.0\n",
       "   6.0\n",
       "   7.0\n",
       " 100.0"
      ]
     },
     "execution_count": 56,
     "metadata": {},
     "output_type": "execute_result"
    }
   ],
   "source": [
    "x ∪ [1,2,3,4,100]"
   ]
  },
  {
   "cell_type": "code",
   "execution_count": 57,
   "metadata": {},
   "outputs": [
    {
     "data": {
      "text/plain": [
       "2-element Vector{Float64}:\n",
       " 1.0\n",
       " 2.0"
      ]
     },
     "execution_count": 57,
     "metadata": {},
     "output_type": "execute_result"
    }
   ],
   "source": [
    "x ∩ [1,2,100]"
   ]
  },
  {
   "cell_type": "markdown",
   "metadata": {},
   "source": [
    "Finalmente, hay todas las operaciones de álgebra lineal entre matrices o entre vectores. Para estas operaciones, necesitamos cargar la paquetería LinearAlgebra, que está pre-instalada, pero no pre-cargada. "
   ]
  },
  {
   "cell_type": "code",
   "execution_count": 58,
   "metadata": {},
   "outputs": [],
   "source": [
    "using LinearAlgebra"
   ]
  },
  {
   "cell_type": "markdown",
   "metadata": {},
   "source": [
    "Una de las importantes es la norma de un vector:"
   ]
  },
  {
   "cell_type": "code",
   "execution_count": 59,
   "metadata": {},
   "outputs": [
    {
     "data": {
      "text/plain": [
       "3.7416573867739413"
      ]
     },
     "execution_count": 59,
     "metadata": {},
     "output_type": "execute_result"
    }
   ],
   "source": [
    "norm([1,2,3])"
   ]
  },
  {
   "cell_type": "markdown",
   "metadata": {},
   "source": [
    "También ahí están definidas las operciones de producto punto y producto cruz. "
   ]
  },
  {
   "cell_type": "code",
   "execution_count": 60,
   "metadata": {},
   "outputs": [
    {
     "data": {
      "text/plain": [
       "(140.0, 140.0)"
      ]
     },
     "execution_count": 60,
     "metadata": {},
     "output_type": "execute_result"
    }
   ],
   "source": [
    "x ⋅ x, dot(x, x)"
   ]
  },
  {
   "cell_type": "code",
   "execution_count": 61,
   "metadata": {},
   "outputs": [
    {
     "data": {
      "text/plain": [
       "([0.08099456252756476, -0.38474156153882344, 0.3037469990112587], [0.08099456252756476, -0.38474156153882344, 0.3037469990112587])"
      ]
     },
     "execution_count": 61,
     "metadata": {},
     "output_type": "execute_result"
    }
   ],
   "source": [
    "x = rand(3)\n",
    "\n",
    "x × (ones(3)), cross(x,ones(3))"
   ]
  },
  {
   "cell_type": "markdown",
   "metadata": {},
   "source": [
    "hay un realmente muchas operaciones más definidas en la paquetería de LinearAlgebra"
   ]
  },
  {
   "cell_type": "code",
   "execution_count": null,
   "metadata": {},
   "outputs": [],
   "source": []
  },
  {
   "cell_type": "markdown",
   "metadata": {},
   "source": [
    "### Matrices\n",
    "\n",
    "Una matriz es algo parecido a un arreglo (de arreglos), así que para definir una matriz se usan también los corchetes, pero para no generar confusión, los elementos de cada renglón de la matriz se separan con espacios, mientras que los cambios entre renglón y renglón se definen con ;"
   ]
  },
  {
   "cell_type": "code",
   "execution_count": 62,
   "metadata": {},
   "outputs": [
    {
     "data": {
      "text/plain": [
       "2×2 Matrix{Int64}:\n",
       " 1  2\n",
       " 3  4"
      ]
     },
     "execution_count": 62,
     "metadata": {},
     "output_type": "execute_result"
    }
   ],
   "source": [
    "A = [1 2; 3 4]"
   ]
  },
  {
   "cell_type": "markdown",
   "metadata": {},
   "source": [
    "Para no confundirse de qué es lo que uno está escribiendo en una matriz a veces conviene escribirlo visualmente claro: "
   ]
  },
  {
   "cell_type": "code",
   "execution_count": 63,
   "metadata": {},
   "outputs": [
    {
     "data": {
      "text/plain": [
       "3×3 Matrix{Int64}:\n",
       " 1  2  3\n",
       " 4  5  6\n",
       " 7  8  9"
      ]
     },
     "execution_count": 63,
     "metadata": {},
     "output_type": "execute_result"
    }
   ],
   "source": [
    "A = [1 2 3;\n",
    "     4 5 6;\n",
    "     7 8 9]"
   ]
  },
  {
   "cell_type": "markdown",
   "metadata": {},
   "source": [
    "Las matrices también pueden tener casi cualquier cosa como objeto dentro: "
   ]
  },
  {
   "cell_type": "code",
   "execution_count": 64,
   "metadata": {},
   "outputs": [
    {
     "data": {
      "text/plain": [
       "2×2 Matrix{Any}:\n",
       " 1             \"hola\"\n",
       "  \"saludos\"  1//2"
      ]
     },
     "execution_count": 64,
     "metadata": {},
     "output_type": "execute_result"
    }
   ],
   "source": [
    "B = [1 \"hola\";\n",
    "\"saludos\" 1//2]"
   ]
  },
  {
   "cell_type": "code",
   "execution_count": 65,
   "metadata": {},
   "outputs": [
    {
     "data": {
      "text/plain": [
       "6×6 Matrix{Int64}:\n",
       " 1  2  3  1  2  3\n",
       " 4  5  6  4  5  6\n",
       " 7  8  9  7  8  9\n",
       " 1  2  3  1  2  3\n",
       " 4  5  6  4  5  6\n",
       " 7  8  9  7  8  9"
      ]
     },
     "execution_count": 65,
     "metadata": {},
     "output_type": "execute_result"
    }
   ],
   "source": [
    "C = [A A;\n",
    "     A A]"
   ]
  },
  {
   "cell_type": "markdown",
   "metadata": {},
   "source": [
    "Pero notemos que cuando agregamos una matriz (o un arreglo) como elemento, no lo pone tal cual como un elemento, sino que intenta generar una matriz más grande (como se vio en C, no generó una matriz de $2\\times 2$, sino una de $6\\times 6$. Para forzar a que los elementos sean matrices (o listas), se tiene que agregar un corchete extra. "
   ]
  },
  {
   "cell_type": "code",
   "execution_count": 66,
   "metadata": {},
   "outputs": [
    {
     "data": {
      "text/plain": [
       "2×2 Matrix{Matrix{Int64}}:\n",
       " [1 2 3; 4 5 6; 7 8 9]  [1 2 3; 4 5 6; 7 8 9]\n",
       " [1 2 3; 4 5 6; 7 8 9]  [1 2 3; 4 5 6; 7 8 9]"
      ]
     },
     "execution_count": 66,
     "metadata": {},
     "output_type": "execute_result"
    }
   ],
   "source": [
    "C = [[A] [A]; [A] [A]]"
   ]
  },
  {
   "cell_type": "code",
   "execution_count": null,
   "metadata": {},
   "outputs": [],
   "source": []
  },
  {
   "cell_type": "markdown",
   "metadata": {},
   "source": [
    "El operador + y * está definido para matrices como la suma entre matrices (entrada por entrada) y el producto matricial, además de que * también está definido entre un número y una matriz como el producto de cada entrada de la matriz por el número. \n",
    "\n",
    "Con estas dos definiciones, automáticamente todas las funciones que usan productos y sumas están definidos. Por ejemplo, la potencia está definia. "
   ]
  },
  {
   "cell_type": "code",
   "execution_count": 67,
   "metadata": {},
   "outputs": [
    {
     "data": {
      "text/plain": [
       "2×2 Matrix{Matrix{Int64}}:\n",
       " [2 4 6; 8 10 12; 14 16 18]  [2 4 6; 8 10 12; 14 16 18]\n",
       " [2 4 6; 8 10 12; 14 16 18]  [2 4 6; 8 10 12; 14 16 18]"
      ]
     },
     "execution_count": 67,
     "metadata": {},
     "output_type": "execute_result"
    }
   ],
   "source": [
    "C + C"
   ]
  },
  {
   "cell_type": "code",
   "execution_count": 68,
   "metadata": {},
   "outputs": [
    {
     "data": {
      "text/plain": [
       "3×3 Matrix{Float64}:\n",
       " 12.0  15.0  18.0\n",
       " 12.0  15.0  18.0\n",
       " 12.0  15.0  18.0"
      ]
     },
     "execution_count": 68,
     "metadata": {},
     "output_type": "execute_result"
    }
   ],
   "source": [
    "A = ones(3,3)\n",
    "B = [1 2 3; 4 5 6; 7 8 9]\n",
    "A*B"
   ]
  },
  {
   "cell_type": "code",
   "execution_count": 69,
   "metadata": {},
   "outputs": [
    {
     "data": {
      "text/plain": [
       "3×3 Matrix{Float64}:\n",
       " 3.0  3.0  3.0\n",
       " 3.0  3.0  3.0\n",
       " 3.0  3.0  3.0"
      ]
     },
     "execution_count": 69,
     "metadata": {},
     "output_type": "execute_result"
    }
   ],
   "source": [
    "3*A"
   ]
  },
  {
   "cell_type": "code",
   "execution_count": 70,
   "metadata": {},
   "outputs": [
    {
     "data": {
      "text/plain": [
       "3×3 Matrix{Int64}:\n",
       " 121824  149688  177552\n",
       " 275886  338985  402084\n",
       " 429948  528282  626616"
      ]
     },
     "execution_count": 70,
     "metadata": {},
     "output_type": "execute_result"
    }
   ],
   "source": [
    "B^5"
   ]
  },
  {
   "cell_type": "code",
   "execution_count": 71,
   "metadata": {},
   "outputs": [
    {
     "ename": "LoadError",
     "evalue": "MethodError: no method matching sin(::Matrix{Matrix{Int64}})\n\u001b[0mClosest candidates are:\n\u001b[0m  sin(\u001b[91m::Float16\u001b[39m) at math.jl:1159\n\u001b[0m  sin(\u001b[91m::ComplexF16\u001b[39m) at math.jl:1160\n\u001b[0m  sin(\u001b[91m::Complex{T}\u001b[39m) where T at complex.jl:831\n\u001b[0m  ...",
     "output_type": "error",
     "traceback": [
      "MethodError: no method matching sin(::Matrix{Matrix{Int64}})\n\u001b[0mClosest candidates are:\n\u001b[0m  sin(\u001b[91m::Float16\u001b[39m) at math.jl:1159\n\u001b[0m  sin(\u001b[91m::ComplexF16\u001b[39m) at math.jl:1160\n\u001b[0m  sin(\u001b[91m::Complex{T}\u001b[39m) where T at complex.jl:831\n\u001b[0m  ...",
      "",
      "Stacktrace:",
      " [1] top-level scope",
      "   @ In[71]:1",
      " [2] eval",
      "   @ .\\boot.jl:360 [inlined]",
      " [3] include_string(mapexpr::typeof(REPL.softscope), mod::Module, code::String, filename::String)",
      "   @ Base .\\loading.jl:1094"
     ]
    }
   ],
   "source": [
    "sin(C)"
   ]
  },
  {
   "cell_type": "markdown",
   "metadata": {},
   "source": [
    "Nótese que el sin(C) no es lo mismo que aplicar la función sin a cada una de las entradas de C, sino hacer el desarrollo de Taylor de sin y aplicar las potencias de matrices correspondientes con sus productos y sumas. \n",
    "\n",
    "Para aplicar la función sin a cada una de las entradas, podemos usar el mismo truco que para los arreglos, es decir, poner un punto antes del paréntesis: "
   ]
  },
  {
   "cell_type": "code",
   "execution_count": 72,
   "metadata": {},
   "outputs": [
    {
     "data": {
      "text/plain": [
       "2×2 Matrix{Matrix{Float64}}:\n",
       " [-0.692791 -0.23059 0.231611; -0.172432 -0.143353 -0.114274; 0.347927 -0.0561161 -0.460159]  …  [-0.692791 -0.23059 0.231611; -0.172432 -0.143353 -0.114274; 0.347927 -0.0561161 -0.460159]\n",
       " [-0.692791 -0.23059 0.231611; -0.172432 -0.143353 -0.114274; 0.347927 -0.0561161 -0.460159]     [-0.692791 -0.23059 0.231611; -0.172432 -0.143353 -0.114274; 0.347927 -0.0561161 -0.460159]"
      ]
     },
     "execution_count": 72,
     "metadata": {},
     "output_type": "execute_result"
    }
   ],
   "source": [
    "sin.(C)"
   ]
  },
  {
   "cell_type": "code",
   "execution_count": 73,
   "metadata": {},
   "outputs": [
    {
     "data": {
      "text/plain": [
       "2×2 Matrix{Matrix{Int64}}:\n",
       " [121824 149688 177552; 275886 338985 402084; 429948 528282 626616]  …  [121824 149688 177552; 275886 338985 402084; 429948 528282 626616]\n",
       " [121824 149688 177552; 275886 338985 402084; 429948 528282 626616]     [121824 149688 177552; 275886 338985 402084; 429948 528282 626616]"
      ]
     },
     "execution_count": 73,
     "metadata": {},
     "output_type": "execute_result"
    }
   ],
   "source": [
    "C .^5"
   ]
  },
  {
   "cell_type": "markdown",
   "metadata": {},
   "source": [
    "El equivalente a lenght para matrices, es la función size. lenght también está definido, pero sólo arroja el número de elementos totales de la matriz y no las dimensiones. "
   ]
  },
  {
   "cell_type": "code",
   "execution_count": 74,
   "metadata": {},
   "outputs": [
    {
     "data": {
      "text/plain": [
       "((2, 2), 4)"
      ]
     },
     "execution_count": 74,
     "metadata": {},
     "output_type": "execute_result"
    }
   ],
   "source": [
    "size(C), length(C)"
   ]
  },
  {
   "cell_type": "markdown",
   "metadata": {},
   "source": [
    "También hay varias operaciones en la paquetería de AlgebraLineal que nos importan, por ejemplo inverso de una matriz: "
   ]
  },
  {
   "cell_type": "code",
   "execution_count": 75,
   "metadata": {},
   "outputs": [
    {
     "data": {
      "text/plain": [
       "3×3 Matrix{Float64}:\n",
       " 1.0  1.0  1.0\n",
       " 2.0  1.0  2.0\n",
       " 3.0  3.0  1.0"
      ]
     },
     "execution_count": 75,
     "metadata": {},
     "output_type": "execute_result"
    }
   ],
   "source": [
    "A = [1 1. 1; 2 1 2; 3 3 1]"
   ]
  },
  {
   "cell_type": "code",
   "execution_count": 76,
   "metadata": {},
   "outputs": [
    {
     "data": {
      "text/plain": [
       "3×3 Matrix{Float64}:\n",
       " -2.5   1.0   0.5\n",
       "  2.0  -1.0   0.0\n",
       "  1.5   0.0  -0.5"
      ]
     },
     "execution_count": 76,
     "metadata": {},
     "output_type": "execute_result"
    }
   ],
   "source": [
    "inv(A)"
   ]
  },
  {
   "cell_type": "code",
   "execution_count": 77,
   "metadata": {},
   "outputs": [
    {
     "data": {
      "text/plain": [
       "3×3 Matrix{Float64}:\n",
       " -2.5   1.0   0.5\n",
       "  2.0  -1.0   0.0\n",
       "  1.5   0.0  -0.5"
      ]
     },
     "execution_count": 77,
     "metadata": {},
     "output_type": "execute_result"
    }
   ],
   "source": [
    "A^(-1)"
   ]
  },
  {
   "cell_type": "markdown",
   "metadata": {},
   "source": [
    "Como pueden ver hay dos formas de escribir el inverso de una matriz. A mi me gusta más usar la segunda versión.\n",
    "\n",
    "Otras importantes son: "
   ]
  },
  {
   "cell_type": "code",
   "execution_count": 78,
   "metadata": {},
   "outputs": [
    {
     "data": {
      "text/plain": [
       "3×3 transpose(::Matrix{Float64}) with eltype Float64:\n",
       " 1.0  2.0  3.0\n",
       " 1.0  1.0  3.0\n",
       " 1.0  2.0  1.0"
      ]
     },
     "execution_count": 78,
     "metadata": {},
     "output_type": "execute_result"
    }
   ],
   "source": [
    "transpose(A) #transpuesta de A"
   ]
  },
  {
   "cell_type": "code",
   "execution_count": 79,
   "metadata": {},
   "outputs": [
    {
     "data": {
      "text/plain": [
       "3.0"
      ]
     },
     "execution_count": 79,
     "metadata": {},
     "output_type": "execute_result"
    }
   ],
   "source": [
    "tr(A) # traza de A"
   ]
  },
  {
   "cell_type": "code",
   "execution_count": 80,
   "metadata": {},
   "outputs": [
    {
     "data": {
      "text/plain": [
       "2.0"
      ]
     },
     "execution_count": 80,
     "metadata": {},
     "output_type": "execute_result"
    }
   ],
   "source": [
    "det(A) # determinante de una matriz"
   ]
  },
  {
   "cell_type": "code",
   "execution_count": 81,
   "metadata": {},
   "outputs": [
    {
     "data": {
      "text/plain": [
       "3-element Vector{Float64}:\n",
       " -1.483611620543907\n",
       " -0.28282386330879794\n",
       "  4.766435483852703"
      ]
     },
     "execution_count": 81,
     "metadata": {},
     "output_type": "execute_result"
    }
   ],
   "source": [
    "eigvals(A) # eigenvalores de una matriz"
   ]
  },
  {
   "cell_type": "code",
   "execution_count": 82,
   "metadata": {},
   "outputs": [
    {
     "data": {
      "text/plain": [
       "3×3 Matrix{Float64}:\n",
       " -0.0940992  -0.732014  -0.349239\n",
       " -0.57735     0.57735   -0.57735\n",
       "  0.811056    0.361694  -0.738037"
      ]
     },
     "execution_count": 82,
     "metadata": {},
     "output_type": "execute_result"
    }
   ],
   "source": [
    "eigvecs(A) # y sus eigenvectores"
   ]
  },
  {
   "cell_type": "code",
   "execution_count": 83,
   "metadata": {},
   "outputs": [
    {
     "data": {
      "text/plain": [
       "SVD{Float64, Float64, Matrix{Float64}}\n",
       "U factor:\n",
       "3×3 Matrix{Float64}:\n",
       " -0.314604  -0.196116   0.928743\n",
       " -0.517945  -0.784465  -0.341099\n",
       " -0.795461   0.588348  -0.145218\n",
       "singular values:\n",
       "3-element Vector{Float64}:\n",
       " 5.378742389226484\n",
       " 1.414213562373095\n",
       " 0.262926435221315\n",
       "Vt factor:\n",
       "3×3 Matrix{Float64}:\n",
       " -0.694749  -0.598454  -0.398969\n",
       " -0.0        0.5547    -0.83205\n",
       " -0.719252   0.578066   0.385377"
      ]
     },
     "execution_count": 83,
     "metadata": {},
     "output_type": "execute_result"
    }
   ],
   "source": [
    "svd(A) #single value decomposition de A"
   ]
  },
  {
   "cell_type": "markdown",
   "metadata": {},
   "source": [
    "Y hay muchas más, la adjunta, transpuesta conjugada, etc...\n",
    "\n",
    "Vale la pena hacer notar que se puede acceder a los renglones o columnas de una matriz de la siguiente forma: "
   ]
  },
  {
   "cell_type": "code",
   "execution_count": 84,
   "metadata": {},
   "outputs": [
    {
     "data": {
      "text/plain": [
       "3-element Vector{Float64}:\n",
       " 1.0\n",
       " 1.0\n",
       " 3.0"
      ]
     },
     "execution_count": 84,
     "metadata": {},
     "output_type": "execute_result"
    }
   ],
   "source": [
    "C[2,:] #renglones\n",
    "A[:,2] #columnas"
   ]
  },
  {
   "cell_type": "markdown",
   "metadata": {},
   "source": [
    "### Rangos\n",
    "\n",
    "Los rangos son para casi todo propósito como arreglos. Para escribir el rango de valores de todos los enteros entre 0 y 10 escribimos: "
   ]
  },
  {
   "cell_type": "code",
   "execution_count": 85,
   "metadata": {},
   "outputs": [
    {
     "data": {
      "text/plain": [
       "0:10"
      ]
     },
     "execution_count": 85,
     "metadata": {},
     "output_type": "execute_result"
    }
   ],
   "source": [
    "0:10"
   ]
  },
  {
   "cell_type": "markdown",
   "metadata": {},
   "source": [
    "si queremos aplicar a todos estos números una función, lo podemos hacer como con los arreglos. Por ejemplo: "
   ]
  },
  {
   "cell_type": "code",
   "execution_count": 86,
   "metadata": {},
   "outputs": [
    {
     "data": {
      "text/plain": [
       "11-element Vector{Int64}:\n",
       "   0\n",
       "   1\n",
       "   4\n",
       "   9\n",
       "  16\n",
       "  25\n",
       "  36\n",
       "  49\n",
       "  64\n",
       "  81\n",
       " 100"
      ]
     },
     "execution_count": 86,
     "metadata": {},
     "output_type": "execute_result"
    }
   ],
   "source": [
    "(0:10).^2"
   ]
  },
  {
   "cell_type": "code",
   "execution_count": 87,
   "metadata": {},
   "outputs": [
    {
     "data": {
      "text/plain": [
       "11-element Vector{Float64}:\n",
       "  0.0\n",
       "  0.8414709848078965\n",
       "  0.9092974268256817\n",
       "  0.1411200080598672\n",
       " -0.7568024953079282\n",
       " -0.9589242746631385\n",
       " -0.27941549819892586\n",
       "  0.6569865987187891\n",
       "  0.9893582466233818\n",
       "  0.4121184852417566\n",
       " -0.5440211108893698"
      ]
     },
     "execution_count": 87,
     "metadata": {},
     "output_type": "execute_result"
    }
   ],
   "source": [
    "sin.(0:10)"
   ]
  },
  {
   "cell_type": "markdown",
   "metadata": {},
   "source": [
    "Si queremos un rango que no separe los números inicial y final de 1 en uno, sino de 0.1 en 0.1, lo escribimos así: "
   ]
  },
  {
   "cell_type": "code",
   "execution_count": 88,
   "metadata": {},
   "outputs": [
    {
     "data": {
      "text/plain": [
       "4-element Vector{Float64}:\n",
       " 0.0\n",
       " 3.0\n",
       " 6.0\n",
       " 9.0"
      ]
     },
     "execution_count": 88,
     "metadata": {},
     "output_type": "execute_result"
    }
   ],
   "source": [
    "sqrt.((0:3:10).^2)"
   ]
  },
  {
   "cell_type": "markdown",
   "metadata": {},
   "source": [
    "Nuevamente, ese rango lo podemos tratar como un arreglo para casi todo. "
   ]
  },
  {
   "cell_type": "markdown",
   "metadata": {},
   "source": [
    "### Arreglos y matrices a partir de rangos. \n",
    "\n",
    "En Julia existe una notación compacta para generar arreglos y matrices que se parece un poco a la notación de conjuntos: "
   ]
  },
  {
   "cell_type": "code",
   "execution_count": 89,
   "metadata": {},
   "outputs": [
    {
     "data": {
      "text/plain": [
       "10-element Vector{Int64}:\n",
       "   2\n",
       "   5\n",
       "  10\n",
       "  17\n",
       "  26\n",
       "  37\n",
       "  50\n",
       "  65\n",
       "  82\n",
       " 101"
      ]
     },
     "execution_count": 89,
     "metadata": {},
     "output_type": "execute_result"
    }
   ],
   "source": [
    "f(x) = x^2 + 1 \n",
    "A = 1:10\n",
    "[f(x) for x ∈ A] "
   ]
  },
  {
   "cell_type": "code",
   "execution_count": 90,
   "metadata": {},
   "outputs": [
    {
     "data": {
      "text/plain": [
       "10×91 Matrix{Float64}:\n",
       "   2.0    2.1    2.2    2.3    2.4  …   10.6   10.7   10.8   10.9   11.0\n",
       "   5.0    5.1    5.2    5.3    5.4      13.6   13.7   13.8   13.9   14.0\n",
       "  10.0   10.1   10.2   10.3   10.4      18.6   18.7   18.8   18.9   19.0\n",
       "  17.0   17.1   17.2   17.3   17.4      25.6   25.7   25.8   25.9   26.0\n",
       "  26.0   26.1   26.2   26.3   26.4      34.6   34.7   34.8   34.9   35.0\n",
       "  37.0   37.1   37.2   37.3   37.4  …   45.6   45.7   45.8   45.9   46.0\n",
       "  50.0   50.1   50.2   50.3   50.4      58.6   58.7   58.8   58.9   59.0\n",
       "  65.0   65.1   65.2   65.3   65.4      73.6   73.7   73.8   73.9   74.0\n",
       "  82.0   82.1   82.2   82.3   82.4      90.6   90.7   90.8   90.9   91.0\n",
       " 101.0  101.1  101.2  101.3  101.4     109.6  109.7  109.8  109.9  110.0"
      ]
     },
     "execution_count": 90,
     "metadata": {},
     "output_type": "execute_result"
    }
   ],
   "source": [
    "f(x,y) = x^2 + y\n",
    "A = 1:10\n",
    "B = 1:0.1:10\n",
    "[f(x,y) for x ∈ A, y ∈ B]"
   ]
  },
  {
   "cell_type": "markdown",
   "metadata": {},
   "source": [
    "también se pueden hacer unión o intersección de conjuntos: "
   ]
  },
  {
   "cell_type": "code",
   "execution_count": 91,
   "metadata": {},
   "outputs": [
    {
     "data": {
      "text/plain": [
       "17-element Vector{Int64}:\n",
       "   2\n",
       "   5\n",
       "  10\n",
       "  17\n",
       "  26\n",
       "  37\n",
       "  50\n",
       "  65\n",
       "  82\n",
       " 101\n",
       "   1\n",
       "   3\n",
       "   4\n",
       "   6\n",
       "   7\n",
       "   8\n",
       "   9"
      ]
     },
     "execution_count": 91,
     "metadata": {},
     "output_type": "execute_result"
    }
   ],
   "source": [
    "[f(x) for x ∈ A] ∪ A"
   ]
  },
  {
   "cell_type": "code",
   "execution_count": 92,
   "metadata": {},
   "outputs": [
    {
     "data": {
      "text/plain": [
       "3-element Vector{Int64}:\n",
       "  2\n",
       "  5\n",
       " 10"
      ]
     },
     "execution_count": 92,
     "metadata": {},
     "output_type": "execute_result"
    }
   ],
   "source": [
    "[f(x) for x ∈ A] ∩ A"
   ]
  },
  {
   "cell_type": "markdown",
   "metadata": {},
   "source": [
    "Nótese que en la unión de rangos debe ser claro qué es lo que se quiere unir, sino se genera un error, porque no hay unión entre números. "
   ]
  },
  {
   "cell_type": "code",
   "execution_count": 93,
   "metadata": {},
   "outputs": [
    {
     "ename": "LoadError",
     "evalue": "MethodError: no method matching (::Colon)(::Int64, ::Int64, ::Vector{Int64})\n\u001b[0mClosest candidates are:\n\u001b[0m  (::Colon)(::T, ::T) where T<:Real at range.jl:5\n\u001b[0m  (::Colon)(::Real, ::Real) at range.jl:3\n\u001b[0m  (::Colon)(::T, ::T, \u001b[91m::T\u001b[39m) where T<:Real at range.jl:22\n\u001b[0m  ...",
     "output_type": "error",
     "traceback": [
      "MethodError: no method matching (::Colon)(::Int64, ::Int64, ::Vector{Int64})\n\u001b[0mClosest candidates are:\n\u001b[0m  (::Colon)(::T, ::T) where T<:Real at range.jl:5\n\u001b[0m  (::Colon)(::Real, ::Real) at range.jl:3\n\u001b[0m  (::Colon)(::T, ::T, \u001b[91m::T\u001b[39m) where T<:Real at range.jl:22\n\u001b[0m  ...",
      "",
      "Stacktrace:",
      " [1] top-level scope",
      "   @ In[93]:1",
      " [2] eval",
      "   @ .\\boot.jl:360 [inlined]",
      " [3] include_string(mapexpr::typeof(REPL.softscope), mod::Module, code::String, filename::String)",
      "   @ Base .\\loading.jl:1094"
     ]
    }
   ],
   "source": [
    "0:2:99 ∪ 1:2:99"
   ]
  },
  {
   "cell_type": "code",
   "execution_count": 94,
   "metadata": {},
   "outputs": [
    {
     "data": {
      "text/plain": [
       "100-element Vector{Int64}:\n",
       "  0\n",
       "  2\n",
       "  4\n",
       "  6\n",
       "  8\n",
       " 10\n",
       " 12\n",
       " 14\n",
       " 16\n",
       " 18\n",
       " 20\n",
       " 22\n",
       " 24\n",
       "  ⋮\n",
       " 77\n",
       " 79\n",
       " 81\n",
       " 83\n",
       " 85\n",
       " 87\n",
       " 89\n",
       " 91\n",
       " 93\n",
       " 95\n",
       " 97\n",
       " 99"
      ]
     },
     "execution_count": 94,
     "metadata": {},
     "output_type": "execute_result"
    }
   ],
   "source": [
    "(0:2:99) ∪ (1:2:99)"
   ]
  },
  {
   "cell_type": "code",
   "execution_count": 95,
   "metadata": {},
   "outputs": [
    {
     "data": {
      "text/plain": [
       "0:2:-1"
      ]
     },
     "execution_count": 95,
     "metadata": {},
     "output_type": "execute_result"
    }
   ],
   "source": [
    "(0:2:99) ∩ (1:2:99) #aquí podemos ver alguna diferencia entre rangos y arreglos. "
   ]
  },
  {
   "cell_type": "code",
   "execution_count": 96,
   "metadata": {},
   "outputs": [
    {
     "data": {
      "text/plain": [
       "Int64[]"
      ]
     },
     "execution_count": 96,
     "metadata": {},
     "output_type": "execute_result"
    }
   ],
   "source": [
    "[i for i ∈ 0:2:99] ∩ [i for i ∈ 1:2:99]"
   ]
  },
  {
   "cell_type": "markdown",
   "metadata": {},
   "source": [
    "**Reto: Haz un arreglo que contenga 1000 elementos, de tal forma que el elemento i es 0 si i no es primo y 1 si lo es. Con ese arreglo obtén cuántos primos hay entre los primeros 1000 números.** Hint: necesitas hacer primero una matriz usando la función floor y después usando esa matriz, obtener el arreglo que se pide usando la función sum. \n",
    "\n",
    "### El primero en resolver este reto correctamente tiene 2 puntos extra sobre su primera tarea. "
   ]
  },
  {
   "cell_type": "code",
   "execution_count": null,
   "metadata": {},
   "outputs": [],
   "source": []
  },
  {
   "cell_type": "code",
   "execution_count": null,
   "metadata": {},
   "outputs": [],
   "source": []
  },
  {
   "cell_type": "code",
   "execution_count": null,
   "metadata": {},
   "outputs": [],
   "source": []
  },
  {
   "cell_type": "code",
   "execution_count": null,
   "metadata": {},
   "outputs": [],
   "source": []
  },
  {
   "cell_type": "code",
   "execution_count": null,
   "metadata": {},
   "outputs": [],
   "source": []
  },
  {
   "cell_type": "code",
   "execution_count": null,
   "metadata": {},
   "outputs": [],
   "source": []
  },
  {
   "cell_type": "code",
   "execution_count": null,
   "metadata": {},
   "outputs": [],
   "source": []
  },
  {
   "cell_type": "code",
   "execution_count": null,
   "metadata": {},
   "outputs": [],
   "source": []
  },
  {
   "cell_type": "code",
   "execution_count": null,
   "metadata": {},
   "outputs": [],
   "source": []
  },
  {
   "cell_type": "code",
   "execution_count": null,
   "metadata": {},
   "outputs": [],
   "source": []
  }
 ],
 "metadata": {
  "@webio": {
   "lastCommId": null,
   "lastKernelId": null
  },
  "kernelspec": {
   "display_name": "Julia 1.6.1",
   "language": "julia",
   "name": "julia-1.6"
  },
  "language_info": {
   "file_extension": ".jl",
   "mimetype": "application/julia",
   "name": "julia",
   "version": "1.6.1"
  }
 },
 "nbformat": 4,
 "nbformat_minor": 4
}
