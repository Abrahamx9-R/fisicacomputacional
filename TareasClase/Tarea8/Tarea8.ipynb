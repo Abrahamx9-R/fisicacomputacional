{
 "cells": [
  {
   "cell_type": "markdown",
   "id": "e992ae55",
   "metadata": {},
   "source": [
    "# Tarea 8: Ecuaciones diferenciales parciales\n",
    "\n",
    "Esta tarea será cortita, pues tiene la intención de ser sólo una introducción. \n",
    "\n",
    "\n",
    "[1] **(fácil)** Compara el error del método de disparo con el de diferencia finita para resolver la ecuación diferencial: \n",
    "\n",
    "$$\\frac{d^2 y}{dx^2}  = p(x) \\frac{d y}{dx} + q(x) y +r(x),$$ \n",
    "\n",
    "para algunas funciones $p(x)$, $q(x)$ y $r(x)$. Elígelas no triviales (o sea, no 0 o constantes todas). "
   ]
  },
  {
   "cell_type": "code",
   "execution_count": null,
   "id": "adfc7c0e",
   "metadata": {},
   "outputs": [],
   "source": []
  },
  {
   "cell_type": "markdown",
   "id": "19f99211",
   "metadata": {},
   "source": [
    "[2] **(talachudo)** Resuelve la ecuación de la place para el caso donde en el centro de una placa cuadrada, hay un hueco en forma de Mikey Mouse con potencial $V_1$ y afuera de la placa el potencial es $V_2$. \n"
   ]
  },
  {
   "cell_type": "code",
   "execution_count": null,
   "id": "37ca686f",
   "metadata": {},
   "outputs": [],
   "source": []
  },
  {
   "cell_type": "markdown",
   "id": "1810aa32",
   "metadata": {},
   "source": [
    "[3]**(dificultad media)** Ecuación de Poisson: La ecuación de Poisson es similar a la de Laplace, excepto que en vez de estar igualdo el Laplaciano a $0$, está igualado a una función de $(x,y,z)$ (o en 2D, una función de $(x, y)$), es decir\n",
    "\n",
    "$$\\nabla^2 \\phi = f,$$\n",
    "\n",
    "con $f$ una función cualquiera. \n",
    "\n",
    "Escribe la ecuación en diferencias finitas y con ello haz un algoritmo similar al visto en los videos para resolver la ecuación de Laplace de una placa con un hueco circular, ahora para resolver la ecuación de Poisson considerando una distribución de carga no homogenea. "
   ]
  },
  {
   "cell_type": "code",
   "execution_count": null,
   "id": "b4887c09",
   "metadata": {},
   "outputs": [],
   "source": []
  },
  {
   "cell_type": "markdown",
   "id": "c16a428b",
   "metadata": {},
   "source": [
    "[4] **(difícil)** Ecuación de onda en 1D: La ecuación de onda es la siguiente: \n",
    "\n",
    "$$ \\frac{ \\partial^2 \\psi}{\\partial t} == c^2 \\nabla^2 \\psi,$$\n",
    "\n",
    "donde $c$ es la velocidad de la onda. \n",
    "\n",
    "Como se trata de una doble derivada en cada variable, significa que se requieren condiciones a la frontera y las condiciones iniciales tienen que ser 2, una sobre la evaluación inicial de $\\psi$, y la otra sobre la velocidad inicial de $\\psi$. Para simplificar las cosas puedes considerar que se trata de una onda transversal, es decir no hay una velocidad de partículas en $x$, así que $\\frac{d\\psi}{dt} = \\frac{\\partial \\psi}{\\partial t}$. \n",
    "\n",
    "(i) Escribe la ecuación de onda 1D en diferencias finitas de tal forma que quede en términos de $t$, $t-\\Delta t$ y $t-2\\Delta t$. \n",
    "\n",
    "(ii) Utilizando las condiciones iniciales de velocidad en $\\psi$ y el valor inicial de $\\psi$, obtén el valor de $\\psi$ al tiempo $\\Delta t$. \n",
    "\n",
    "(iii) Escribe un código para obtener la simulación una animación) de la ecuación de onda utilizando diferencias finitas y como condición a la frontera un valor fijo de $\\psi$ en $x = 0$ y en $x = l$. Varia los valores de $c$.  "
   ]
  },
  {
   "cell_type": "code",
   "execution_count": null,
   "id": "08cd1254",
   "metadata": {},
   "outputs": [],
   "source": []
  },
  {
   "cell_type": "markdown",
   "id": "0fc977bf",
   "metadata": {},
   "source": [
    "[5] **(dificultad media)** Cohete: (i) Escribe la ecuación de un cohete con fricción. El cohete se mueve únicamente en la dirección $z$ y su forma de elevarse es expulsando masa (de forma constante, parecido a esos cohetes con botellas de refresco y agua). La fricción con el aire genera una fuerza opuesta que va como $-\\mu v^2$. \n",
    "\n",
    "(ii) Resuelve la ecuación con valores a la frontera $z(t = 0) = 0$, $z(t = 10) = h$, usando el método del disparo no lineal. \n",
    "\n",
    "Nota: Vas a encontrar 2 posibles trayectorias. Interpreta su significado.  "
   ]
  },
  {
   "cell_type": "code",
   "execution_count": null,
   "id": "052059aa",
   "metadata": {},
   "outputs": [],
   "source": []
  },
  {
   "cell_type": "markdown",
   "id": "98c0b97b",
   "metadata": {},
   "source": [
    "[6]**(dificultad media)** Ahora resuelve el mismo problema que en 5, esta vez usa diferencias finitas no lineales. "
   ]
  },
  {
   "cell_type": "code",
   "execution_count": null,
   "id": "b7484085",
   "metadata": {},
   "outputs": [],
   "source": []
  },
  {
   "cell_type": "markdown",
   "id": "4c7a4a0a",
   "metadata": {},
   "source": [
    "[problema extra] **(difícil)** Simula una placa de Chladni rectangular, con la frontera fija, el centro tiene el máximo de vibración (se tiene que dar una frecuencia) y algún punto cualquiera (elegido por el usuario) también está fijo. Para esto resuelve la ecuación de onda en 2D. \n",
    "\n",
    "PD: vale 1/60 en la calificación final"
   ]
  },
  {
   "cell_type": "code",
   "execution_count": null,
   "id": "90fe4833",
   "metadata": {},
   "outputs": [],
   "source": []
  }
 ],
 "metadata": {
  "kernelspec": {
   "display_name": "Julia 1.6.1",
   "language": "julia",
   "name": "julia-1.6"
  },
  "language_info": {
   "file_extension": ".jl",
   "mimetype": "application/julia",
   "name": "julia",
   "version": "1.6.1"
  }
 },
 "nbformat": 4,
 "nbformat_minor": 5
}
