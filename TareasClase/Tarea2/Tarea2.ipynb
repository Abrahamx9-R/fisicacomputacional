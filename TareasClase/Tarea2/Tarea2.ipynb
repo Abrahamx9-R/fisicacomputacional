{
 "cells": [
  {
   "cell_type": "markdown",
   "id": "9a84bc86",
   "metadata": {},
   "source": [
    "# Tarea 2: Funciones y Objetos\n",
    "\n",
    "\n",
    "**Esta tarea es notoriamente más difícil que la anterior, así que tendrán hasta el domingo de la próxima semana para terminarla.**\n",
    "\n",
    "Será una de las tareas más difíciles en el semestre. Creo que aún no tienen tanta carga de trabajo en el resto de sus cursos y ya tienen herramientas para que, pensandole un poco (un mucho en realidad), logren cosas más o menos avanzadas. Por lo tanto, los motivo a ser humildes y no ir directamente por el problema de 10 u 11. Primero piensen como resolverían cada uno y ataquen aquel del que tengan ya una idea de cómo resolverlo. Si no tienen idea de ninguno, me piden pistas para el de 7.  \n",
    "\n",
    "La siguiente tarea igual será difícil, pero para la 4 habrá un descanso, esa será un poco más fácil. \n",
    "\n",
    "Equipo:\n",
    "\n",
    "Nombres de cada integrante del equipo. \n",
    "\n",
    "## Problemas Básicos\n",
    "\n",
    "[1]  En una línea de código haz una función para calcular el área de un polígono (no necesariamente regular) con vértices $\\vec{p}_1, \\vec{p}_2, \\dots, \\vec{p}_n$ (para el siguiente ejercicio te conviene que sólo sea un argumento, un arreglo de vectores 2D). Prueba tu función con algunos polígonos (un par regulares y un irregular) para verificar que hace bien los cálculos (obtén analíticamente las áreas para checar que obtiene los valores correctos). \n",
    "\n",
    "\n",
    "**Nota:** Asegúrate que el área que arroje tu función sea positiva siempre. \n",
    "\n",
    "**hint:** Intenta pensar como resolver el problema sin este hint, pero si te rindes, puedes revisar aquí una técnica muy buena: https://en.wikipedia.org/wiki/Shoelace_formula. \n",
    "\n",
    "\n"
   ]
  },
  {
   "cell_type": "code",
   "execution_count": null,
   "id": "06084ff3",
   "metadata": {},
   "outputs": [],
   "source": []
  },
  {
   "cell_type": "markdown",
   "id": "a10b36a3",
   "metadata": {},
   "source": [
    "[2] Usa la función del ejercicio 1 para hacer una función en una línea de código que tenga como argumentos otra función estrictamente positiva $f$ en $\\mathbb{R}$, dos valores $a$ y $b$ tales que $a>b$, un número $n$ y que arroje una aproximación a la integral $\\int_a^b f(x)dx$. Recuerda que la integral es el área bajo la curva, por lo que puedes aproximar con un polígono que pase por los puntos $(a, 0), (a, f(a)), (a+\\Delta x, f(a+\\Delta x)), \\dots, (a+(n-1)\\Delta x,f(a+(n-1)\\Delta x)), (b, f(b)), (b, 0)$.  \n",
    "\n",
    "**Nota:** Utiliza el símbolo $\\int_p$ como el nombre de tu función, $\\int_p(f, a, b, n)$. \n"
   ]
  },
  {
   "cell_type": "code",
   "execution_count": null,
   "id": "abc5f42f",
   "metadata": {},
   "outputs": [],
   "source": []
  },
  {
   "cell_type": "markdown",
   "id": "d3540cd4",
   "metadata": {},
   "source": [
    "[3] Utilizando la función del ejercicio anterior, haz una función (esta y todas las siguientes pueden ser en varias líneas) que calcule numéricamente la integral de una función cualquiera $f$ en $\\mathbb{R}$ (que pueda ser positiva, negativa, mixta, etc...) en un un intervalo $[a,b]$, aproximando con $n$ divisiones (que $n$ sea un argumento de la función, pero pre-fijado en 100). \n",
    "\n",
    "Prueba tu función con la función $sin$, $exp$, $x$, $x^4$ (checando sobre los intervalos que elijas que coincida aceptablemente el cálculo numérico con el analítico). \n",
    "\n",
    "**Nota:** Ahora utiliza el símbolo $\\int$ para nombrar la función. \n",
    "\n",
    "**Nota2:** Para resolver el problema TIENES que utilizar la funcion anterior, no se vale re-definir la función en [1] para que pueda arrojar áreas negativas. \n",
    "\n",
    "**Hint:** Encuentra los puntos que su coordenada $y$ es positiva. "
   ]
  },
  {
   "cell_type": "code",
   "execution_count": null,
   "id": "43460d34",
   "metadata": {},
   "outputs": [],
   "source": []
  },
  {
   "cell_type": "markdown",
   "id": "e6ae894f",
   "metadata": {},
   "source": [
    "[4] Calcula $\\pi$ usando 3 métodos (haz las respectivas funciones):\n",
    "\n",
    "- Midiendo el área de un polígono regular de $n$ lados de radio 1. \n",
    "- Calculando el área bajo la curva de $ f(x) = 2\\sqrt{1-x^2}$ entre -1 y 1.\n",
    "- Haciendo la serie $\\sum_{i = 1}^n \\frac{(-1)^i}{2i+1}$ (serie de Leibniz). \n",
    "\n",
    "¿Qué método lo aproxima mejor al crecer $n$?"
   ]
  },
  {
   "cell_type": "code",
   "execution_count": null,
   "id": "b900a1d6",
   "metadata": {},
   "outputs": [],
   "source": []
  },
  {
   "cell_type": "markdown",
   "id": "324a6d20",
   "metadata": {},
   "source": [
    "[5] En la tarea anterior vimos que las letras con acentos son problemáticas, porque las registra como 2 símbolos, uno que se puede leer y uno que no. Lo mismo sucede con ¿, ñ, ¡, entre otros. Haz una función que tenga como argumento un texto cualquiera en español con símbolos y acentos incómodos y regrese el mismo texto en un formato legible por la ocomputadora, es decir, que quite la ñ-> gn, quite los símbolos \"raros\" del español como ¿, ¡, etc..., y quite los acentos. \n",
    "\n",
    "Prueba tu función con algún texto más o menos largo (un poema, un cuento corto, etc...). "
   ]
  },
  {
   "cell_type": "code",
   "execution_count": null,
   "id": "c308bd25",
   "metadata": {},
   "outputs": [],
   "source": []
  },
  {
   "cell_type": "markdown",
   "id": "551f1eec",
   "metadata": {},
   "source": [
    "[6] Haz una función que tenga como argumento un texto en español y que regrese un arreglo con las palabras que contiene el texto (modificadas para ser legibles en la computadora) ordenadas de la palabra más frecuente a la menos frecuente y también regrese un arreglo con el número de veces que aparece cada palabra. Asegúrate de eliminar los signos de puntuación. Asegúrate que los signos como ? no estén incluidos en las palabras. \n",
    "\n",
    "Prueba tu función con un texto muy largos (al menos que tenga unas mil palabras).\n"
   ]
  },
  {
   "cell_type": "code",
   "execution_count": null,
   "id": "739dfa43",
   "metadata": {},
   "outputs": [],
   "source": []
  },
  {
   "cell_type": "markdown",
   "id": "92dc9c38",
   "metadata": {},
   "source": [
    "[7] Haz un objeto Segmento, LineaPoligonal,  Polígono, SuperficiePoliedrica y Poliedro. El segmento debe contener como propiedades dónde inicia, dónde termina y su longitud. La linea poligonal debe contener una lista ordenada de vértices y una de segmentos, así como su longitud. El polígono debe contener como propiedades una lista ordenada de sus vértices, una lista ordenada de sus segmentos, su perímetro y su área. La superficie poliédrica debe contener una lista de polígonos, y la superficie. Finalemente, el poliedro debe contener una lista de caras (que son polígonos), su superficie y su volumen. \n",
    "\n",
    "**Nota:** Los objetos por convención se designa la primera en mayúsculas, mientras que las variables es todas minúsculas. Las funciones en cambio en general se escriben con minúsculas, excepto cuando se refieran a un objeto.\n",
    "\n",
    "**Nota2:** Yo hago la excepción con las variables cuando son matrices, en cuyo caso también permito que sean con mayúscula la primera. "
   ]
  },
  {
   "cell_type": "code",
   "execution_count": null,
   "id": "56757ca4",
   "metadata": {},
   "outputs": [],
   "source": []
  },
  {
   "cell_type": "markdown",
   "id": "3a4b503a",
   "metadata": {},
   "source": [
    "[8] Agrega a \"+\" los siguientes métodos:\n",
    "- +(:Segmento, :Vector): Si los vértices del objeto Segmento y el Vector tienen la misma dimensión, entonces debe arrojar un objeto :LineaPoligonal cuyos vértices sean los dos vértices del segmento y el vector. En otro caso debe arrojar un error de dimensión (ver la documentación de la función error). \n",
    "- +(:Segmento, :Segmento): Si el vértice final del primer segmento es el mismo que el vértice inicial del segundo segmento, debe arrojar una LineaPoligonal que tenga como segmentos a ambos segmentos de la suma. En otro caso debe arrojar un error (de posición). \n",
    "- +(:LineaPoligonal, :Vector): Debe arrojar una linea poligonal que tenga como vértices todos los vértices de la linea poligonal inicial unión el vectoro. Si el vector no tiene la misma dimiensión que los vértices de la línea poligonal, entonces debe arrojar un error. \n",
    "- +(:LineaPoligonal, :Segmento): Debe arrojar también una linea poligonal, cuyos segmentos sean todos los segmentos involucrados, comenzando por los de la línea poligonal y terminando con el segmento. Si el último vértice de la línea poligonal no coincide con el primero del segmento, entonces debe arrojar un error de posición. \n",
    "- +(:LineaPoligonal, :LineaPoligonal):   Debe arrojar también una linea poligonal, cuyos segmentos sean todos los segmentos involucrados, comenzando por los de la primera línea poligonal y terminando con los de la segunda línea poligonal. Si el último vértice de la primera línea poligonal no coincide con el primero de la segunda, entonces debe arrojar un error de posición. \n",
    "- +(:Polígono, :Polígono): Si uno y sólo uno de los segmentos es igual en ambos polígonos, debe arrojar una superficie poliedrica que tenga como caras ambos polígonos y la superficien sea la suma de las áreas de los polígonos. En otro caso arrojar un error. \n",
    "- +(:SuperficiePoliedrica, :Polígono). Si al menos una (pueden ser varias) de las aristas de la superficie poliedrica coinciden con alguna de las aristas del polígono, entonces debe arrojar una superficien poliedrica cuyas caras sea la unión de todos los polígonos involucrados. En otro caso debe arrojar un error. \n",
    "- +(:SuperficiePoliedrica, :SuperficiePoliedrica), debe arrojar una superficie poliedrica cuyas caras sean todas las involucradas. Debe arrojar un error si no coindicen por lo menos 1 arista de ambas superficies.\n",
    "\n",
    "También agrega todos los conmutados, es decir +(:Vector, :Segmento),+(:Vector, LinealPoligonal), etc..."
   ]
  },
  {
   "cell_type": "code",
   "execution_count": null,
   "id": "ba2185c0",
   "metadata": {},
   "outputs": [],
   "source": []
  },
  {
   "cell_type": "markdown",
   "id": "24663c9d",
   "metadata": {},
   "source": [
    "[9] Haz una función Segmento que requiere de 2 vértices (en cualquier dimensión) y una Polígono que tome como argumento una lista de vértices 2D. La función Segmento debe generar un objeto Segmento cuyo vértice inicial sea el primer vértice y el vértice final el segundo vértice y su longitud sea la distancia entre ambos vértices. La función Polígono debe generar un objeto Polígono, cuyos vértices sean los vértices de la lista, las aristas (segmentos) sean las generadas usando 2 vértices vecinos de la lista (el primero y el último de los vértices son también vecinos), su perímetro sea la suma de las longitudes de las aristas y su área sea el área del polígono que tiene esas aristas. Prueba esta última función con varios conjuntos de vértices de los cuales puedas calcular analíticamente el perímetro y área del polígono que generen."
   ]
  },
  {
   "cell_type": "code",
   "execution_count": null,
   "id": "c80815f7",
   "metadata": {},
   "outputs": [],
   "source": []
  },
  {
   "cell_type": "markdown",
   "id": "62ac72f8",
   "metadata": {},
   "source": [
    "[10] Un problema típico en física computacional es saber si una partícula se encuentra \"dentro\" de algo o \"fuera\" de ese algo. Para polígonos (2D) una forma de resolver esto es \"lanzando semi-rayos\" desde la partícula hacia el exterior. Si el semi-rayo cruza un número impar de aristas, entonces se encuentra dentro del polígono. Si cruza un número par se encuentra fuera. Haz una función que dado un polígono 2D y un punto, diga si el punto se encuentra dentro o fuera del polígono."
   ]
  },
  {
   "cell_type": "code",
   "execution_count": null,
   "id": "77014d98",
   "metadata": {},
   "outputs": [],
   "source": []
  },
  {
   "cell_type": "markdown",
   "id": "7657932d",
   "metadata": {},
   "source": [
    "[11] Haz una función que dada una línea poligonal, una posición inicial (en el plano) un ángulo y rapidez inicial, calcule la distancia (y tiempo) que recorre (tarda) una partícula que se tira con tiro parabólico hasta que \"cae\" en la linea poligonal.\n",
    "\n",
    "**Hint:** El problema te conviene partirlo en \"cachitos\". Primero haz una función para verificar que un punto (en 2D) se encuentra dentro de un segmento (también 2D). Después has una función para calcular la intersección entre el tiro parabólico y una recta con pendiente arbitraria. Después une estos dos para hacer una función que calcula si un tiro parabólico intersecta un segmento dado. Finalmente revisa si el tiro parabólico intersecta una linea poligonal y dónde. Si lo hace en varios lugares, quédate con el de menor tiempo positivo. "
   ]
  },
  {
   "cell_type": "code",
   "execution_count": null,
   "id": "0f95afa1",
   "metadata": {},
   "outputs": [],
   "source": []
  },
  {
   "cell_type": "markdown",
   "id": "6c8b2587",
   "metadata": {},
   "source": [
    "[12] Haz un objeto llamado Cuaternión que sea un número (vas a necesitar usar el objeto abstracto Number), que contenga la parte real, y las 3 partes imaginarias. Agrega a este objeto las operaciones de suma, resta, producto, cociente, conjugado, norma y exponencial (revisa cómo se operan los cuaternones aquí: https://en.wikipedia.org/wiki/Quaternion).\n",
    "\n",
    "Prueba que tu objeto hace lo que debe hacer un cuaternión con esas operaciones algebráicas básicas.\n",
    "\n",
    "Nota: Necesitarás cargar la paquetería de LinearAlgebra para la norma."
   ]
  },
  {
   "cell_type": "code",
   "execution_count": null,
   "id": "b08288e4",
   "metadata": {},
   "outputs": [],
   "source": []
  },
  {
   "cell_type": "markdown",
   "id": "9138fa68",
   "metadata": {},
   "source": [
    "[13] Usa el objeto anterior para definir una función de rotación en 3D dado un eje de rotación y un ángulo de giro. Revisa (https://en.wikipedia.org/wiki/Quaternions_and_spatial_rotation). "
   ]
  },
  {
   "cell_type": "code",
   "execution_count": null,
   "id": "d3f9705c",
   "metadata": {},
   "outputs": [],
   "source": []
  },
  {
   "cell_type": "markdown",
   "id": "b302678e",
   "metadata": {},
   "source": [
    "## Ejercicios avanzados\n"
   ]
  },
  {
   "cell_type": "code",
   "execution_count": null,
   "id": "a74dbf26",
   "metadata": {},
   "outputs": [],
   "source": []
  },
  {
   "cell_type": "markdown",
   "id": "c7381549",
   "metadata": {},
   "source": [
    "**Para sacar 7:** Repite el ejercicio 11 pero en el caso 3D, es decir, en vez de usar una línea poligonal, utiliza una superficie poliedrica y el tiro parabólico es una parábola en 3D."
   ]
  },
  {
   "cell_type": "code",
   "execution_count": null,
   "id": "bdf2db22",
   "metadata": {},
   "outputs": [],
   "source": []
  },
  {
   "cell_type": "markdown",
   "id": "35a63156",
   "metadata": {},
   "source": [
    "**Para sacar 8** Gráficas con símbolos. Una forma de graficar es simplemente imprimir una matriz con símbolos. Usando la función print y el símbolo \\n para saltar linea, puedes imprimir adecuadamente los símbolos para dibujar una función grafica_con_simbolos(p, x, y), por ejemplo, poniendo el símbolo \"x\" para cuando un punto está ocupado y el símbolo \" \" para cuando no. Usando esta idea haz una función que grafique los puntos de un arreglo de puntos $[\\vec{p}_1, \\dots, \\vec{p}_n]$, dado los límites en el eje $x$ y $y$. \n",
    "\n",
    "Agrega a tu función grafica_con_simbolos el método función grafica_con_simbolos(:Segmento, x,y) para que te grafique un segmento, generando por ejemplo 8 puntos intermedios+ los dos puntos de los extremos. También agrega función grafica_con_simbolos(:Poligono, x,y). Prueba tu función con algunos polígonos simples. "
   ]
  },
  {
   "cell_type": "code",
   "execution_count": null,
   "id": "c5183367",
   "metadata": {},
   "outputs": [],
   "source": []
  },
  {
   "cell_type": "markdown",
   "id": "a3155f1c",
   "metadata": {},
   "source": [
    "\n",
    "**Para sacar 9:** Haz una función que verifique si los vértices de un Polígono (en 3D) forman un polígono real, es decir, que todos sus vértices se encuentran en el mismo plano. Para esto utiliza la función de rotación del ejercicio anterior para rotar tus vértices de tal forma que 3 de ellos queden en el plano $xy$. Si todos los demás quedan también en ese mismo plano, entonces arroja un true, sino, arroja un false. Recuerda que hay errores numéricos, así que conviene usar $\\approx$ en vez de $=$, para evitar que por errores numéricos se descarten polígonos que en realidad sí son reales. "
   ]
  },
  {
   "cell_type": "code",
   "execution_count": null,
   "id": "0fe3a62b",
   "metadata": {},
   "outputs": [],
   "source": []
  },
  {
   "cell_type": "markdown",
   "id": "156f5e79",
   "metadata": {},
   "source": [
    "**Para sacar 10:** Haz una función que verifique con un Poliedro es un poliedro real, es decir, que todas sus caras son polígonos reales, pero además que las aristas de cada cara coinciden con una y sólo una arista de otra cara. \n",
    "\n",
    "Prueba tu función con varios poliedros. "
   ]
  },
  {
   "cell_type": "code",
   "execution_count": null,
   "id": "11d6c6b0",
   "metadata": {},
   "outputs": [],
   "source": []
  },
  {
   "cell_type": "markdown",
   "id": "7cff5775",
   "metadata": {},
   "source": [
    "**Para sacar 11:** Haz una función Poliedro, que tome como argumentos una lista de Polígonos y verifique que estos corresponden a las caras de un poliedro real. Si no lo hacen, entonces que arroje un error. Si sí son parte de un poliedro real, entonces obtenga el objeto Poliedro formado por esas caras. Calcular el volumen del poliedro no es trivial, pero se puede hacer mediante la fórmula que viene en: https://en.wikipedia.org/wiki/Polyhedron#Volume"
   ]
  },
  {
   "cell_type": "code",
   "execution_count": null,
   "id": "bc6df624",
   "metadata": {},
   "outputs": [],
   "source": []
  }
 ],
 "metadata": {
  "kernelspec": {
   "display_name": "Julia 1.7.2",
   "language": "julia",
   "name": "julia-1.7"
  },
  "language_info": {
   "file_extension": ".jl",
   "mimetype": "application/julia",
   "name": "julia",
   "version": "1.7.2"
  }
 },
 "nbformat": 4,
 "nbformat_minor": 5
}
