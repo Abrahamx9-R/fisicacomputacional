{
 "cells": [
  {
   "cell_type": "markdown",
   "id": "cb79f2fd",
   "metadata": {},
   "source": [
    "# Tarea 3: Gráficas e Imágenes\n",
    "\n",
    "Sobre esta tarea tengo que contarles una historia. \n",
    "\n",
    "Estoy comenzando una colaboración con experimentales. La idea es estudiar un sistema donde intruducir ruido pueda ayudar a ordenar un sistema. El experimento consiste en 2 partes. Primero poner unas esferitas de vídrio (de micras de radio) en agua y poner un patrón de difracción periódico con un láser (lineas paralelas periódicamente). Esto sirve como pinzas ópticas, de forma que las esferitas deben de atraerse hacia la luz y acomodarse a lo largo de las líneas.  Si el potencial (la intensidad del láser) no es suficientemente fuerte, entonces es superado por las fuerzas estocásticas (las moléculas de agua golpeando). En este caso, el sistema estará desordenado, pero poniendo ruido, podrían ordenarse las partículas, porque en algunas regiones los pozos de potencial serían suficientemente profundos. \n",
    "\n",
    "Yo llegué al grupo, porque en el análisis de la primera parte era necesario medir el orden cuando la potencia del láser es suficientemente grande y esa parte de medir el orden parecía difícil. Habían intentado varias cosas y parecía como que nunca se ordenaban las partículas a pesar de tener un láser muy potente (y sabían que para esas potencias deberían de tener ya una pinza óptica efectiva). La distancia entre las líneas del patrón de difracción es más o menos igual que el tamaño de las esferitas, así que a simple vista no se podía ver si se ordenaban. Como las lineas eran paralelas al eje $y$, la idea era proyectar todas las partículas sobre el eje $x$ y medir la densidad de partículas, o sea, hacer un histograma a lo largo del eje $x$, este debería verse como un seno. No se veía. Sacaron la transformada de Fourier y se veía un mini-pico, pero no era concluyente. Intentaron medir la difusión y tampoco; se veía igual en el eje $x$ que en el $y$. \n",
    "\n",
    "Después vino la pandemia, el experimento quedó en el abandono. Luego escucharon una plática que di sobre algo que tenía que ver con medir el orden de esferas duras y me contactaron. Decidimos comenzar una serie de reuniones para explicar el experimento, explicar cómo podría simular el fenómeno, etc. La semana pasada me tocaba revisar los videos del experimento y ver si podía repetir lo que ellos, pero con Julia. Lo dejé (como ustedes con las tareas) todo para el último día. 6h antes de la reunión me puse a trabajar en ello (muy mal de mi parte, por cierto). Separé el video en un vector de imágenes y revisé la primera imagen. Se veía ligeramente en el fondo el patrón de difracción (usan un filtro para que no se vea y se puedan reconocer mejor las partículas). Primera cosa que hice, fue ver cómo se veía la imagen en los diferentes colores del RBG. En azul, prácticamente no se veía, pero subiendo mucho la intensidad (multiplicando por 100 la cantidad de azul) ya se veía bien y se veía mucho el patrón de difracción. El detalle es que no estaba exactamente paralelo al eje $y$ y ese era todo el problema. Rotando la imagen un poquitito y luego proyectando, ya todo funcionaba. \n",
    "\n",
    "En esas 6h \"problema resuelto\". Por supuesto, para eso era necesario saber manejar bien las imágenes, para volver cada pixel una posición, reconocer qué son partículas y que no, etc. Pero en 6h fue más que suficiente para resolver el problema y hacer de paso un análisis sobre el ruido (algo que también veremos en alguna tarea o práctica) y una pequeña primera simulación sobre las partículas (Monte-Carlo, que también veremos al final del curso). Con esto no quiero presumir de lo que hice -realmente no creo que es extraordinario de mi parte- sino de lo que se puede lograr con el manejo de imágenes en Julia (esto sí me parece impresionante). El equipo experimental pasó mucho tiempo (no me dijeron cuanto, por pena, pero asumo que meses) buscando la solución, pero como a simple vista se veía el patrón de difracción paralelo al eje $y$, no pensaron en ese detalle. Debo decir, que todo se hace en la escala de micras, así que el patrón de difracción de hecho no se ve a simple vista, pero el microscopio tiene el filtro, así que tampoco se ve realmente en el microscopio, o se ve demasiado tenue. En fin, son de esas cosas \"sencillas\" que pueden ahorrarles mucho tiempo en el futuro. Analizar imágenes es realmente importante y muchas veces lo que se tiene que hacer es \"sencillo\". En esta tarea decidí enseñarles a usar una paquetería más que les puede ser útil. La dejaré sólo para uno de los problemas avanzados, para no afectarles en la calificación si tienen algún problema de instalación, pero inténten el problema aunque no sea el que elijan. \n",
    "\n",
    "Equipo:\n",
    "\n",
    "Nombres de cada integrante del equipo.\n",
    "\n",
    "## Problemas Básicos\n",
    "\n",
    "En esta tarea incluirás algunas de las cosas de la tarea pasada. Para esto haz un archivo que se llame \"ObjetosYFunciones_NombreDeCadaUnoEnElEquipo.jl\" (poniendo el nombre de cada uno del equipo) y que incluya los objetos y funciones de la tarea pasada que ocuparás. Por ejemplo, los objetos Segmento, Polígono, etc, las funciones para generarlos, etc... El archivo lo puedes hacer en un notebook y después descargarlo como .jl, pero también lo puedes hacer con cualquier editor de texto básico (como nel block de notas) y guardarlo como un archivo .jl. \n",
    "\n",
    "Para cargar el archivo .jl, necesitas poner la siguiente función"
   ]
  },
  {
   "cell_type": "raw",
   "id": "5da287be",
   "metadata": {},
   "source": [
    "include(\"ObjetosYFunciones_NombreDeCadaUnoEnElEquipo.jl\")"
   ]
  },
  {
   "cell_type": "markdown",
   "id": "85daeadb",
   "metadata": {},
   "source": [
    "En caso de que tu archivo esté en otra carpeta necesitas poner toda la dirección, aunque lo recomendable es que esté en la misma carpeta. "
   ]
  },
  {
   "cell_type": "markdown",
   "id": "4246a850",
   "metadata": {},
   "source": [
    "[1] **Diagramas de Cobweb:** Estos diagramas consisten de el mapeo $f$ (función) que se va a estudiar, la recta identidad, el segmento $(x_0,0), (x_0,f(x_0))$, y de los segmentos de la forma $(x_i, x_{i+1}), (x_{i+1},x_{i+1})$ y los segmentos de la forma $(x_{i+1},x_{i+1}), (x_{i+1},x_{i+2})$. Haz una función que dado un mapeo $f(x)$, un valor inicial $x_0$ y un número de aplicaciones del mapeo, regrese el diagrama de Cobweb correspondiente. Pruébalo con el mapeo logístico para el caso donde hay un punto atractivo (que corresponde a la intersección de la parábola y la recta identidad), comenzando desde $x_0 = 0.3$. Pruébalo también para el caso donde haya 2 valores que sean cíclicos (o sea que $f(f(x_c)) = x_c$, pero $f(x_c)  \\ne x_c$ ). "
   ]
  },
  {
   "cell_type": "code",
   "execution_count": null,
   "id": "02ce12d7",
   "metadata": {},
   "outputs": [],
   "source": []
  },
  {
   "cell_type": "markdown",
   "id": "f9d92b4d",
   "metadata": {},
   "source": [
    "[2] **Ley de Zipf:** Para este ejercicio primero necesitas revisar cómo abrir un archivo txt y leerlo (para evitar copiar a mano un texto). Para esto usa el archivo \"aleph.txt\" que viene junto con esta tarea y prueba lo siguiente:\n",
    "\n",
    "archivo = open(\"aleph.txt\") \n",
    "\n",
    "texto = read(archivo, String) \n",
    "\n",
    "close(archivo)\n",
    "\n",
    "La primera parte abre el archivo, la segunda linea lee el archvio y pone el texto en la variable texto y la última linea cierra el archivo (para que se pueda usar en algo más).\n",
    "\n",
    "La tarea consiste en contar cuantas veces aparece cada palabra (usando las funciones que hiciste en la tarea pasada) y con ello hacer un histograma de ese conteo que esté ordenado por la frecuencia con la que aparecen las palabras, es decir, la primera palabra es la que más veces se repite y la última palabra es la que menos veces aparece en el texto. \n",
    "\n",
    "La gráfica hazla en escala logarítimca tanto en el eje x, como en el eje y (nota que si tienes 0's en tu conteo tendrás problemas para graficar, porque log(0) = -Inf). Pon además etiquetas a los ejes, el eje x \"palabras\", el eje y el LaTeX \"P\". \n",
    "\n",
    "Además agrega a este histograma una ley de potencia (una curva de la forma $y(x) = a x^\\lambda$) que aproxime como decae el histograma (haz el ajuste a \"ojo\"). Agrega en este caso la etiqueta $y(x) = a x^\\lambda$ a esta curva (sin que haya una etiqueta para el histograma). "
   ]
  },
  {
   "cell_type": "code",
   "execution_count": null,
   "id": "3f9ccf04",
   "metadata": {},
   "outputs": [],
   "source": [
    "archivo = open(\"aleph.txt\")\n",
    "texto = read(archivo, String)\n",
    "close(archivo)"
   ]
  },
  {
   "cell_type": "code",
   "execution_count": null,
   "id": "9592da84",
   "metadata": {},
   "outputs": [],
   "source": []
  },
  {
   "cell_type": "markdown",
   "id": "4ba8ba41",
   "metadata": {},
   "source": [
    "[3] Utilizando la técnica de graficar sobre imágenes (como con la curva de Koch en los videos), haz el fractal del triángulo de Sierpinski y un fractal de árbol o de helecho. Para ambos puedes usar una función iterativa. Sólo toma en cuenta que no debes de exagerar en el número de pasos, 7-10 pasos es suficiente para ver un fractal bonito. "
   ]
  },
  {
   "cell_type": "code",
   "execution_count": null,
   "id": "e4919b4d",
   "metadata": {},
   "outputs": [],
   "source": []
  },
  {
   "cell_type": "markdown",
   "id": "2d3a0f4e",
   "metadata": {},
   "source": [
    "[4] Importa Plots.plot y Plots.plot! para poder agregar un método para graficar tus objetos Segmento, LineaPoligonal y Poligono. En el caso de plot(O::Objeto), debo de borrar lo que se haya graficado antes y generar la nueva gráfica del objeto. En el caso de plot!(O::Objeto), debe de graficar el objeto sobre lo que se haya graficado anteriormente. \n",
    "\n",
    "En el video no lo aclaré, pero pueden usar \"...\" para los kargs. Por ejemplo:     "
   ]
  },
  {
   "cell_type": "raw",
   "id": "2120e702",
   "metadata": {},
   "source": [
    "function plot(O::Objeto, ...)\n",
    "    x = fx(O) # genera un arreglo de n números reales usando el objeto.\n",
    "    y = fy(O) # genera otro arreglo de n números reales usando el objeto.\n",
    "    plot(x, y, ...)\n",
    "end"
   ]
  },
  {
   "cell_type": "markdown",
   "id": "ca329155",
   "metadata": {},
   "source": [
    "En este caso, yo podré hacer plot(O, color = :red) y automáticamente reconocerá el color :red como una opción, o puedo hacer plot(O, alpha = 0.5) y me lo pondrá con transparencia 0.5. "
   ]
  },
  {
   "cell_type": "code",
   "execution_count": null,
   "id": "815fad67",
   "metadata": {},
   "outputs": [],
   "source": []
  },
  {
   "cell_type": "markdown",
   "id": "c5882bd6",
   "metadata": {},
   "source": [
    "[5] Utiliza lo del ejercicio anterior y tu cálculo para encontrar la intersección entre el tiro parabólico y una línea poligonal (de la tarea anterior) para hacer una función que dada una posición inicial, una velocidad inicial y una línea poligonal, dibuje la línea poligonal y el tiro parabólico hasta el punto donde se da la intersección. "
   ]
  },
  {
   "cell_type": "code",
   "execution_count": null,
   "id": "d12973a0",
   "metadata": {},
   "outputs": [],
   "source": []
  },
  {
   "cell_type": "markdown",
   "id": "87cbfdb7",
   "metadata": {},
   "source": [
    "[6] Un círculo es casi un polígono regular de $n$ lados si $n$ es grande. Visualmente, un polígono de 100 lados es más que suficiente para ver un círculo. Usando esto para hacer una función \"plotcirculo!(x,r)\" que grafique un círculo dada la posición $x$ y el radio $r$.  En tu función utiliza el argumento \"...\" para que puedas incluir color, grueso de línea, transparencia, rellenado, etc. Usa esta función para dibujar círculos en un arreglo triangular (en total 100 círculos), rellenos y con colores aleatorios (usando RGB). \n",
    "\n",
    "**Nota:** En Julia se tiene como convención que si el nombre de la función termina con !, entonces se debe actualizar alguna variable global. En este caso, el ! significa se actualiza la gráfica, es decir, que se debe de graficar sobre una gráfica ya existente y no borrar la gráfica. "
   ]
  },
  {
   "cell_type": "code",
   "execution_count": null,
   "id": "d169e95f",
   "metadata": {},
   "outputs": [],
   "source": []
  },
  {
   "cell_type": "markdown",
   "id": "c7156807",
   "metadata": {},
   "source": [
    "[7] Repite el ejercicio anterior, pero esta vez con elipses (necesitarás ahora dar un eje mayor, eje menor, ángulo de inclinación y posición del centro). En el dibujo de las 100 elipses, pon los ángulos de giro aleatoriamente. "
   ]
  },
  {
   "cell_type": "code",
   "execution_count": null,
   "id": "758b38f0",
   "metadata": {},
   "outputs": [],
   "source": []
  },
  {
   "cell_type": "markdown",
   "id": "366d6364",
   "metadata": {},
   "source": [
    "[8] Haz un objeto \"Persona\" que incluya brazo_izq, brazo_der, antebrazo_izq, antebrazo_der, torzo, cabeza, muslo_izq, muslo_der, pierna_izq, pierna_der, y color como características del objeto. Todas excepto cabeza y color son Segmentos. Cabeza es un número real que corresponde al radio y color es la unión de un RGB y un símbolo. Después haz una función que dada la altura, la posición, dimensión (2 o 3 dimensional) y el color produzca una Persona con una proporción adecuada, centro de torzo en la posición dada y uniendo adecuadamente los segmentos (con una postura \"realista\"). Finalmente agrega un método a plot y plot! para que dibuje una persona en el caso 2D y en el caso 3D. \n",
    "\n",
    "**Nota:** En el caso 3D, dibujar la cabeza es difícil. Pueden hacerlo usando surface, pero el método es diferente si usan pyplot que si usan plotly, que si usan gr. Por lo tanto, creo que es mejor dibujar muchos segmentos dibujando los meridianos de la esfera, lo cual hará que se vea como una figura de alambres, pero igual se ve bien. "
   ]
  },
  {
   "cell_type": "code",
   "execution_count": null,
   "id": "c8a3acb3",
   "metadata": {},
   "outputs": [],
   "source": []
  },
  {
   "cell_type": "markdown",
   "id": "ba083c6b",
   "metadata": {},
   "source": [
    "[9] **Convoluciones:** Una de las ventajas de trabajar con imágenes en Julia (o cualquier lenguaje de programación), es que uno puede hacer funciones que apliquen automáticamente algún efecto que se quiera. Algunas de las transformaciones más útiles son algo que se conoce como convoluciones. Para hacer una convolución primero necesitamos generar una función para mezclar colores de un cuadrado de $(2n+1)\\times (2n+1)$ pixeles (típicamente elegimos $n = 1$), que se le conoce como Kernel. Por ejemplo, digamos que queremos hacer un kernel que promedie colores. Para cada pixel (que es un objeto RGB), obtenemos la cantidad de rojo, verde y azul que tiene usando pixel[i,j].r, pixel[i,j].g y pixel[i,j].b, luego, en la nueva imágen tendremos que pixel_nueva_imagen[i,j] = RGB((pixel[i,j].r+pixel[i,j+1].r+pixel[i,j-1].r+...)/9, (pixel[i,j].g+pixel[i,j+1].g+pixel[i,j-1].g+...)/9, (pixel[i,j].b+pixel[i,j+1].b+pixel[i,j-1].b+...)/9). \n",
    "\n",
    "Aquí hay que notar que cuando i o j corresponden a la frontera, no existirán algunos de los vecinos. En ese caso se puede sustituir el vecino por un color fijo, por ejemplo negro o blanco. \n",
    "\n",
    "Haz una función para obtener la convolución usando la regla del promedio. Pruébalo con varias fotografías, ¿qué notas? es decir ¿qué es lo que parece que hace esta convolución?  "
   ]
  },
  {
   "cell_type": "code",
   "execution_count": null,
   "id": "32cfd904",
   "metadata": {},
   "outputs": [],
   "source": []
  },
  {
   "cell_type": "markdown",
   "id": "7545198f",
   "metadata": {},
   "source": [
    "[10] **Convoluciones-continuación:** Ahora haz una función que dado un Kernel (una matriz de $(2n+1)\\times (2n+1)$ que dice cual es el peso de cada pixel vecino y el mismo pixel involucrado a la hora de sumar (o restar) colores), que obtenga la imágen convolucionada. \n",
    "\n",
    "prueba usando estos algunos de estos kernels: https://en.wikipedia.org/wiki/Kernel_(image_processing) sobre las imágenes de tu preferencia. \n",
    "\n",
    "**Nota:** En la lista de kernels de wikipedia vienen algunos donde pueden salir proporciones negativas de algún color. No tiene sentido $RGB(-1,0,0)$, así que la regla es: si algún color tiene más de 1, entonces se vuelve 1 y si tiene menos de 0, se vuelve 0. "
   ]
  },
  {
   "cell_type": "code",
   "execution_count": null,
   "id": "44b5bd4d",
   "metadata": {},
   "outputs": [],
   "source": []
  },
  {
   "cell_type": "markdown",
   "id": "d34c5cf9",
   "metadata": {},
   "source": [
    "## Ejercicios avanzados\n",
    "\n",
    "**Para sacar 7:** Partícula en una caja cuadrada\n",
    "\n",
    "(i) Haz una función que dadas la posición y velocidad de una partícula en 2D, el lado de un cuadrado, el centro de ese cuadrado y el ángulo de inclinación del cuadrado, encuentre dónde colisionará primero la partícula con el cuadrado (si no colisiona con ninguna cara, entonces regresa (Inf, Inf)).\n",
    "\n",
    "(ii) Haz otra función que \"refleje\" la velocidad de la partícula al colicionar con la cara del cuadrado siguiendo la ley de Snell.\n",
    "\n",
    "(iii) Finalmente haz una animación  de una partícula rebotando dentro de una caja cuadrada de lado 1 rotada un ángulo  𝜋/5 , con velocidad inicial  (1,0)  y posición inicial  (0,0). Esta parte no es trivial, pues debes de poner pasos de tiempo fijos (y pequeños). Es decir, en cada paso de tiempo tienes que avanzar la partícula $\\vec{v}\\cdot dt$ si no hay colisión y si hay colisión debes de hacerlo en 2 pasos, avanzar la partícula hasta que hay la colisión un tiempo $dt'$ y después avanzarla el tiempo $dt-dt'$ ya con la nueva velocidad. En la animación asegúrate de dibujar la trayectoria de la partícula (para esto puedes usar tus objetos Segmento). \n"
   ]
  },
  {
   "cell_type": "code",
   "execution_count": null,
   "id": "0272d1e2",
   "metadata": {},
   "outputs": [],
   "source": []
  },
  {
   "cell_type": "markdown",
   "id": "c414feb3",
   "metadata": {},
   "source": [
    "**Para sacar 8** En este problema necesitarás instalar la paquetería <a href=\" https://juliaimages.org/v0.21/imagesegmentation/\">ImageSegmentation</a>. Instala la paquetería si aún no la tienes y cárgala. \n",
    "\n",
    "El propósito es que obtengas una forma de obtener la posición y área de objetos automáticamente. Para hacer las cosas simples, nos restringiremos a fotos de objetos en una hoja de papel blanco (para que el contraste sea mayor). Tienes que hacer una función que dada una foto y algunos parámetros de \"búsqueda\", encuentre todos los objetos de la foto, su posición y el número de pixeles (equivalente al área). \n",
    "\n",
    "Para entender como hacer esto vamos a revisar el ejemplo de las monedas de la paquetería ImagesSegmentation: \n",
    "\n",
    "using Random\n",
    "function get_random_color(seed)\n",
    "    Random.seed!(seed)\n",
    "    rand(RGB{N0f8})\n",
    "end\n",
    "\n",
    "1. using Images, ImageSegmentation\n",
    "2. img = load(download(\"http://docs.opencv.org/3.1.0/water_coins.jpg\"));\n",
    "3. bw = Gray.(img) .> 0.5;\n",
    "4. dist = 1 .- distance_transform(feature_transform(bw));\n",
    "5. markers = label_components(dist .< -15);\n",
    "6. segments = watershed(dist, markers)\n",
    "7. map(i->get_random_color(i), labels_map(segments)) .* (1 .-bw)\n",
    "\n",
    "\n",
    "La función get_random_color(seed), sólo genera un color aleatoriamente para cada número que se de, pero siempre el mismo color para un mismo número. Se podría cambiar por una lista de colores y ya. El resto del código lo explico a continuación:\n",
    "\n",
    "En la primera línea se cargan las paqueterías, la segunda es para cargar la imágen (puedes aquí cargar una imagen propia). En la tercera línea se hace una matriz de \"true\" y \"false\", dependiendo de si la escala en grises es mayor o menor que 0.5 para cada pixel. Aquí puedes cambiar el 0.5 por otra cantidad. Es uno de los parámetros de identificación. \n",
    "\n",
    "La línea 4 es un poco más complicada, pero lo importante es que obtiene la transformada de la distancia, lo cual podemos entenderlo de la siguiente forma. Pensemos en la imagen como una hoja de papel con manchas que evitan que se prenda el papel en cierto grado. Si prendemos fuego desde las orillas del papel, la transformada de distancia nos diría en cada pixel cuánto tardó en quemarse desde que se prendió fuego a las orillas (si dibujas un heatmap de dist, verás esos \"tiempos de quemado\"). \n",
    "\n",
    "En la **línea 5** es la más importante, obtiene una matriz con números enteros. Cada elemento de la matriz corresponde a un pixel y cada número a qué objeto corresponde. Uno puede jugar un poco con ese -15 para ver qué objetos obtiene. \n",
    "\n",
    "La línea 6 se genera una segmentación de la imagen. Prueba heatmap(segments.image_indexmap) para que veas cómo se segmenta la imagen. Cómo lo hace, pues tiene que ver con la distancia que se calculó y reconocer que hay un fondo homogeneo. Entonces, digamos que cada marker emite alguna sustancia. Localiza dónde se encuentran las sustancias por primera vez y así segmenta la imagen. \n",
    "\n",
    "Finalmente la **línea 7** asigna un color aleatoria a cada segmento y después multiplica esto por 1-bw, que es una matriz con 0 si no tiene moneda y 1 si la tiene, de forma que el resultado una matriz de colores, negro si no tienen moneda y algún color aleatorio si sí tiene. \n",
    "\n",
    "Entonces, en el problema tienes que primero hacer una función para transformar las coordenadas de los elementos de una matriz en coordenadas en el espacio $x,y$. Es decir, que cada pixel tenga una coordenada. Luego, hacer una función que dados los dos parámetros (el 0.5 y el -15 en el ejemplo) genere una matriz de enteros donde se tenga 0 si no hay un objeto y un número que corresponda al marker si sí hay objeto. Luego, debes hacer otra función que dada una matriz de enteros $A$, obtenga la posición promedio de los elementos de $A$ que tienen como valor $n$ para cada valor $n$ de $A$. Esa función también debe arrojar el número de elementos de $A$ que tienen valor $n$. Es decir, la función debe arrojar 2 listas, una con las coordenadas de los $N$ objetos y otra con el número de pixeles de los $N$ objetos. Finalmente une todoo para hacer la función que se pide (dada la imagen y los dos parámetros obtener la posición y áreas de todos los objetos). \n",
    "\n",
    "Prueba tu función con una fotografía (que incluyas en la tarea) de varias monedas sobre una hoja de papel blanco. \n",
    "\n"
   ]
  },
  {
   "cell_type": "code",
   "execution_count": null,
   "id": "083d9a16",
   "metadata": {},
   "outputs": [],
   "source": []
  },
  {
   "attachments": {
    "image.png": {
     "image/png": "[encoded data removed]"
    }
   },
   "cell_type": "markdown",
   "id": "ec5bcf09",
   "metadata": {},
   "source": [
    "**Para sacar 9:** Como dijimos en un problema anterior, hacer gráficas usando surface es latoso, porque gr, pyplot y plotly tienen diferentes formatos y ninguno es tan agradable. En particular, graficar un poliedro es latoso. Para superar esto se puede generar una función para hacer dibujos 3D desde los 2D (como de hecho se hace siempre) o bien, recurrir a otra paquetería. \n",
    "\n",
    "En este problema se trata de hacer una función para graficar un objeto Poliedro usando perspectiva. Debes agregar los metodos a plot y una plot! para graficar un poliedro, para lo cual tendrás que dar además una \"posición de la cámara\" y la \"dirección de la cámara\" (ver figura).  \n",
    "\n",
    "Deberás hacer la proyección 2D del poliedro según la posición y dirección de la cámara, pero debes de considerar que los objetos se ven más pequeños si están más lejos de la cámara, es decir, la posición de los vértices se debe de modificar (sigue la idea de la figura).  \n",
    "\n",
    "![image.png](attachment:image.png)\n",
    "\n",
    "Prueba tus funciones dibujando varios cubos en posiciones (y giros) aleatorias. \n",
    "\n",
    "**Nota:** <a href=\"https://makie.juliaplots.org/stable/Makie\">Makie</a> es en realidad la buena opción en estos casos. Es una paquetería más poderosa y más bonita que Plots y funciona muy bien para 3D, pero tiene varias dificultades (por las que no la incluí en este curso). Aún así los motivo a revisar la paquetería, sólo háganlo en un notebook aparte, pues es incompatible con Plots. Es decir, no es para esta tarea, es digamos, conocimiento fuera del curso que les puede servir en el futuro. "
   ]
  },
  {
   "cell_type": "code",
   "execution_count": null,
   "id": "7a0d305f",
   "metadata": {},
   "outputs": [],
   "source": []
  },
  {
   "cell_type": "markdown",
   "id": "1f0bfc26",
   "metadata": {},
   "source": [
    "**Para sacar 10:** **Dimensión fractal:** Una idea \"intuitiva\" para calcular la dimensión fractal de una figura 2D, consiste en cuadricular la imagen que contiene la figura y después contar el número $N$ de cuadrados que contienen parte de la figura como función de la longitud $\\epsilon$ del lado de los cuadrados. En ese caso, la dimensión fractal se puede calcular como: \n",
    "\n",
    "$$dim_f = lim_{\\epsilon\\rightarrow 0} \\frac{N(\\epsilon)}{log(1/\\epsilon)}.$$\n",
    "\n",
    "En las imágenes reales (fotografías o dibujos), no existe realmente nada fractal, todo tiene dimensión 2; sin embargo, muchos objetos son aproximadamente fractales, es decir, aunque para $lim_{\\epsilon\\rightarrow 0}$ la dimensión tiende a 2, para valores muy pequeños de $\\epsilon$, $\\frac{N(\\epsilon)}{log(1/\\epsilon)}$ parece tender a un número no entero. \n",
    "\n",
    "Haz una función que dada una imagen, una forma de elegir qué pixeles corresponden a una determinada figura (por ejemplo un rango de colores), calcule $\\frac{N(\\epsilon)}{log(1/\\epsilon)}$. \n",
    "\n",
    "Finalmente, grafica  $\\frac{N(\\epsilon)}{log(1/\\epsilon)}$ vs $\\epsilon$ para las imágenes de fractales que produjiste en el problema 6. También haz la gráfica para la foto de algún rio o algo que creas que es fractal (y que no te cueste demasiado seleccionar los pixeles que corresponden a tu objeto (quizá haciendo previamente una (o varias) convolución(es) adecuada(s))). \n",
    "\n",
    "¿qué conclusiones sacas de esto?\n",
    "\n",
    "**Nota que:** \n",
    "\n",
    "(i) La longitud de la imágen entre $\\epsilon$ no es necesariamente un entero, lo que significa que podría haber cajas en 2 de las fronteras de la imagen que no sean cuadradas y que cuyos lados sean menores que $\\epsilon$. Por lo tanto, conviene que el objeto al que quieres medir la dimensión fractal no toque (y esté suficientemente lejos de) las fronteras de la imagen.  \n",
    "\n",
    "(ii) Si $\\epsilon< 1px$ deberías empezar a ver que $\\frac{N(\\epsilon)}{log(1/\\epsilon)}$ tiene un cambio de comportamiento y tiende a 2 (quizá un poco antes para el caso de una fotografía de un río, arbol, galaxia, etc...). "
   ]
  },
  {
   "cell_type": "code",
   "execution_count": null,
   "id": "826e17c4",
   "metadata": {},
   "outputs": [],
   "source": []
  },
  {
   "cell_type": "markdown",
   "id": "552bc30d",
   "metadata": {},
   "source": [
    "**Para sacar 11:** Haz una función que dada una dirección de la forma  $(x,y,0)$, una rapidez y un tiempo, haga una animación de una Persona de altura  $h=1$  caminando sobre esa recta ese tiempo (el tamaño de los pasos debe ser  $h/2$ ). Trata que la animación sea lo más realista posible (observa qué es lo que haces al caminar, como mueves tus piernas y brazos). \n",
    "\n",
    "Trata de que se vea como el gif animado que adjunto con la tarea. "
   ]
  },
  {
   "cell_type": "code",
   "execution_count": null,
   "id": "5a70f2ef",
   "metadata": {},
   "outputs": [],
   "source": []
  }
 ],
 "metadata": {
  "kernelspec": {
   "display_name": "Julia 1.7.2",
   "language": "julia",
   "name": "julia-1.7"
  },
  "language_info": {
   "file_extension": ".jl",
   "mimetype": "application/julia",
   "name": "julia",
   "version": "1.7.2"
  }
 },
 "nbformat": 4,
 "nbformat_minor": 5
}
