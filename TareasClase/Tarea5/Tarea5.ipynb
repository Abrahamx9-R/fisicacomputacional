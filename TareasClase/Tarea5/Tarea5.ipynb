{
 "cells": [
  {
   "cell_type": "markdown",
   "id": "3005779d",
   "metadata": {},
   "source": [
    "# Tarea 5: Cálculo\n",
    "\n",
    "Equipo:\n",
    "\n",
    "Nombres de cada integrante del equipo.\n",
    "\n",
    "\n",
    "La idea de esta tarea es que adquieran práctica resolviendo problemas de cálculo utilizando las diferentes técnicas vistas. La tarea no la sentirán tan \"práctica\" como las anteriores. La razón es que la aplicación principal es resolver sistemas de ecuaciones algebráicas, que es el tema de la siguiente tanda de videos y tarea. \n",
    "\n",
    "Resolver sistemas de ecuaciones no sólo es importante por el problema algebráico, sino que es además la base para resolver sistemas de ecuaciones diferenciales parciales (casi podría decir, que si se sabe resolver sistemas de ecuaciones algebráicos, se sabe resolver ecuaciones diferenciales parciales) y también se usa para resolver el problema de máximos y mínimos. Es decir, las aplicaciones prácticas de lo visto en esta tanda de videos se verán realmente hasta los siguientes temas. \n",
    "\n",
    "**Nota:** En esta tarea no se permite usar otras paqueterías de cálculo que las ya vistas, pero si quieren usar paqueterías que no sean de cálculo, pueden preguntar, es muy probable que sean autorizadas. \n",
    "\n",
    "## Problemas básicos\n",
    "\n",
    "[1] Escribe el desarrollo de Taylor de la función $f$ al rededor de $x$ hasta orden 4 para variaciones $\\Delta x$, $1.5 \\Delta x$, $2 \\Delta x$, $2.5 \\Delta x$ y $3 \\Delta x$. Multiplica cada desarrollo por un coeficiente diferente $A_1$, $A_{1.5}$, $A_2$, $A_{2.5}$ y $A_3$ y suma los 5 desarrollos. Haciendo $0$ los coeficientes de que multiplican $f(x)$, $f'(x)$, $f''(x)$ y $f^{(3)}(x)$ y $1$ el que multiplica a $f^{(4)}(x)$, obtén un sistema de ecuaciones lineales para los valores de $A_1$, $A_{1.5}$, $A_2$, $A_{2.5}$ y $A_3$. Finalmente resolviendo ese sistema de ecuaciones obtén una fórmula para $f^{(4)}(x)$ (usa fracciones como 3//5 en vez de 1.5). Prueba tu fórmula con sin(x). ¿Qué tal funciona? Grafica sin(x) y su cuarta diferencial. \n",
    "\n",
    "Nota: En este ejercicio NO puedes usar SymPy! "
   ]
  },
  {
   "cell_type": "code",
   "execution_count": null,
   "id": "b572fb36",
   "metadata": {},
   "outputs": [],
   "source": []
  },
  {
   "cell_type": "markdown",
   "id": "917d1cb3",
   "metadata": {},
   "source": [
    "[2] El proceso anterior lo puedes generalizar dados los coeficientes que multiplican a $\\Delta x$. Haz una función que tenga como argumentos esos coeficientes, el grado de derivada $n$ que se quiere calcular y arroje los valores de las constantes $A_r$. Haz además una función que dadas las constantes $A_r$ y los coeficientes que multiplican a $\\Delta x$, genere una función que calcule la correspondiente derivada. Finalmente convina las funciones anteriores para hacer una función que tenga como argumentos los coefcientes que multiplican a $\\Delta x$ y el grado de la derivada que se quiere calcular y que arroje una función $derivada_n$ que dependa de otra función $f$ y un número, de tal forma que $derviada_n(f,x)$ sea la derivada $n-$ésima de $f$ evaluada en $x$ usando los coeficientes que se dieron. \n",
    "\n",
    "Nota: En este ejercicio NO puedes usar SymPy! "
   ]
  },
  {
   "cell_type": "code",
   "execution_count": null,
   "id": "bb145fb0",
   "metadata": {},
   "outputs": [],
   "source": []
  },
  {
   "cell_type": "markdown",
   "id": "85cd9fca",
   "metadata": {},
   "source": [
    "[3] Revisa cómo varía el error en la **primera** diferencial numérica (usando la versión simple del curso dos veces y un par más que produzcas con tu función del ejercicio 2) de las funciones $sin(x)$, $x^5$, $1/x$ y $tan(1/x)$ para varios valores de $x$ y como función de $\\Delta x$ (lo que en el video puse como $\\Delta t$). Para esto primero obtén analíticamente las derivadas de estas funciones (llamémosle genéricamente $f$ a la función, $f'$ a su derivada y $\\frac{\\Delta f}{\\Delta x}$ a su diferencial numérica). Grafica $\\frac{\\Delta f(x)}{\\Delta x}- f'(x)$ contra $\\Delta x$. Conviene graficar en escala logarítimica, así que los valores de $\\Delta x$ deben ir variando exponencialmente, por ejemplo, cada nuevo valor de $\\Delta x$ que sea $\\Delta x_n = 2 \\Delta x_{n-1}$ comenzando con $\\Delta x_0 = 10^{-10}$. Discute un **poco** tus resultados.\n",
    "\n",
    "Nota: Recuerda que en $\\Delta x$ la derivada numérica tiende a NaN. \n",
    "\n",
    "Nota2: Usa SymPy para obtener las derivadas simbólicas (analíticamente) de las funciones. "
   ]
  },
  {
   "cell_type": "code",
   "execution_count": null,
   "id": "1ee3890f",
   "metadata": {},
   "outputs": [],
   "source": []
  },
  {
   "cell_type": "markdown",
   "id": "a80d6432",
   "metadata": {},
   "source": [
    "[4] Compara el tiempo que tarda en hacer una derivada de orden 5 numéricamente (con 2 métodos, diferenciando 5 veces la función y usando una función que obtenga la quinta diferencial en un solo paso) y simbólicamente. Para el caso de la derivada numérica, haz una gráfica de tiempo de cómputo versus $\\Delta x$. \n",
    "\n",
    "Prueba con diferentes funciones (juega un ratito con SymPy y Benchmarktools), por ejemplo las del ejercicio anterior. ¿Hay algo que haga más lenta o rápida la derivación simbólica?"
   ]
  },
  {
   "cell_type": "code",
   "execution_count": null,
   "id": "9fb1161a",
   "metadata": {},
   "outputs": [],
   "source": []
  },
  {
   "cell_type": "markdown",
   "id": "3983bbc9",
   "metadata": {},
   "source": [
    "[5] Usando SymPy, haz una función para calcular puntos extremales de una función 1D. Explícitamente, obtén la derivada simbólica de una función y después utilizando la función \"solve\" de SymPy resuelve la ecuación $\\frac{df}{dx}(x) = 0$. Pongo un ejemplo abajo de cómo usar la función \"solve\".\n",
    "\n",
    "#######\n",
    "\n",
    "**ejemplo:**\n",
    "\n",
    "@vars x\n",
    "\n",
    "f(x) = x^2+1\n",
    "\n",
    "solve(f(x), x)\n",
    "\n",
    "\\#       Aquí se está resolviendo la ecuación $x^2 +1 = 0$. \n",
    "\n",
    "#######\n",
    "\n",
    "**Nota:** No puedes usar ninguna función para obtener extremales directamente. "
   ]
  },
  {
   "cell_type": "code",
   "execution_count": null,
   "id": "21af5b92",
   "metadata": {},
   "outputs": [],
   "source": []
  },
  {
   "cell_type": "markdown",
   "id": "d5a355ad",
   "metadata": {},
   "source": [
    "[6]  Copia del video (o notebook), el objeto de número dual y los métodos de +, -, /, ^, sin y cos para números duales. Prueba si con esto haca la diferencial automática de tan(x), sino lo hace, agrega el correspondiente método. Además agrega los métodos necesarios para exp. Prueba que con estos métodos haga la derivación automática de  $exp(tan(x))+tan(x)^2$  correctamente."
   ]
  },
  {
   "cell_type": "code",
   "execution_count": null,
   "id": "89c69bad",
   "metadata": {},
   "outputs": [],
   "source": []
  },
  {
   "cell_type": "markdown",
   "id": "2a4e0829",
   "metadata": {},
   "source": [
    "[7] El gradiente de una función $f$ apunta hacia la dirección de máximo crecimiento de dicha función. Esto puede ser útil para encontrar máximos (o mínimos usando $-\\vec{\\nabla} f$) locales. La idea es comenzar en cualquier punto $\\vec{x}_0$ y avanzar una cantidad $\\delta \\epsilon$ en dirección de $\\vec{\\nabla} f(\\vec{x}_0)$, es decir: $\\vec{x}_1 =\\vec{x}_0 +\\vec{\\nabla} f(\\vec{x}_0) \\epsilon$. En cada paso nos acercamos más al máximo. Usa esto para hacer una función que encuentre máximos (o mínimos) locales de una función $f$ dada una adivinanza inicial, un tamaño de paso $\\epsilon$ y una tolerancia $\\Delta$ tal que el valor que encuentre $\\vec{x}_n$ cumpla con $||\\vec{\\nabla} f(\\vec{x}_n)||< \\Delta$. Nota que en realidad $\\Delta$ puede depender de $f(\\vec{x}_n)$ y $\\epsilon$. Es mejor si puedes hacer que tu función sólo dependa de $\\epsilon$ y de $f$. \n",
    "\n",
    "Revisa que tu función avance correctamente el punto haciendo un gif animado del movimiento del punto en 2D que se mueve sobre alguna función (en 1D) con varios máximos y mínimos. También pruebalo sobre una partícula 3D que se mueve sobre una superficie (2D) con varios máximos y mínimos. "
   ]
  },
  {
   "cell_type": "code",
   "execution_count": null,
   "id": "cdb6f13f",
   "metadata": {},
   "outputs": [],
   "source": []
  },
  {
   "cell_type": "markdown",
   "id": "ab7124f3",
   "metadata": {},
   "source": [
    "[8] Usa la idea anterior para dibujar las trayectorias de varias partículas cargadas (no interactuantes) que se mueven al rededor (y dentro) de un triángulo equilátero cuyos vértices tienen cargas fijas, 2 positivas y una negativa. Esta simulación tenderá a acercar a las partículas a algún vértice con carga opuesta y ello termina \"explotando\" la simulación. Para evitarlo, podemos pensar en las cargas de los vértices como pequeñas esferas cargadas y huecas, es decir, si una partícula se acerca más que un $r$ (muy pequeño) de un vértice el potencial $U_i$ debido a ese vértice se vuelve 0. \n",
    "\n",
    "Nota: Recuerda que $\\vec{F} = m \\vec{a} = -\\vec{\\nabla} U(\\vec{x})$. Aquí $U = \\sum_i U_i$ "
   ]
  },
  {
   "cell_type": "code",
   "execution_count": null,
   "id": "f061eb62",
   "metadata": {},
   "outputs": [],
   "source": []
  },
  {
   "cell_type": "markdown",
   "id": "e4f8c033",
   "metadata": {},
   "source": [
    "[9] Haz una función que calcule la integral de linea de una función 1D (usando la regla de Simpson y diferenciación automática o numérica) entre 2 valores de x. Esta debe tener como argumentos la función que se integrará y los límites de integración. \n",
    "\n",
    "Ahora, supón que quieres hacer un techo de lámina de esos que tienen onditas que mida $3m \\times 2m$ y las onditas estén a lo largo del lado de $3m$. Las ondas siguien la función $f(x, y) = sin(x)$. ¿De qué dimensiones necesitas tu lámina inicial (antes de formar las onditas)? (por supuesto, necesitas integrar numéricamente, por simple que suena el problema, no se puede resolver analíticamente!!)."
   ]
  },
  {
   "cell_type": "code",
   "execution_count": null,
   "id": "f367ea55",
   "metadata": {},
   "outputs": [],
   "source": []
  },
  {
   "cell_type": "markdown",
   "id": "5d4c1ba0",
   "metadata": {},
   "source": [
    "[10] Generaliza la función de arriba a varias dimensiones. Es decir, se quiere calcular la integral $\\int_C f(s) ds$, donde $f$ es una función que se evalua sobre una curva $C$, es decir $f:C \\rightarrow \\mathbb{R}$. Para esto requieres parametrizar $C$ con una función $\\vec{r}(t)$. Esto implica que los argumentos de tu función serán $f$, $r$ y el intervalo de $t$. \n",
    "\n",
    "Utiliza esta función para calcular el trabajo (energía mínima) de mover una nave (de masa 1) de la tierra a la luna. Considera la influencia de la tierra, sol y luna y luego sólo considera la influencia de tierra y luna. "
   ]
  },
  {
   "cell_type": "code",
   "execution_count": null,
   "id": "677bd6d2",
   "metadata": {},
   "outputs": [],
   "source": []
  },
  {
   "cell_type": "markdown",
   "id": "a6ebc27c",
   "metadata": {},
   "source": [
    "## Problemas avanzados: "
   ]
  },
  {
   "cell_type": "markdown",
   "id": "1de3f674",
   "metadata": {},
   "source": [
    "Para sacar 7: Números duales: Pensemos en la multiplicación $(a+\\epsilon b)(c+ \\epsilon d) = ac+\\epsilon (bc+ad) + \\epsilon^2 bd$. Si $\\epsilon$ es pequeño, podemos despreciar su cuadrado y quedarnos con $(a+\\epsilon b)(c+ \\epsilon d) \\approx ac+\\epsilon (bc+ad)$. Con esta regla podemos definir los números duales. Igual que en los complejos tenemos el número $i$ que nos sirve para definir la parte imaginaria, en los duales tenemos el número $\\epsilon$ que nos sirve para definir la diferencial. \n",
    "\n",
    "Muestra analíticamente que esta regla multiplicativa se puede obtener si representamos los números duales como las matrices: \n",
    "$$D(a,b) = \\begin{pmatrix}\n",
    "a & b \\\\\n",
    "0 & a\n",
    "\\end{pmatrix}$$\n",
    "usando la multiplicación habitual de matrices.\n",
    "\n",
    "Usa esto para hacer una nueva función de derivada automática. Prueba que ambas funciones obtengan los mismos resultados sobre diferentes funciones y mide sus tiempos de cómputo usando BenchmarkTools. ¿Qué versión es más rápida? Esta versión tiene la ventaja que la mayoría de los métodos ya están definidos!"
   ]
  },
  {
   "cell_type": "code",
   "execution_count": null,
   "id": "8d0eb7d5",
   "metadata": {},
   "outputs": [],
   "source": []
  },
  {
   "cell_type": "markdown",
   "id": "135dfc2b",
   "metadata": {},
   "source": [
    "Para sacar 8: Haz una función que no se pueda derivar simbólicamente (ni con derivación automática), pero sí exista su derivada numérica. Grafica la función y sus primeras 3 derivadas numéricas. \n"
   ]
  },
  {
   "cell_type": "code",
   "execution_count": null,
   "id": "28fc6b7a",
   "metadata": {},
   "outputs": [],
   "source": []
  },
  {
   "cell_type": "markdown",
   "id": "a7ef0413",
   "metadata": {},
   "source": [
    "Para sacar 9: Un polinomio usualmente se escribe en la forma $a_0 + a_1 x + a_2 x^2 + \\dots + a_n x^n$, con $n+1$ coeficientes para un polinomio de grado $n$. Haz una función que dada una función $f$ y un vector $\\vec{x}$ con $n+1$ elementos, calcule los coeficientes $a_i$ del polinomio de Lagrange que pasa por $(x_0, f(x_0)), (x_1, f(x_1)), \\dots, (x_n, f(x_n))$. Utiliza esta función para hacer otra que calcula la integral de una función dada (primero calcula los coeficientes del polinomio de Lagrange con n puntos y apartir de eso calcula la integral (o derivada)). "
   ]
  },
  {
   "cell_type": "code",
   "execution_count": null,
   "id": "262d1be7",
   "metadata": {},
   "outputs": [],
   "source": []
  },
  {
   "cell_type": "markdown",
   "id": "d833b505",
   "metadata": {},
   "source": [
    "Para sacar 10 (integrales múltiples): Haz una función que dado un polígono 2D (un objeto Polígono) y una función de superficie $f(x,y)$, obtenga la integral de área de $f(x,y)$ en el polígono. "
   ]
  },
  {
   "cell_type": "code",
   "execution_count": null,
   "id": "36be8fec",
   "metadata": {},
   "outputs": [],
   "source": []
  },
  {
   "cell_type": "markdown",
   "id": "c66e4a01",
   "metadata": {},
   "source": [
    "**Este ejercicio es particularmente largo, pero bonito. Por lo tanto, el problema lo considero de 12 pts y no de 11, como típicamente.**\n",
    "\n",
    "Para sacar 12: Generaliza la idea de la interpolación de Lagrange para un arreglo de puntos en 2D. Usa esto para hacer una función que dada una imagen y las medidas de la imagen $w$ y$h$ (dos valores reales que uno da para fijar qué unidades representa cada pixel), nos arroje una función que dada una posición cualquiera $(x,y)$ nos de la intensidad en una escala de grises. Es decir, la función debe primero convertir la imagen a una escala de grises (usa la función Gray de la paquetería Colors para esto); después debe de transformar cada pixel (es decir, los índices $i,j$ de la matriz de colores RGB) en una posición $(x_j,y_i)$ y su intensidad (en grises) $f(x_i,y_i)$, donde $x_i \\in [0,w]$ y $y_i\\in [0,h]$ y $f(x_i,y_i) = gray.(Imagen_{grises})[i,j]$; finalmente, con todas las triadas $(x_i,y_i,f(x_i,y_i))$ debe obtener el polinomio de interpolación $f(x,y)$, con el cual se puede calcular la intensidad en $(x,y)$. \n",
    "\n",
    "Finalmente, aplica esto para incrementar la calidad de una imagen (por cada pixel ahora puedes tener 4 intensidades con las cuales construir un nuevo pixel), probándolo con una fotografía de pocos pixeles e incrementando su pixelaje 4 veces (aumentando al doble la resolución en $x$ y en $y$). ¿pasa lo que esperabas?\n",
    "\n",
    "**Nota:** No es necesario que se use la escala de grises, puedes usar de hecho los colores rojo, azul y verde como las instensidades y obtener para cada imagen 3 interpolaciones con lo cual reconstruyas la imagen a todo color. \n"
   ]
  },
  {
   "cell_type": "code",
   "execution_count": null,
   "id": "84c43883",
   "metadata": {},
   "outputs": [],
   "source": []
  }
 ],
 "metadata": {
  "kernelspec": {
   "display_name": "Julia 1.6.1",
   "language": "julia",
   "name": "julia-1.6"
  },
  "language_info": {
   "file_extension": ".jl",
   "mimetype": "application/julia",
   "name": "julia",
   "version": "1.6.1"
  }
 },
 "nbformat": 4,
 "nbformat_minor": 5
}
