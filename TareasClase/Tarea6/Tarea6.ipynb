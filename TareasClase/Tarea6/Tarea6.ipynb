{
 "cells": [
  {
   "cell_type": "markdown",
   "id": "61be5605",
   "metadata": {},
   "source": [
    "# Tarea 6: Ecuaciones algebráicas\n",
    "\n",
    "Equipo:\n",
    "\n",
    "Nombres de cada integrante del equipo.\n",
    "\n",
    "Esta tarea tiene 2 intenciones principales. Por un lado introducirlos al mundo de los mapeos no lineales (que es una parte central en el estudio de sistemas dinámicos) y por otro que adquieran experiencia resolviendo sistemas de ecuaciones algebráicas. Esta última parte es importante por las muchas aplicaciones que tiene. Por ejemplo, en la solución de ecuaciones diferenciales parciales o en problemas de probabilidad. \n",
    "\n",
    "## Problemas básicos\n",
    "\n",
    "[1] En el video dimos argumentos heurísticos de por qué los puntos fijos atractivos deben tener su derivada en el intervalo $(-1, 1)$. Formaliza estos argumentos para demostrar que es así. "
   ]
  },
  {
   "cell_type": "markdown",
   "id": "c1410741",
   "metadata": {},
   "source": [
    " "
   ]
  },
  {
   "cell_type": "markdown",
   "id": "292f0358",
   "metadata": {},
   "source": [
    "[2] Generaliza el algoritmo babilónico para obtener raices cuadradas con números complejos... ¿necesitas hacer algo diferente?"
   ]
  },
  {
   "cell_type": "code",
   "execution_count": null,
   "id": "e36ec5df",
   "metadata": {},
   "outputs": [],
   "source": []
  },
  {
   "cell_type": "markdown",
   "id": "ac1bc80b",
   "metadata": {},
   "source": [
    "[3] Generaliza el aglgoritmo babilónico para obtener raices $n$-esimas de un número. "
   ]
  },
  {
   "cell_type": "code",
   "execution_count": null,
   "id": "60c11478",
   "metadata": {},
   "outputs": [],
   "source": []
  },
  {
   "cell_type": "markdown",
   "id": "719e59e1",
   "metadata": {},
   "source": [
    "[4] Busca un mapeo (o varios) que obtenga las raices de las ecuaciones (al menos una raiz, pero si logran varias, es mejor):\n",
    "\n",
    "(a) $3x^2 -e^x = 0$\n",
    "\n",
    "\n",
    "(b) $ x- cos(x)  = 0 $\n",
    "\n",
    "Además dibuja el diagrama de Cobweb (que programaste en la tarea 3) para tus mapeos (así puedes ver \"fácilmente\" si resuelve para varias raíces y cuáles). "
   ]
  },
  {
   "cell_type": "code",
   "execution_count": null,
   "id": "7856c40c",
   "metadata": {},
   "outputs": [],
   "source": []
  },
  {
   "cell_type": "markdown",
   "id": "b4f39bd1",
   "metadata": {},
   "source": [
    "[5] Utilizando el algoritmo de Newton y la derivación automática, haz una función que tenga como argumentos otra función $f : \\mathbb{R} \\rightarrow \\mathbb{R}$, un valor de adivinanza $x_0$, un valor de tolerancia prefijado $\\delta x$ y si lo que se quiere encontrar es un máximo o un mínimo (prefijado en mínimo) y que encuentre algún máximo o mínimo en la función o bien arroje un error de \"desbordamiento\" cuando no logre encontrar el extremal solicitado. Para esto usa la función **OverflowError()** y **throw()**. Por ejemplo:\n"
   ]
  },
  {
   "cell_type": "code",
   "execution_count": null,
   "id": "8a387163",
   "metadata": {},
   "outputs": [],
   "source": [
    "using LinearAlgebra\n",
    "function prueba(x)\n",
    "    contador = 0\n",
    "    while norm(x) < 1 && contador < 1e5\n",
    "        contador += 1\n",
    "        x += x^2\n",
    "    end\n",
    "    if norm(x) < 1\n",
    "         throw(OverflowError(\"the initial value stays in the complex circle of radius 1\"))\n",
    "    else \n",
    "        return contador\n",
    "    end\n",
    "end\n",
    "prueba(0.1 + 0.2*im)"
   ]
  },
  {
   "cell_type": "code",
   "execution_count": null,
   "id": "5054cff0",
   "metadata": {},
   "outputs": [],
   "source": []
  },
  {
   "cell_type": "markdown",
   "id": "04b92edd",
   "metadata": {},
   "source": [
    "[6] La densidad de probabilidad de encontrar una partícula en la posición $x$ es $\\rho(y)dy = \\frac{1}{\\sigma \\sqrt{2\\pi}}  e^{-\\frac{1}{2}\\left(\\frac{y - \\mu}{\\sigma }\\right)^2}dy$, donde $\\sigma  = 1.2$ y $\\mu = 5$. Si integramos esta densidad entre $a$ y $b$ obtenemos la probabilidad de encontrar la partícula en el intervalo $[a,b]$. Buscaremos en el rango de valores $[\\mu -x, \\mu +x]$. ¿Cuanto vale $x$ para que la probabilidad de encontrar la partícula sea $0.5$?\n",
    "\n",
    "Nota: puedes resolver esto por cualquier método, Punto fijo, Bisección, Newton o intervalos."
   ]
  },
  {
   "cell_type": "code",
   "execution_count": null,
   "id": "471a0a85",
   "metadata": {},
   "outputs": [],
   "source": []
  },
  {
   "cell_type": "markdown",
   "id": "db0dfd70",
   "metadata": {},
   "source": [
    "[7] Utilizando intervalos, haz una función que encuentre el mínimo global (el intervalo donde se encuentra) de una función si tiene algún mínimo distinto de $-\\inf$ y que arroje un DomainError si no existe el mínimo (o no lo puede encontrar). Prueba tu función con $ x^2 + 10\\sin(2x)$ y alguna otra función exótica (con muchos mínimos locales que quieras probar. "
   ]
  },
  {
   "cell_type": "code",
   "execution_count": null,
   "id": "db6aa614",
   "metadata": {},
   "outputs": [],
   "source": []
  },
  {
   "cell_type": "markdown",
   "id": "2c856acb",
   "metadata": {},
   "source": [
    "[8] Prueba el método de Newton expuesto en los videos (o notebook) con ecuaciones en los números complejos. Si no funciona, corrígelo (genelarizalo) para obtener soluciones a ecuaciones complejas. Pruebalo con algunas polinomios y alguna ecuación trasendental. \n",
    "\n",
    "¿Discute un poco por qué funciona o no funciona el algoritmo del video usando números complejos? Nota que estás cambiando de objetos Real, a Complex. ¿funcionará con por ejemplo cuaterniones?¿qué necesitarías para que funcionara con algún objeto numérico que te inventes?"
   ]
  },
  {
   "cell_type": "code",
   "execution_count": null,
   "id": "c2d9e018",
   "metadata": {},
   "outputs": [],
   "source": []
  },
  {
   "cell_type": "markdown",
   "id": "ab67d912",
   "metadata": {},
   "source": [
    "**Los siguientes ejercicios son en buena medida del tema de Imágenes de la tarea 3, pero como requieren entender que es un mapeo y el método de Newton, me decidí por ponerlos en esta tarea.** En los problemas avanzados también hay un par que son una mezcla entre el tema de Imágenes y el tema de solución de ecuaciones algebráicas y mapeos. \n",
    "\n",
    "[9] Considera el mapeo cuadrático $z_n = z_{n-1}^2 + c$, donde $z_n$ y $c$ son números complejos. \n",
    "\n",
    "(i) Demuestra que el mapeo no converge si $|z_n|>2$ para algún valor de $n$.  \n",
    "\n",
    "(ii) Haz una función que dado $c$, $z_0$ y $n$ arroje $true$ y $|z_n|$ si ningún valor de $|z_i|$ con $i\\leq n$ es mayor que 2 y false y $n-i+1$ si $|z_i|$ es el primer valor mayor que 2. Si arroja false significa que la sucesión no converge. Si arroja true significa que \"posiblemente\" converje. $n-i+1$ es a cuantos pasos quedó de \"considerarse que sí convergiera\". Es una medida qué tan lento se \"sale de la convergencia\". $|z_n|$ en el caso de que se considere que converja, es aproximadamente a qué valor converge. \n",
    "\n",
    "(iii) Fractal de Mandelbrot. Los números complejos se pueden expresar en el plano (plano complejo), donde la parte imaginaria es el eje $y$ y la parte real es el  eje $x$. Considera $z_0 = 0$. Queremos saber qué valores de $c$ forman una suscesión que converge. Utilizando la paquetería Images (y el truco para convertir coordenadas en pixeles), haz una función que dibuje en negro todos los valores de $c$ que \"convergen\" (para n = 100, por ejemplo) y en una escala de colores basada en $n-i+1$, que sea más oscura entre más cerca esté de $0$ que dibuje los puntos que no convergen. \n",
    "\n",
    "(iv) Fractal de Julia. Elige algún valor de $c$ que corresponda a las zonas \"negras\" del fractal de Mandelbrot. Entre más cercano a la frontera (sin estar sobre la frontera) mejor. El problema es casi idéntico al anterior, excepto que ahora lo que graficarás son los valores de $z_0$ (en vez de los valores de $c$) con los que la sucesión converge.  Intenta graficar 3 versiones, (i) los que convergen sean negros y los que no que tengan un color dependiendo de $n-i+1$. (ii) Que los que no convergen sean negros y los que convergen tengan un color dependiendo de $|z_n|$. (iii) Que todos todos tengan un color, dependiendo de $n-i+1$ en el caso de los que no convergen y de $|z_n|$ en el caso de los que sí convergen. \n",
    "\n",
    "**Nota:** Te recomiendo jugar con tu programa y ver cómo se ve con diferentes valores de $n$ y con diferentes valores de $c$. Por supuesto eso no lo podemos calificar, pero seguramente vas a disfrutarlo y te va a interesar leer sobre el fractal de Julia (y su interesante historia) y el de Mandelbrot. \n",
    "\n",
    "**Nota2:** Como sugerencia de colores, normaliza $n-i+1$ de tal forma que pueda tener valores entre 0 y 1, lo mismo para $|z_n|$ (es decir, divide entre $n$ y entre 2 respectivamente). Con la versión normalizada puedes hacer una ecuación lineal para el rojo, una cuadrática para el verde y una cúbica para el azul (las 3 funciones que vayan de 0 a 1 si su dominio es el intervalo [0,1]). \n",
    "\n",
    "**Nota3:** Una imagen de $1600\\times 1600$ es bastante razonable (no sobre pases los 20Mpx). Y recuerda que como $z_1 = c$, $|c|<2$ (un $|c|>2$ sabemos que generará una suscesión que no converge), por lo tanto el máximo en los límites que vale la pena dibujar es el $-2<x<2$ y $-2<y<2$ (lo que llamé cajax y cajay en el video tendrían que ser $[-2,2]$ y $[-2,2]$). Para los colores, ver Nota2 del siguiente ejercicio. "
   ]
  },
  {
   "cell_type": "code",
   "execution_count": null,
   "id": "6038ec50",
   "metadata": {},
   "outputs": [],
   "source": []
  },
  {
   "cell_type": "markdown",
   "id": "2901cffa",
   "metadata": {},
   "source": [
    "[10] Fractal de Newton: La idea es similar al fractal de Julia, pero esta vez en vez de tomar el mapeo cuadrático, tomamos el mapeo resultado de aplicar el método de Newton a alguna función. Si $f(z)$ es una función en los complejos, entonces $z_n= z_{n-1} - \\frac{f(z_{n-1})}{f'(z_{n-1})}$. Nuevamente, coloreamos la imagen dependiendo de si $z_0$ converge a alguna solución o no lo hace. En este caso no necesariamente se puede descartar la convergencia si $|z_n|>2$, pero se puede poner alguna regla donde desechamos la convergencia si $|z_n|>s$, donde $s$ es un valor dado por el usuario (en base al conocimiento que tenga sobre las posibles soluciones).\n",
    "\n",
    "(i) Haz un programa para obtener el fractal de Newton dada una función $f$ en los complejos y un valor $s$ para determinar cuándo se considera que no converge. La función debe arrojar una imagen con el fractal. \n",
    "\n",
    "(ii) Prueba tu función con varios polinomios, en particular con polinomios de la forma $f(z)  = z^n - 1$."
   ]
  },
  {
   "cell_type": "code",
   "execution_count": null,
   "id": "ff7cb53a",
   "metadata": {},
   "outputs": [],
   "source": []
  },
  {
   "cell_type": "code",
   "execution_count": null,
   "id": "11e2b087",
   "metadata": {},
   "outputs": [],
   "source": []
  },
  {
   "cell_type": "markdown",
   "id": "0c54a02f",
   "metadata": {},
   "source": [
    "## Problemas avanzados\n",
    "\n",
    "Para sacar 7: Haz una función que encuentre los máximos (o mínimos) locales en una función de varias variables usando el método de Newton para sistemas de ecuaciones algebráicas y el gradiente numérico o vía diferenciación automática (puedes usar ForwardDiff). \n",
    "\n",
    "**Nota:** Vas a requerir una adivinanza inicial y el máximo local será uno \"cercano\" a esa adivinanza. No necesitas encontrarlos todos.  "
   ]
  },
  {
   "cell_type": "code",
   "execution_count": null,
   "id": "056c567c",
   "metadata": {},
   "outputs": [],
   "source": []
  },
  {
   "cell_type": "markdown",
   "id": "21c39d41",
   "metadata": {},
   "source": [
    "Para sacar 8: Haz una función para simular de una partícula circular, de masa $m$ y radio $r$ que es lanzada con velocidad inicial $\\vec{v}$ desde una posición inicial $\\vec{x}$, con $x_2>1$. Considera que no hay fricción con el aire, que la aceleración de la gravedad es $g = 9.81$, que hay un suelo \"rugoso\" $f(x) = cos(x^2)\\cdot sin(x)$. Tanto la partícula como el suelo tienen potencial duro, es decir, al colisionar la partícula con el suelo, esta se reflejará siguiendo la ley de Snell. Tu función debe de tomar como argumentos la posición inicial $\\vec{x}$, la velocidad inicial $\\vec{v}$, el $\\delta t$ de cada paso de tiempo y el número de pasos de tiempo $N$ y debe arrojar una animación con $N$ frames, donde se vea el disco moviéndose y el suelo rogoso con el que colisiona. Pruébalo con una velocidad inicial pequeña. "
   ]
  },
  {
   "cell_type": "code",
   "execution_count": null,
   "id": "3009ac4c",
   "metadata": {},
   "outputs": [],
   "source": []
  },
  {
   "attachments": {
    "image-6.png": {
     "image/png": "[encoded data removed]"
    }
   },
   "cell_type": "markdown",
   "id": "696c15fb",
   "metadata": {},
   "source": [
    "Para sacar 9 IFS: Los IFSs son sistemas de funciones iteradas. Pueden imaginar que tienen una especie de fotocopiadora con un sistema de lentes que hace una serie de transformaciones sobre la imagen, la copia, la contrae, la deforma, la traslada y luego repite otra serie de transformaciones sobre la misma imagen, formando un collage de transformaciones. Ahora, piensen que cada fotocopia con esas transformaciones, la vuelven a meter a la fotocopiadora para que les produzca de forma iterada una nueva imagen usando siempre las mismas reglas. Ese proceso, incluyendo la fotocopiadora es un IFS. Nosotros nos vamos a restringir a transformaciones afines (transformaciones lineales (matrices de $2\\times 2$ que representan rotaciones, traslaciones y shearing (no sé como decirlo en español, pero como \"aplastado\", el término es cizallamiento, pero no me gusta) + traslaciones (sumar un vector)). \n",
    "\n",
    "Si las transformaciones son contracciones (reducen la medida de la imagen en alguna métrica) generan un atractor, es decir, hay una imagen (y una única imágen) a la que se tiende si se itera infinitas veces comenzando por cualquier imagen. Para que la imagen se contraiga, basta con que el collage de imágenes quede dentro de un círculo que contenía a la imagen original, esto no es una condición necesaria, pero es suficiente. \n",
    "\n",
    "Si uno toma una \"L\" como imagen inicial (enmarcada en un rectángulo, por ejemplo), puede recuperar toda la información del IFS con una sola iteración de la máquina, obtener las reglas con las que se transforma. Llamaremos a esa primera transformación el \"blue print\". Por ejemplo, en la imágen abajo está en gris la imagen original, y en escala de colores (entre rojo y verde) el blue print de una transformación:\n",
    "![image-6.png](attachment:image-6.png)\n",
    "\n",
    "(i) Haz un IFS que produzca un blue-print más o menos como el de esta imagen. Es decir, haz una serie de transformaciones afines que al aplicarlos a una \"L\" te produzca algo parecido a lo de la imagen al graficarlo. (usa Plots para graficar tus transformaciones. Recuerda usar aspect_ratio = :equal).   \n",
    "\n",
    "(ii) Utiliza tus funciones (de la tarea 3) para transformar pixeles a puntos y puntos a pixeles, para aplicar a una imagen cualquiera tu IFS varias veces (unas 15-30 veces, no más o tardará demasiado). En cada iteración tendrás más o menos 4 veces más puntos, así que después de 20 aplicaciones tendrías unas $10^{12}$ veces más puntos, o sea, demasiado. Para evitar esto divide tu imagen inicial en pixeles, cada punto que obtengas debe caer en un pixel, de forma que nunca tengas más puntos que pixeles, si dos puntos caen en el mismo pixel, entonces son el mismo punto (puedes usar la función unique!() y round() para lograr esto). Una vez realizadas las 15-30 iteraciones, transforma tus puntos a pixeles y vuelve el objeto una imagen. \n",
    "\n",
    "¿Qué imagen obtienes? ¿A qué se parece? **Nota*:** El color del pixel de la imagen inicial no es importante a menos que quieran colorear su resultado final, en cuyo caso necesitan generar una forma de \"sumar colores\". Si no les interesa colorear la imagen final (por simplicidad es lo que les recomiendo), entonces pueden pasar a un sistema binario, 1 si el color cumple una condicción, 0 si no (por ejemplo si en escala de grises su valor numérico es mayor que 0.5), equivalentemente, se considera un punto si es 1, no hay punto si es 0. Juega un poco comenzando con una imagen cualquiera (una foto de tu cara, por ejemplo) y viendo cómo se va transformando después de 1 iteración, 2 iteraciones, etc... \n",
    "\n",
    "(iii) Juega un poco con diferentes transformaciones. Intenta por ejemplo que tu transformación sea generar 3 cuadrados de lado 1/2, acomodados formando una escalrea (eso te dará algo parecido al triángulo de Sierpinsky después de suficientes iteraciones). Ahora rota 90º uno de los cuadrados, o refleja otro, en fin, juega con esa transformación simplona. También juega con la otra produciendo \"arbolitos\", \"flores\", etc. Discute con tus compañeros de equipo lo que observaste y presume en el grupo de telegram las imágenes que obtengas más bonitas!\n",
    "\n",
    "\n",
    "**Nota2:** Este es el problema que puse en sustitución del del teorema del collage (cuntos \"del\" en esta oración). Noten que las imágenes que producen con estos IFS, son bastante sofisticadas. El número de pixeles puede ser gigante. Una imagen de 10Mpx se puede comprimir en $6\\times 4 = 24$ números, que son de 16bits cada uno, así que de más o menos $20MB \\sim 2\\times 10^7 bites$ se pasa a $384bites$!! Estaría increible poder encontrar las respectivas transformaciones para comprimir así de bien cada imagen!! ¿siempre se puede? Sí, siempre existe para cualquier imagen P un LFS que transforma cualquier imagen A en la imagen P (simplemente piensese en la transformación que reduce a un cuadrado del tamaño del pixel y lo traslada a la posición de dicho pixel, eso repetido tantas veces como pixeles en \"1\" haya). El problema es ¿cómo minimizar el número de transformaciónes (si se tienen tantas transformaciones como pixeles no se comprimió la información. Hay estrategias para reducir el número de transformaciones que se requieren, pero actualmente es un problema abierto encontrar el mínimo de transformaciones necesarias para cada imagen. "
   ]
  },
  {
   "cell_type": "code",
   "execution_count": null,
   "id": "c9cdc078",
   "metadata": {},
   "outputs": [],
   "source": []
  },
  {
   "cell_type": "markdown",
   "id": "f5c67794",
   "metadata": {},
   "source": [
    "Para sacar 10: Este ejercicio se trata de obtener una forma de dibujar cortes de una superficie de revolución (por ejemplo un cono para obtener las cónicas). \n",
    "\n",
    "(i) Haz una función que dada otra función $f : \\mathbb{R}^+ \\rightarrow \\mathbb{R}$ (el signo $+$ es para señalar que está definida sólo en los positivos) y dos reales $x$, $y$, lo que arroje sea el vector $\\vec{x} = [x,y,z(x,y)]$ tal que $\\vec{x}$ sea un punto sobre la superficie de rebolución de $z(x) = f(x)$ al rededor del eje $z$. Es decir, \n",
    "\n",
    "(ii) Utiliza surface de Plots (te recomiendo usar plotly()) para hacer una función que dibuje la superficie de revolución dada la función $f$ y un radio (que delimita hasta qué valores de $x$ y $y$ tomar). Prueba tu función con varias superficies de revolución. Notoriamente una recta que pase por el origen y una recta que no pase por el origen, pero algunas otras funciones que se te ocurran. \n",
    "\n",
    "(iii) Haz una función $plano(x,y, \\hat{n}, \\vec{p})$ que arroje el valor de la coordenada $z$ de un plano que pasa por el punto $\\vec{p}$ y que es ortogonal al vector $\\hat{n}$. \n",
    "\n",
    "(iv) Haz una función que dado un plano $\\Pi_0$ (un $\\hat{n}_0$ y un  $\\vec{p}_0$) genere $N$ planos $\\Pi_i$ ortogonales a $\\Pi_0$ que pasen por $\\vec{p}_0$ y que el conjunto de sus vectores ortogonales $\\hat{n}_i$ sea simétrico (forme un polígono regular de $N$ lados). Es decir, dado un $\\hat{n}_0$ y un valor $N$ se deben generar $N$ vectores ortogonales a $\\hat{n}_0$ y de tal forma que los $N$ vectores formen un polígono regular. \n",
    "\n",
    "(v) Si se tiene dos planos ortogonales y una superficie, se tienen 3 ecuaciones algebráicas con 3 variables. Es decir, se puede resolver el sistema de ecuaciones algebráicas para obtener los puntos de intersección. Con lo logrado en el punto anterior, tienes una forma de tener $N$ triadas de 2 planos ortogonales y una superficie, uno de esos planos es el plano $\\Pi_0$, la superficie es la superficie de revolución y el otro plano es cada uno de los planos ortogonales a $\\Pi_0$. Las intersecciones obtenidas en esas triadas todas están en la intersección entre $\\Pi_0$ y la superficie de revolución. Usa esto para hacer una función que obtenga al menos $N$ puntos de intersección entre el un plano $\\Pi_0$ y una superficie de revolución dados $N$, $\\hat{n}_0$,  $\\vec{p}_0$ y $f$. \n",
    "\n",
    "(vi) Prueba tu función con $f(x) = x$ un varios planos, para obtener las cónicas, y también con $f(x) = x+b$, donde $b>0$ es. También prueba con alguna función un poco más rara como $f(x) = x^4-8x^3$. \n",
    "\n",
    "**nota:** El ejercicio se vuelve de 11, si los puntos de intersección que obtiene son TODOS (para lo que necesitan usar intervalos). "
   ]
  },
  {
   "cell_type": "code",
   "execution_count": null,
   "id": "c4220583",
   "metadata": {},
   "outputs": [],
   "source": []
  },
  {
   "cell_type": "markdown",
   "id": "b2293a5a",
   "metadata": {},
   "source": [
    "Para sacar 11: En este problema mediras la constante de Feigenbaum en el mapeo logístico (aunque puedes generalizarlo fácilmente a cualquier mapeo). El mapeo logístico es de la forma $x_{i+1} = f(x_i) = r x_i (1-x_i)$. Dependiendo del valor del parámetro $r$, puede haber valores de $x$ tales que $f^n(x) = x$, donde $n$ es el número de veces que se aplica la función $f$. Si $f(x) = x$, entonces $f^n(x) = x$. Si $x$ cumple con $f^n(x) = x$ vamos a llamar \"el periodo de $x$\" al menor entero positivo $m$ tal que $f^m(x) = x$. Si $x$ tiene periodo $m$ puede ser parte de un conjunto estable o inestable, es decir, un conjunto al que se tiende si se comienza en las cercanías de él, no. Para encontrar los valores con periodo $m$, se tiene que encontrar la intersección entre $f^m(x)$ y la recta identidad (para dudas ver tarea 3, lo de diagramas de Cobweb). Estos puntos no necesariamente tienen periodo $m$, pues podría ser que su periodo fuera menor. Notemos que $f(x)$ es una parábola que pasa por el origen. Esto significa que $0$ es un punto fijo (o de periodo 1) siempre, pues para cualquier valor de $r$, $f(0) = 0$. \n",
    "\n",
    "(i) Demuestra (analíticamente) que $0$ es un punto estable para $0\\leq r\\leq 1$ y deja de ser estable (atractivo) para $r> 1$. Llamamos $r_0$ a $r = 1$ que es donde cambia de comportamiento el diagrama de bifurcación por primera vez. \n",
    "**Nota:** el diagrama de bifurcación se obtiene de graficar el conjunto de puntos estables de periodo $m$ como función de $r$. En este caso ese conjunto es un solo valor, que inicialmente es $x = 0$ y apartir de $r = 1$ cambia a algún otro valor. \n",
    "\n",
    "(ii) Encuentra analíticamente (puedes usar sympy o mathematica o cualquier herramienta simbólica) para qué valor de $r = r_1$ aparece una bifurcación, es decir, ¿cuál es el menor valor de $r$ para el cual hay valores de $x$ con periodo 2 y que sean estables?. Para esto encuentra las soluciones de $f^2(x) = x$. 2 de las soluciones son las soluciones que ya se habían encontrado, es decir, las que son de periodo 1. Las otras dos soluciones serán de periodo 2 y serán estables.  \n",
    "\n",
    "(iii) La siguiente bifurcación se dará cuando $f^4(x) = x$ tenga 8 soluciones reales, cuatro de ellas serán las que ya habías obtenido (las de periodo 1 y periodo 2), las otras cuatro serán las estables (de periodo 4). Este proceso se repite. Cada vez que hay una bifurcación, las soluciones anteriores siguen siendo soluciones de $f^{2^n}(x)$ pero se vuelven inestables, y el resto de las soluciones (las nuevas soluciones) que aparecen son las soluciones estables (es decir, $f^{2^n}(x)$ tiene pendiente entre $-1$ y $1$).  Entonces para obtener $r_n$ se busca el valor mínimo de $r$ donde $f^{2^n}(x) = x$ arroja $2^{n+1}$ soluciones reales. Haz una función que dado $n$ arroje el valor de $r_n$ (la mejor estrategia (creo yo) es usar intervalos, pero no es la única posible, para obtener todas las soluciones reales de $f^{2^n}(x) = x$). \n",
    "\n",
    "(iv) El límite $\\delta = lim_{n\\rightarrow \\infty} \\frac{r_{n+1}-r_{n}}{r_{n}-r_{n-1}}$ se conoce como la constante de Feigenbaum. Es una constante universal, es decir, todos los mapeos 1D (y complejos) que tiene bifurcaciones, cumplen con esta constante. Obtén una aproximación para el mapeo logístico (y si te quieres lucir, luego obtenla para algún otro mapeo). \n",
    "\n",
    "**Nota**: Como hecho curioso, aunque $\\delta$ parece ser un número trasendental, nadie ha podido mostrar ni siquiera que es un número irracional!!! \n",
    "\n"
   ]
  },
  {
   "cell_type": "code",
   "execution_count": null,
   "id": "1ec5a06e",
   "metadata": {},
   "outputs": [],
   "source": []
  }
 ],
 "metadata": {
  "kernelspec": {
   "display_name": "Julia 1.6.1",
   "language": "julia",
   "name": "julia-1.6"
  },
  "language_info": {
   "file_extension": ".jl",
   "mimetype": "application/julia",
   "name": "julia",
   "version": "1.6.1"
  }
 },
 "nbformat": 4,
 "nbformat_minor": 5
}
